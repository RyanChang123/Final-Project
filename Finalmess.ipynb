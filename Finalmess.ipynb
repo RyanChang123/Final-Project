{
 "cells": [
  {
   "cell_type": "code",
   "execution_count": 1,
   "id": "38d7a23b-a503-46c1-97d0-0337a6dbc21e",
   "metadata": {
    "tags": []
   },
   "outputs": [
    {
     "name": "stdout",
     "output_type": "stream",
     "text": [
      "      Market_Weighted_Index_Price\n",
      "Year                             \n",
      "2020                   163.438749\n",
      "2021                   222.309990\n",
      "2022                   185.809803\n",
      "2023                   266.864258\n"
     ]
    }
   ],
   "source": [
    "import pandas as pd\n",
    "\n",
    "def calculate_market_weighted_index(csv_file):\n",
    "    # Load the CSV file\n",
    "    df = pd.read_csv(csv_file, index_col=0)\n",
    "    \n",
    "    # Initialize a dictionary to store the index prices for each year\n",
    "    index_prices = {}\n",
    "\n",
    "    # For each year, calculate the market-weighted index price\n",
    "    years = ['2020', '2021', '2022', '2023']\n",
    "    for year in years:\n",
    "        # Only consider columns for the specified year\n",
    "        close_column = f'{year}_Close'\n",
    "        cap_column = f'{year}_MarketCap'\n",
    "\n",
    "        # Ensure the data is numeric, handling any potential non-numeric types that could arise from missing data\n",
    "        df[close_column] = pd.to_numeric(df[close_column], errors='coerce')\n",
    "        df[cap_column] = pd.to_numeric(df[cap_column], errors='coerce')\n",
    "\n",
    "        # Drop rows where any of the required data is missing\n",
    "        valid_data = df.dropna(subset=[close_column, cap_column])\n",
    "\n",
    "        # Calculate total market capitalization\n",
    "        total_market_cap = valid_data[cap_column].sum()\n",
    "\n",
    "        # Calculate weighted sum of the closing prices\n",
    "        weighted_sum = (valid_data[close_column] * valid_data[cap_column]).sum()\n",
    "\n",
    "        # Calculate the market-weighted index price\n",
    "        if total_market_cap > 0:  # Avoid division by zero\n",
    "            index_price = weighted_sum / total_market_cap\n",
    "        else:\n",
    "            index_price = None\n",
    "        \n",
    "        # Store the index price in the dictionary\n",
    "        index_prices[year] = index_price\n",
    "\n",
    "    # Convert the dictionary to a DataFrame for better visualization and further use\n",
    "    index_prices_df = pd.DataFrame.from_dict(index_prices, orient='index', columns=['Market_Weighted_Index_Price'])\n",
    "    index_prices_df.index.name = 'Year'\n",
    "\n",
    "    return index_prices_df\n",
    "\n",
    "# Example usage\n",
    "csv_file = 'Slow_Grow_Return_MarketCap.csv'\n",
    "index_prices_df = calculate_market_weighted_index(csv_file)\n",
    "print(index_prices_df)\n"
   ]
  },
  {
   "cell_type": "code",
   "execution_count": 2,
   "id": "ea3bf94b-8ca5-4a88-9c9e-ee2e8690aa41",
   "metadata": {
    "tags": []
   },
   "outputs": [
    {
     "name": "stdout",
     "output_type": "stream",
     "text": [
      "      Market_Weighted_Index_Price\n",
      "Year                             \n",
      "2020                   332.570957\n",
      "2021                   463.625380\n",
      "2022                   390.856517\n",
      "2023                   564.568406\n"
     ]
    }
   ],
   "source": [
    "import pandas as pd\n",
    "\n",
    "def calculate_market_weighted_index(csv_file):\n",
    "    # Load the CSV file\n",
    "    df = pd.read_csv(csv_file, index_col=0)\n",
    "    \n",
    "    # Initialize a dictionary to store the index prices for each year\n",
    "    index_prices = {}\n",
    "\n",
    "    # For each year, calculate the market-weighted index price\n",
    "    years = ['2020', '2021', '2022', '2023']\n",
    "    for year in years:\n",
    "        # Only consider columns for the specified year\n",
    "        close_column = f'{year}_Close'\n",
    "        cap_column = f'{year}_MarketCap'\n",
    "\n",
    "        # Ensure the data is numeric, handling any potential non-numeric types that could arise from missing data\n",
    "        df[close_column] = pd.to_numeric(df[close_column], errors='coerce')\n",
    "        df[cap_column] = pd.to_numeric(df[cap_column], errors='coerce')\n",
    "\n",
    "        # Drop rows where any of the required data is missing\n",
    "        valid_data = df.dropna(subset=[close_column, cap_column])\n",
    "\n",
    "        # Calculate total market capitalization\n",
    "        total_market_cap = valid_data[cap_column].sum()\n",
    "\n",
    "        # Calculate weighted sum of the closing prices\n",
    "        weighted_sum = (valid_data[close_column] * valid_data[cap_column]).sum()\n",
    "\n",
    "        # Calculate the market-weighted index price\n",
    "        if total_market_cap > 0:  # Avoid division by zero\n",
    "            index_price = weighted_sum / total_market_cap\n",
    "        else:\n",
    "            index_price = None\n",
    "        \n",
    "        # Store the index price in the dictionary\n",
    "        index_prices[year] = index_price\n",
    "\n",
    "    # Convert the dictionary to a DataFrame for better visualization and further use\n",
    "    index_prices_df = pd.DataFrame.from_dict(index_prices, orient='index', columns=['Market_Weighted_Index_Price'])\n",
    "    index_prices_df.index.name = 'Year'\n",
    "\n",
    "    return index_prices_df\n",
    "\n",
    "# Example usage\n",
    "csv_file = 'Stalwart_Return_MarketCap.csv'\n",
    "index_prices_df = calculate_market_weighted_index(csv_file)\n",
    "print(index_prices_df)\n"
   ]
  },
  {
   "cell_type": "code",
   "execution_count": null,
   "id": "d28f7c96-04f1-4f78-9aae-3de8f4746494",
   "metadata": {},
   "outputs": [],
   "source": []
  }
 ],
 "metadata": {
  "kernelspec": {
   "display_name": "Python 3 (ipykernel)",
   "language": "python",
   "name": "python3"
  },
  "language_info": {
   "codemirror_mode": {
    "name": "ipython",
    "version": 3
   },
   "file_extension": ".py",
   "mimetype": "text/x-python",
   "name": "python",
   "nbconvert_exporter": "python",
   "pygments_lexer": "ipython3",
   "version": "3.11.5"
  }
 },
 "nbformat": 4,
 "nbformat_minor": 5
}
