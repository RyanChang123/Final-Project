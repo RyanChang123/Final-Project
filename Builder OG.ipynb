{
 "cells": [
  {
   "cell_type": "code",
   "execution_count": null,
   "id": "9f7317b2-aad6-4ec1-962f-1b807d6d478e",
   "metadata": {},
   "outputs": [],
   "source": [
    "import pandas as pd\n",
    "import yfinance as yf\n",
    "\n",
    "# Read the dataset\n",
    "data = pd.read_csv(\"modified_net_income_data.csv\")\n",
    "\n",
    "# Filter the dataset to only include the first 50 tickers\n",
    "data = data.head(50)\n",
    "\n",
    "# Function to get forward PE ratio from Yahoo Finance\n",
    "def get_forward_pe(ticker):\n",
    "    try:\n",
    "        # Fetch ticker data from Yahoo Finance\n",
    "        ticker_data = yf.Ticker(ticker)\n",
    "        # Get forward PE ratio\n",
    "        forward_pe = ticker_data.info['forwardPE']\n",
    "        return forward_pe\n",
    "    except:\n",
    "        return None\n",
    "\n",
    "# Apply the function to create the new column\n",
    "data['2023_PE'] = data['Ticker'].apply(get_forward_pe)\n",
    "\n",
    "# Print the modified dataset\n",
    "print(data)"
   ]
  },
  {
   "cell_type": "code",
   "execution_count": null,
   "id": "450df102-33e7-4a1b-b85e-bc251eb15f10",
   "metadata": {},
   "outputs": [],
   "source": [
    "import pandas as pd\n",
    "import yfinance as yf\n",
    "\n",
    "# Read the dataset\n",
    "data = pd.read_csv(\"modified_net_income_data.csv\")\n",
    "\n",
    "# Filter the dataset to only include the first 50 tickers\n",
    "data = data.head(50)\n",
    "\n",
    "# Function to get GICS sector from Yahoo Finance\n",
    "def get_gsector(ticker):\n",
    "    try:\n",
    "        # Fetch ticker data from Yahoo Finance\n",
    "        ticker_data = yf.Ticker(ticker)\n",
    "        # Get GICS sector\n",
    "        gsector = ticker_data.info['sector']\n",
    "        return gsector\n",
    "    except:\n",
    "        return None\n",
    "\n",
    "# Apply the function to create the new column\n",
    "data['Gsector'] = data['Ticker'].apply(get_gsector)\n",
    "\n",
    "# Print the modified dataset\n",
    "print(data)\n"
   ]
  },
  {
   "cell_type": "code",
   "execution_count": null,
   "id": "5d6f7b5c-4813-4f99-8f9a-e209cccaff09",
   "metadata": {},
   "outputs": [],
   "source": [
    "import pandas as pd\n",
    "import yfinance as yf\n",
    "\n",
    "# Read the dataset\n",
    "data = pd.read_csv(\"modified_net_income_data.csv\")\n",
    "\n",
    "# Filter the dataset to only include the first 50 tickers\n",
    "data = data.head(50)\n",
    "\n",
    "# Function to get market capitalization from Yahoo Finance\n",
    "def get_market_cap(ticker):\n",
    "    try:\n",
    "        # Fetch ticker data from Yahoo Finance\n",
    "        ticker_data = yf.Ticker(ticker)\n",
    "        # Get market cap\n",
    "        market_cap = ticker_data.info['marketCap']\n",
    "        return market_cap\n",
    "    except:\n",
    "        return None\n",
    "\n",
    "# Apply the function to create the new column\n",
    "data['2023_MarketCap'] = data['Ticker'].apply(get_market_cap)\n",
    "\n",
    "# Print the modified dataset\n",
    "print(data)\n",
    "\n"
   ]
  }
 ],
 "metadata": {
  "kernelspec": {
   "display_name": "Python 3 (ipykernel)",
   "language": "python",
   "name": "python3"
  },
  "language_info": {
   "codemirror_mode": {
    "name": "ipython",
    "version": 3
   },
   "file_extension": ".py",
   "mimetype": "text/x-python",
   "name": "python",
   "nbconvert_exporter": "python",
   "pygments_lexer": "ipython3",
   "version": "3.11.5"
  }
 },
 "nbformat": 4,
 "nbformat_minor": 5
}
