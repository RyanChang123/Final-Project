{
 "cells": [
  {
   "cell_type": "markdown",
   "id": "64b29c52-978d-4b5d-bbea-0142d29e7a75",
   "metadata": {},
   "source": [
    "# Slow Grower "
   ]
  },
  {
   "cell_type": "code",
   "execution_count": null,
   "id": "f2e49fb1-1afd-420e-8f8e-78a5fefac64a",
   "metadata": {},
   "outputs": [],
   "source": [
    "Need to move input folder files to main in order to avoid redownloading files"
   ]
  },
  {
   "cell_type": "markdown",
   "id": "ae0cc06b-1ae3-46a6-9072-bcdf7d46e6d7",
   "metadata": {},
   "source": [
    "Takes a while to load (15 minutes)"
   ]
  },
  {
   "cell_type": "code",
   "execution_count": 1,
   "id": "ad473154-3532-4927-9341-0d372aaee9ae",
   "metadata": {
    "tags": []
   },
   "outputs": [
    {
     "name": "stdout",
     "output_type": "stream",
     "text": [
      "Error fetching data for AAWW: 'Net Income'\n",
      "Error fetching data for AAXN: 'Net Income'\n",
      "Error fetching data for ABC: 'Net Income'\n",
      "Error fetching data for ABTX: 'Net Income'\n",
      "Error fetching data for ACBI: 'Net Income'\n",
      "Error fetching data for ACC: 'Net Income'\n",
      "Error fetching data for ACER: 'Net Income'\n",
      "Error fetching data for ACIA: 'Net Income'\n",
      "Error fetching data for ACRX: 'Net Income'\n",
      "Error fetching data for ACY: 'Net Income'\n",
      "Error fetching data for ADES: 'Net Income'\n",
      "Error fetching data for ADMP: 'Net Income'\n",
      "Error fetching data for ADMS: 'Net Income'\n",
      "Error fetching data for ADRO: 'Net Income'\n",
      "Error fetching data for ADS: 'Net Income'\n",
      "Error fetching data for ADSW: 'Net Income'\n",
      "Error fetching data for AEGN: 'Net Income'\n",
      "Error fetching data for AERI: 'Net Income'\n",
      "Error fetching data for AEY: 'Net Income'\n",
      "Error fetching data for AFH: 'Net Income'\n",
      "Error fetching data for AFI: 'Net Income'\n",
      "Error fetching data for AFIN: 'Net Income'\n",
      "Error fetching data for AGFS: 'Net Income'\n",
      "Error fetching data for AGLE: 'Net Income'\n",
      "Error fetching data for AGTC: 'Net Income'\n",
      "Error fetching data for AHC: 'Net Income'\n",
      "Error fetching data for AIMC: 'Net Income'\n",
      "Error fetching data for AIMT: 'Net Income'\n",
      "Error fetching data for AJRD: 'Net Income'\n",
      "Error fetching data for AKCA: 'Net Income'\n",
      "Error fetching data for AKER: 'Net Income'\n",
      "Error fetching data for ALBO: 'Net Income'\n",
      "Error fetching data for ALJJ: 'Net Income'\n",
      "Error fetching data for ALNA: 'Net Income'\n",
      "Error fetching data for ALSK: 'Net Income'\n",
      "Error fetching data for ALXN: 'Net Income'\n",
      "Error fetching data for AMAG: 'Net Income'\n",
      "Error fetching data for AMOT: 'Net Income'\n",
      "Error fetching data for AMRB: 'Net Income'\n",
      "Error fetching data for AMRS: 'Net Income'\n",
      "Error fetching data for ANAT: 'Net Income'\n",
      "Error fetching data for ANH: 'Net Income'\n",
      "Error fetching data for ANTM: 'Net Income'\n",
      "Error fetching data for APEN: 'Net Income'\n",
      "Error fetching data for APRN: 'Net Income'\n",
      "Error fetching data for APTS: 'Net Income'\n",
      "Error fetching data for AQUA: 'Net Income'\n",
      "Error fetching data for ARA: 'Net Income'\n",
      "Error fetching data for ARAV: 'Net Income'\n",
      "Error fetching data for ARGO: 'Net Income'\n",
      "Error fetching data for ARNA: 'Net Income'\n",
      "Error fetching data for ARNC: 'Net Income'\n",
      "Error fetching data for ARPO: 'Net Income'\n",
      "Error fetching data for ASFI: 'Net Income'\n",
      "Error fetching data for ASNA: 'Net Income'\n",
      "Error fetching data for ATH: 'Net Income'\n",
      "Error fetching data for ATHX: 'Net Income'\n",
      "Error fetching data for ATNX: 'Net Income'\n",
      "Error fetching data for ATRS: 'Net Income'\n",
      "Error fetching data for ATVI: 'Net Income'\n",
      "Error fetching data for AUTO: 'Net Income'\n",
      "Error fetching data for AVEO: 'Net Income'\n",
      "Error fetching data for AVID: 'Net Income'\n",
      "Error fetching data for AVLR: 'Net Income'\n",
      "Error fetching data for AVYA: 'Net Income'\n",
      "Error fetching data for AWSM: 'Net Income'\n",
      "Error fetching data for AXAS: 'Net Income'\n",
      "Error fetching data for AXE: 'Net Income'\n",
      "Error fetching data for BASI: 'Net Income'\n",
      "Error fetching data for BBBY: 'Net Income'\n",
      "Error fetching data for BCEI: 'Net Income'\n",
      "Error fetching data for BCOR: 'Net Income'\n",
      "Error fetching data for BDGE: 'Net Income'\n",
      "Error fetching data for BGCP: 'Net Income'\n",
      "Error fetching data for BIOC: 'Net Income'\n",
      "Error fetching data for BKI: 'Net Income'\n",
      "Error fetching data for BLL: 'Net Income'\n",
      "Error fetching data for BMCH: 'Net Income'\n",
      "Error fetching data for BMTC: 'Net Income'\n",
      "Error fetching data for BNFT: 'Net Income'\n",
      "Error fetching data for BOCH: 'Net Income'\n",
      "Error fetching data for BOMN: 'Net Income'\n",
      "Error fetching data for BPFH: 'Net Income'\n",
      "Error fetching data for BREW: 'Net Income'\n",
      "Error fetching data for BRG: 'Net Income'\n",
      "Error fetching data for BRKS: 'Net Income'\n",
      "Error fetching data for BSQR: 'Net Income'\n",
      "Error fetching data for BSTC: 'Net Income'\n",
      "Error fetching data for BTN: 'Net Income'\n",
      "Error fetching data for BXS: 'Net Income'\n",
      "Error fetching data for CAI: 'Net Income'\n",
      "Error fetching data for CATB: 'Net Income'\n",
      "Error fetching data for CATM: 'Net Income'\n",
      "Error fetching data for CATS: 'Net Income'\n",
      "Error fetching data for CBB: 'Net Income'\n",
      "Error fetching data for CBIO: 'Net Income'\n",
      "Error fetching data for CBLI: 'Net Income'\n",
      "Error fetching data for CBMG: 'Net Income'\n",
      "Error fetching data for CBTX: 'Net Income'\n",
      "Error fetching data for CCF: 'Net Income'\n",
      "Error fetching data for CCMP: 'Net Income'\n",
      "Error fetching data for CCXI: 'Net Income'\n",
      "Error fetching data for CDAY: 'Net Income'\n",
      "Error fetching data for CDEV: 'Net Income'\n",
      "Error fetching data for CDK: 'Net Income'\n",
      "Error fetching data for CDR: 'Net Income'\n",
      "Error fetching data for CECE: 'Net Income'\n",
      "Error fetching data for CEMI: 'Net Income'\n",
      "Error fetching data for CERC: 'Net Income'\n",
      "Error fetching data for CERN: 'Net Income'\n",
      "Error fetching data for CETV: 'Net Income'\n",
      "Error fetching data for CFMS: 'Net Income'\n",
      "Error fetching data for CFX: 'Net Income'\n",
      "Error fetching data for CGIX: 'Net Income'\n",
      "Error fetching data for CHAP: 'Net Income'\n",
      "Error fetching data for CHMA: 'Net Income'\n",
      "Error fetching data for CHS: 'Net Income'\n",
      "Error fetching data for CIDM: 'Net Income'\n",
      "Error fetching data for CIR: 'Net Income'\n",
      "Error fetching data for CIT: 'Net Income'\n",
      "Error fetching data for CKH: 'Net Income'\n",
      "Error fetching data for CLBS: 'Net Income'\n",
      "Error fetching data for CLCT: 'Net Income'\n",
      "Error fetching data for CLDR: 'Net Income'\n",
      "Error fetching data for CLGX: 'Net Income'\n",
      "Error fetching data for CLI: 'Net Income'\n",
      "Error fetching data for CLNC: 'Net Income'\n",
      "Error fetching data for CLNY: 'Net Income'\n",
      "Error fetching data for CLR: 'Net Income'\n",
      "Error fetching data for CLSN: 'Net Income'\n",
      "Error fetching data for CLUB: 'Net Income'\n",
      "Error fetching data for CLVS: 'Net Income'\n",
      "Error fetching data for CLXT: 'Net Income'\n",
      "Error fetching data for CMD: 'Net Income'\n",
      "Error fetching data for CMO: 'Net Income'\n",
      "Error fetching data for CNBKA: 'Net Income'\n",
      "Error fetching data for CNCE: 'Net Income'\n",
      "Error fetching data for COG: 'Net Income'\n",
      "Error fetching data for CONE: 'Net Income'\n",
      "Error fetching data for CORE: 'Net Income'\n",
      "Error fetching data for CORR: 'Net Income'\n",
      "Error fetching data for COUP: 'Net Income'\n",
      "Error fetching data for COWN: 'Net Income'\n",
      "Error fetching data for CPLG: 'Net Income'\n",
      "Error fetching data for CPST: 'Net Income'\n",
      "Error fetching data for CREE: 'Net Income'\n",
      "Error fetching data for CRTX: 'Net Income'\n",
      "Error fetching data for CRY: 'Net Income'\n",
      "Error fetching data for CSII: 'Net Income'\n",
      "Error fetching data for CSLT: 'Net Income'\n",
      "Error fetching data for CSOD: 'Net Income'\n",
      "Error fetching data for CSU: 'Net Income'\n",
      "Error fetching data for CTB: 'Net Income'\n",
      "Error fetching data for CTG: 'Net Income'\n",
      "Error fetching data for CTIB: 'Net Income'\n",
      "Error fetching data for CTIC: 'Net Income'\n",
      "Error fetching data for CTL: 'Net Income'\n",
      "Error fetching data for CTT: 'Net Income'\n",
      "Error fetching data for CTXS: 'Net Income'\n",
      "Error fetching data for CUB: 'Net Income'\n",
      "Error fetching data for CVA: 'Net Income'\n",
      "Error fetching data for CVIA: 'Net Income'\n",
      "Error fetching data for CVTI: 'Net Income'\n",
      "Error fetching data for CXO: 'Net Income'\n",
      "Error fetching data for CXP: 'Net Income'\n",
      "Error fetching data for CYBE: 'Net Income'\n",
      "Error fetching data for CYTR: 'Net Income'\n",
      "Error fetching data for DISCA: 'Net Income'\n",
      "Error fetching data for DISCK: 'Net Income'\n",
      "Error fetching data for DISH: 'Net Income'\n",
      "Error fetching data for DLPH: 'Net Income'\n",
      "Error fetching data for DNKN: 'Net Income'\n",
      "Error fetching data for DNR: 'Net Income'\n",
      "Error fetching data for DRAD: 'Net Income'\n",
      "Error fetching data for DRE: 'Net Income'\n",
      "Error fetching data for DRNA: 'Net Income'\n",
      "Error fetching data for DS: 'Net Income'\n",
      "Error fetching data for DSPG: 'Net Income'\n",
      "Error fetching data for DVD: 'Net Income'\n",
      "Error fetching data for EBIX: 'Net Income'\n",
      "Error fetching data for EBSB: 'Net Income'\n",
      "Error fetching data for ECHO: 'Net Income'\n",
      "Error fetching data for ECOL: 'Net Income'\n",
      "Error fetching data for ECOM: 'Net Income'\n",
      "Error fetching data for EGOV: 'Net Income'\n",
      "Error fetching data for EIDX: 'Net Income'\n",
      "Error fetching data for EIGI: 'Net Income'\n",
      "Error fetching data for ELGX: 'Net Income'\n",
      "Error fetching data for ELVT: 'Net Income'\n",
      "Error fetching data for ELY: 'Net Income'\n",
      "Error fetching data for EMAN: 'Net Income'\n",
      "Error fetching data for EMCF: 'Net Income'\n",
      "Error fetching data for EMMS: 'Net Income'\n",
      "Error fetching data for ENDP: 'Net Income'\n",
      "Error fetching data for ENOB: 'Net Income'\n",
      "Error fetching data for ENT: 'Net Income'\n",
      "Error fetching data for EPAY: 'Net Income'\n",
      "Error fetching data for EPZM: 'Net Income'\n",
      "Error fetching data for ERI: 'Net Income'\n",
      "Error fetching data for ESBK: 'Net Income'\n",
      "Error fetching data for ESTE: 'Net Income'\n",
      "Error fetching data for ESXB: 'Net Income'\n",
      "Error fetching data for ETFC: 'Net Income'\n",
      "Error fetching data for ETH: 'Net Income'\n",
      "Error fetching data for ETM: 'Net Income'\n",
      "Error fetching data for EV: 'Net Income'\n",
      "Error fetching data for EVOP: 'Net Income'\n",
      "Error fetching data for EXTN: 'Net Income'\n",
      "Error fetching data for EYEG: 'Net Income'\n",
      "Error fetching data for EYES: 'Net Income'\n",
      "Error fetching data for FB: 'Net Income'\n",
      "Error fetching data for FBC: 'Net Income'\n",
      "Error fetching data for FBHS: 'Net Income'\n",
      "Error fetching data for FBM: 'Net Income'\n",
      "Error fetching data for FBSS: 'Net Income'\n",
      "Error fetching data for FCBP: 'Net Income'\n",
      "Error fetching data for FCCY: 'Net Income'\n",
      "Error fetching data for FDEF: 'Net Income'\n",
      "Error fetching data for FEYE: 'Net Income'\n",
      "Error fetching data for FFG: 'Net Income'\n",
      "Error fetching data for FISV: 'Net Income'\n",
      "Error fetching data for FIT: 'Net Income'\n",
      "Error fetching data for FLDM: 'Net Income'\n",
      "Error fetching data for FLIR: 'Net Income'\n",
      "Error fetching data for FLMN: 'Net Income'\n",
      "Error fetching data for FLOW: 'Net Income'\n",
      "Error fetching data for FLXN: 'Net Income'\n",
      "Error fetching data for FMBI: 'Net Income'\n",
      "Error fetching data for FNHC: 'Net Income'\n",
      "Error fetching data for FNJN: 'Net Income'\n",
      "Error fetching data for FOCS: 'Net Income'\n",
      "Error fetching data for FOE: 'Net Income'\n",
      "Error fetching data for FPRX: 'Net Income'\n",
      "Error fetching data for FRAN: 'Net Income'\n",
      "Error fetching data for FRC: 'Net Income'\n",
      "Error fetching data for FRGI: 'Net Income'\n",
      "Error fetching data for FRTA: 'Net Income'\n",
      "Error fetching data for FSB: 'Net Income'\n",
      "Error fetching data for FSCT: 'Net Income'\n",
      "Error fetching data for FTSI: 'Net Income'\n",
      "Error fetching data for FVE: 'Net Income'\n",
      "Error fetching data for GBL: 'Net Income'\n",
      "Error fetching data for GBT: 'Net Income'\n",
      "Error fetching data for GCAP: 'Net Income'\n",
      "Error fetching data for GCP: 'Net Income'\n",
      "Error fetching data for GDP: 'Net Income'\n",
      "Error fetching data for GEC: 'Net Income'\n",
      "Error fetching data for GFED: 'Net Income'\n",
      "Error fetching data for GFN: 'Net Income'\n",
      "Error fetching data for GHL: 'Net Income'\n",
      "Error fetching data for GLIBA: 'Net Income'\n",
      "Error fetching data for GLUU: 'Net Income'\n",
      "Error fetching data for GMO: 'Net Income'\n",
      "Error fetching data for GNC: 'Net Income'\n",
      "Error fetching data for GNCA: 'Net Income'\n",
      "Error fetching data for GNMK: 'Net Income'\n",
      "Error fetching data for GPX: 'Net Income'\n",
      "Error fetching data for GRA: 'Net Income'\n",
      "Error fetching data for GRIF: 'Net Income'\n",
      "Error fetching data for GRUB: 'Net Income'\n",
      "Error fetching data for GSB: 'Net Income'\n",
      "Error fetching data for GSKY: 'Net Income'\n",
      "Error fetching data for GTS: 'Net Income'\n",
      "Error fetching data for GTT: 'Net Income'\n",
      "Error fetching data for GTYH: 'Net Income'\n",
      "Error fetching data for GWB: 'Net Income'\n",
      "Error fetching data for GWGH: 'Net Income'\n",
      "Error fetching data for HBMD: 'Net Income'\n",
      "Error fetching data for HBP: 'Net Income'\n",
      "Error fetching data for HCCI: 'Net Income'\n",
      "Error fetching data for HCFT: 'Net Income'\n",
      "Error fetching data for HCHC: 'Net Income'\n",
      "Error fetching data for HDS: 'Net Income'\n",
      "Error fetching data for HFC: 'Net Income'\n",
      "Error fetching data for HHC: 'Net Income'\n",
      "Error fetching data for HIL: 'Net Income'\n",
      "Error fetching data for HMHC: 'Net Income'\n",
      "Error fetching data for HMSY: 'Net Income'\n",
      "Error fetching data for HMTV: 'Net Income'\n",
      "Error fetching data for HOME: 'Net Income'\n",
      "Error fetching data for HPR: 'Net Income'\n",
      "Error fetching data for HRC: 'Net Income'\n",
      "Error fetching data for HSC: 'Net Income'\n",
      "Error fetching data for HSKA: 'Net Income'\n",
      "Error fetching data for HT: 'Net Income'\n",
      "Error fetching data for HTA: 'Net Income'\n",
      "Error fetching data for HTBX: 'Net Income'\n",
      "Error fetching data for HTGM: 'Net Income'\n",
      "Error fetching data for HWCC: 'Net Income'\n",
      "Error fetching data for HZN: 'Net Income'\n",
      "Error fetching data for HZNP: 'Net Income'\n",
      "Error fetching data for IBKC: 'Net Income'\n",
      "Error fetching data for ICBK: 'Net Income'\n",
      "Error fetching data for ICON: 'Net Income'\n",
      "Error fetching data for ICPT: 'Net Income'\n",
      "Error fetching data for IDRA: 'Net Income'\n",
      "Error fetching data for IEC: 'Net Income'\n",
      "Error fetching data for IHC: 'Net Income'\n",
      "Error fetching data for IIN: 'Net Income'\n",
      "Error fetching data for IIVI: 'Net Income'\n",
      "Error fetching data for IKNX: 'Net Income'\n",
      "Error fetching data for IMGN: 'Net Income'\n",
      "Error fetching data for IMH: 'Net Income'\n",
      "Error fetching data for IMMU: 'Net Income'\n",
      "Error fetching data for INFI: 'Net Income'\n",
      "Error fetching data for INFO: 'Net Income'\n",
      "Error fetching data for INOV: 'Net Income'\n",
      "Error fetching data for INS: 'Net Income'\n",
      "Error fetching data for INT: 'Net Income'\n",
      "Error fetching data for INTL: 'Net Income'\n",
      "Error fetching data for INWK: 'Net Income'\n",
      "Error fetching data for IO: 'Net Income'\n",
      "Error fetching data for IOTS: 'Net Income'\n",
      "Error fetching data for IPHI: 'Net Income'\n",
      "Error fetching data for IRET: 'Net Income'\n",
      "Error fetching data for ISBC: 'Net Income'\n",
      "Error fetching data for ISIG: 'Net Income'\n",
      "Error fetching data for ISNS: 'Net Income'\n",
      "Error fetching data for ISR: 'Net Income'\n",
      "Error fetching data for IVC: 'Net Income'\n",
      "Error fetching data for JASN: 'Net Income'\n",
      "Error fetching data for JAX: 'Net Income'\n",
      "Error fetching data for JCAP: 'Net Income'\n",
      "Error fetching data for JCOM: 'Net Income'\n",
      "Error fetching data for JCS: 'Net Income'\n",
      "Error fetching data for JNCE: 'Net Income'\n",
      "Error fetching data for KBAL: 'Net Income'\n",
      "Error fetching data for KDMN: 'Net Income'\n",
      "Error fetching data for KIN: 'Net Income'\n",
      "Error fetching data for KMPH: 'Net Income'\n",
      "Error fetching data for KNL: 'Net Income'\n",
      "Error fetching data for KRA: 'Net Income'\n",
      "Error fetching data for KSU: 'Net Income'\n",
      "Error fetching data for LAWS: 'Net Income'\n",
      "Error fetching data for LB: 'Net Income'\n",
      "Error fetching data for LCI: 'Net Income'\n",
      "Error fetching data for LDL: 'Net Income'\n",
      "Error fetching data for LEAF: 'Net Income'\n",
      "Error fetching data for LHCG: 'Net Income'\n",
      "Error fetching data for LIVX: 'Net Income'\n",
      "Error fetching data for LJPC: 'Net Income'\n",
      "Error fetching data for LLNW: 'Net Income'\n",
      "Error fetching data for LM: 'Net Income'\n",
      "Error fetching data for LMNX: 'Net Income'\n",
      "Error fetching data for LNDC: 'Net Income'\n",
      "Error fetching data for LOGM: 'Net Income'\n",
      "Error fetching data for LONE: 'Net Income'\n",
      "Error fetching data for LORL: 'Net Income'\n",
      "Error fetching data for LPI: 'Net Income'\n",
      "Error fetching data for LSI: 'Net Income'\n",
      "Error fetching data for LTHM: 'Net Income'\n",
      "Error fetching data for LUB: 'Net Income'\n",
      "Error fetching data for MANT: 'Net Income'\n",
      "Error fetching data for MBII: 'Net Income'\n",
      "Error fetching data for MCF: 'Net Income'\n",
      "Error fetching data for MDLY: 'Net Income'\n",
      "Error fetching data for MDP: 'Net Income'\n",
      "Error fetching data for MEET: 'Net Income'\n",
      "Error fetching data for MFNC: 'Net Income'\n",
      "Error fetching data for MGEN: 'Net Income'\n",
      "Error fetching data for MGI: 'Net Income'\n",
      "Error fetching data for MGLN: 'Net Income'\n",
      "Error fetching data for MGTA: 'Net Income'\n",
      "Error fetching data for MIC: 'Net Income'\n",
      "Error fetching data for MICR: 'Net Income'\n",
      "Error fetching data for MICT: 'Net Income'\n",
      "Error fetching data for MIK: 'Net Income'\n",
      "Error fetching data for MINI: 'Net Income'\n",
      "Error fetching data for MJCO: 'Net Income'\n",
      "Error fetching data for MLHR: 'Net Income'\n",
      "Error fetching data for MLND: 'Net Income'\n",
      "Error fetching data for MLVF: 'Net Income'\n",
      "Error fetching data for MMAC: 'Net Income'\n",
      "Error fetching data for MN: 'Net Income'\n",
      "Error fetching data for MNK: 'Net Income'\n",
      "Error fetching data for MNRL: 'Net Income'\n",
      "Error fetching data for MNTA: 'Net Income'\n",
      "Error fetching data for MOBL: 'Net Income'\n",
      "Error fetching data for MOSY: 'Net Income'\n",
      "Error fetching data for MRLN: 'Net Income'\n",
      "Error fetching data for MRTX: 'Net Income'\n",
      "Error fetching data for MSBF: 'Net Income'\n",
      "Error fetching data for MSGN: 'Net Income'\n",
      "Error fetching data for MSON: 'Net Income'\n",
      "Error fetching data for MTOR: 'Net Income'\n",
      "Error fetching data for MTSC: 'Net Income'\n",
      "Error fetching data for MXIM: 'Net Income'\n",
      "Error fetching data for MYL: 'Net Income'\n",
      "Error fetching data for MYOK: 'Net Income'\n",
      "Error fetching data for MYOS: 'Net Income'\n",
      "Error fetching data for NATI: 'Net Income'\n",
      "Error fetching data for NAV: 'Net Income'\n",
      "Error fetching data for NBEV: 'Net Income'\n",
      "Error fetching data for NBL: 'Net Income'\n",
      "Error fetching data for NCBS: 'Net Income'\n",
      "Error fetching data for NCR: 'Net Income'\n",
      "Error fetching data for NEOS: 'Net Income'\n",
      "Error fetching data for NETE: 'Net Income'\n",
      "Error fetching data for NEWR: 'Net Income'\n",
      "Error fetching data for NGHC: 'Net Income'\n",
      "Error fetching data for NK: 'Net Income'\n",
      "Error fetching data for NLS: 'Net Income'\n",
      "Error fetching data for NLSN: 'Net Income'\n",
      "Error fetching data for NP: 'Net Income'\n",
      "Error fetching data for NPTN: 'Net Income'\n",
      "Error fetching data for NRZ: 'Net Income'\n",
      "Error fetching data for NSEC: 'Net Income'\n",
      "Error fetching data for NTN: 'Net Income'\n",
      "Error fetching data for NUAN: 'Net Income'\n",
      "Error fetching data for NUVA: 'Net Income'\n",
      "Error fetching data for NVIV: 'Net Income'\n",
      "Error fetching data for NVTA: 'Net Income'\n",
      "Error fetching data for NVUS: 'Net Income'\n",
      "Error fetching data for NWHM: 'Net Income'\n",
      "Error fetching data for NXGN: 'Net Income'\n",
      "Error fetching data for NXTD: 'Net Income'\n",
      "Error fetching data for OAS: 'Net Income'\n",
      "Error fetching data for OBCI: 'Net Income'\n",
      "Error fetching data for OBNK: 'Net Income'\n",
      "Error fetching data for ODT: 'Net Income'\n",
      "Error fetching data for OFC: 'Net Income'\n",
      "Error fetching data for ONCS: 'Net Income'\n",
      "Error fetching data for ONDK: 'Net Income'\n",
      "Error fetching data for ORBC: 'Net Income'\n",
      "Error fetching data for OSTK: 'Net Income'\n",
      "Error fetching data for OTEL: 'Net Income'\n",
      "Error fetching data for OTIC: 'Net Income'\n",
      "Error fetching data for PACW: 'Net Income'\n",
      "Error fetching data for PATI: 'Net Income'\n",
      "Error fetching data for PBCT: 'Net Income'\n",
      "Error fetching data for PBIP: 'Net Income'\n",
      "Error fetching data for PCSB: 'Net Income'\n",
      "Error fetching data for PCTI: 'Net Income'\n",
      "Error fetching data for PCYG: 'Net Income'\n",
      "Error fetching data for PDCE: 'Net Income'\n",
      "Error fetching data for PDLI: 'Net Income'\n",
      "Error fetching data for PE: 'Net Income'\n",
      "Error fetching data for PEI: 'Net Income'\n",
      "Error fetching data for PEIX: 'Net Income'\n",
      "Error fetching data for PFBI: 'Net Income'\n",
      "Error fetching data for PFIN: 'Net Income'\n",
      "Error fetching data for PFNX: 'Net Income'\n",
      "Error fetching data for PFPT: 'Net Income'\n",
      "Error fetching data for PFSW: 'Net Income'\n",
      "Error fetching data for PGNX: 'Net Income'\n",
      "Error fetching data for PHAS: 'Net Income'\n",
      "Error fetching data for PICO: 'Net Income'\n",
      "Error fetching data for PIH: 'Net Income'\n",
      "Error fetching data for PKI: 'Net Income'\n",
      "Error fetching data for PLAN: 'Net Income'\n",
      "Error fetching data for PLT: 'Net Income'\n",
      "Error fetching data for PLXP: 'Net Income'\n",
      "Error fetching data for PMBC: 'Net Income'\n",
      "Error fetching data for PQG: 'Net Income'\n",
      "Error fetching data for PRAH: 'Net Income'\n",
      "Error fetching data for PRCP: 'Net Income'\n",
      "Error fetching data for PRGX: 'Net Income'\n",
      "Error fetching data for PRNB: 'Net Income'\n",
      "Error fetching data for PRSC: 'Net Income'\n",
      "Error fetching data for PRSP: 'Net Income'\n",
      "Error fetching data for PRTK: 'Net Income'\n",
      "Error fetching data for PRTY: 'Net Income'\n",
      "Error fetching data for PRVB: 'Net Income'\n",
      "Error fetching data for PS: 'Net Income'\n",
      "Error fetching data for PSB: 'Net Income'\n",
      "Error fetching data for PTE: 'Net Income'\n",
      "Error fetching data for PTI: 'Net Income'\n",
      "Error fetching data for PTLA: 'Net Income'\n",
      "Error fetching data for PTVCA: 'Net Income'\n",
      "Error fetching data for PTVCB: 'Net Income'\n",
      "Error fetching data for PUB: 'Net Income'\n",
      "Error fetching data for PVAC: 'Net Income'\n",
      "Error fetching data for PZN: 'Net Income'\n",
      "Error fetching data for QADA: 'Net Income'\n",
      "Error fetching data for QADB: 'Net Income'\n",
      "Error fetching data for QEP: 'Net Income'\n",
      "Error fetching data for QTS: 'Net Income'\n",
      "Error fetching data for QUMU: 'Net Income'\n",
      "Error fetching data for QUOT: 'Net Income'\n",
      "Error fetching data for RAD: 'Net Income'\n",
      "Error fetching data for RAVN: 'Net Income'\n",
      "Error fetching data for RBNC: 'Net Income'\n",
      "Error fetching data for RCII: 'Net Income'\n",
      "Error fetching data for RE: 'Net Income'\n",
      "Error fetching data for RELV: 'Net Income'\n",
      "Error fetching data for REPH: 'Net Income'\n",
      "Error fetching data for RESI: 'Net Income'\n",
      "Error fetching data for RESN: 'Net Income'\n",
      "Error fetching data for RETA: 'Net Income'\n",
      "Error fetching data for REV: 'Net Income'\n",
      "Error fetching data for RFP: 'Net Income'\n",
      "Error fetching data for RLGY: 'Net Income'\n",
      "Error fetching data for RLH: 'Net Income'\n",
      "Error fetching data for RNDB: 'Net Income'\n",
      "Error fetching data for RNET: 'Net Income'\n",
      "Error fetching data for RNWK: 'Net Income'\n",
      "Error fetching data for ROLL: 'Net Income'\n",
      "Error fetching data for RP: 'Net Income'\n",
      "Error fetching data for RPAI: 'Net Income'\n",
      "Error fetching data for RPT: 'Net Income'\n",
      "Error fetching data for RRD: 'Net Income'\n",
      "Error fetching data for RRTS: 'Net Income'\n",
      "Error fetching data for RST: 'Net Income'\n",
      "Error fetching data for RTIX: 'Net Income'\n",
      "Error fetching data for RTRX: 'Net Income'\n",
      "Error fetching data for RTW: 'Net Income'\n",
      "Error fetching data for RUBI: 'Net Income'\n",
      "Error fetching data for RUBY: 'Net Income'\n",
      "Error fetching data for RUTH: 'Net Income'\n",
      "Error fetching data for RVI: 'Net Income'\n",
      "Error fetching data for RVLT: 'Net Income'\n",
      "Error fetching data for RXN: 'Net Income'\n",
      "Error fetching data for SAFM: 'Net Income'\n",
      "Error fetching data for SAIL: 'Net Income'\n",
      "Error fetching data for SAL: 'Net Income'\n",
      "Error fetching data for SBBX: 'Net Income'\n",
      "Error fetching data for SBPH: 'Net Income'\n",
      "Error fetching data for SC: 'Net Income'\n",
      "Error fetching data for SCHN: 'Net Income'\n",
      "Error fetching data for SCON: 'Net Income'\n",
      "Error fetching data for SCPL: 'Net Income'\n",
      "Error fetching data for SEAS: 'Net Income'\n",
      "Error fetching data for SELB: 'Net Income'\n",
      "Error fetching data for SERV: 'Net Income'\n",
      "Error fetching data for SESN: 'Net Income'\n",
      "Error fetching data for SFE: 'Net Income'\n",
      "Error fetching data for SGEN: 'Net Income'\n",
      "Error fetching data for SGMS: 'Net Income'\n",
      "Error fetching data for SHLO: 'Net Income'\n",
      "Error fetching data for SHSP: 'Net Income'\n",
      "Error fetching data for SIEN: 'Net Income'\n",
      "Error fetching data for SITO: 'Net Income'\n",
      "Error fetching data for SIVB: 'Net Income'\n",
      "Error fetching data for SJI: 'Net Income'\n",
      "Error fetching data for SLCT: 'Net Income'\n",
      "Error fetching data for SMED: 'Net Income'\n",
      "Error fetching data for SNR: 'Net Income'\n",
      "Error fetching data for SNSS: 'Net Income'\n",
      "Error fetching data for SOLY: 'Net Income'\n",
      "Error fetching data for SONA: 'Net Income'\n",
      "Error fetching data for SPKE: 'Net Income'\n",
      "Error fetching data for SPN: 'Net Income'\n",
      "Error fetching data for SPNE: 'Net Income'\n",
      "Error fetching data for SPPI: 'Net Income'\n",
      "Error fetching data for SPRT: 'Net Income'\n",
      "Error fetching data for SQBG: 'Net Income'\n",
      "Error fetching data for SRC: 'Net Income'\n",
      "Error fetching data for SREV: 'Net Income'\n",
      "Error fetching data for SRT: 'Net Income'\n",
      "Error fetching data for STAR: 'Net Income'\n",
      "Error fetching data for STAY: 'Net Income'\n",
      "Error fetching data for STFC: 'Net Income'\n",
      "Error fetching data for STL: 'Net Income'\n",
      "Error fetching data for STMP: 'Net Income'\n",
      "Error fetching data for STND: 'Net Income'\n",
      "Error fetching data for STOR: 'Net Income'\n",
      "Error fetching data for STXB: 'Net Income'\n",
      "Error fetching data for SUMR: 'Net Income'\n",
      "Error fetching data for SUNW: 'Net Income'\n",
      "Error fetching data for SVBI: 'Net Income'\n",
      "Error fetching data for SVMK: 'Net Income'\n",
      "Error fetching data for SWCH: 'Net Income'\n",
      "Error fetching data for SWM: 'Net Income'\n",
      "Error fetching data for SYKE: 'Net Income'\n",
      "Error fetching data for SYN: 'Net Income'\n",
      "Error fetching data for SYNC: 'Net Income'\n",
      "Error fetching data for SYNH: 'Net Income'\n",
      "Error fetching data for SYNL: 'Net Income'\n",
      "Error fetching data for SYX: 'Net Income'\n",
      "Error fetching data for TAT: 'Net Income'\n",
      "Error fetching data for TBK: 'Net Income'\n",
      "Error fetching data for TCDA: 'Net Income'\n",
      "Error fetching data for TCF: 'Net Income'\n",
      "Error fetching data for TCFC: 'Net Income'\n",
      "Error fetching data for TCO: 'Net Income'\n",
      "Error fetching data for TECD: 'Net Income'\n",
      "Error fetching data for TEN: 'Net Income'\n",
      "Error fetching data for TERP: 'Net Income'\n",
      "Error fetching data for TESS: 'Net Income'\n",
      "Error fetching data for TEUM: 'Net Income'\n",
      "Error fetching data for TIF: 'Net Income'\n",
      "Error fetching data for TLGT: 'Net Income'\n",
      "Error fetching data for TLRD: 'Net Income'\n",
      "Error fetching data for TMST: 'Net Income'\n",
      "Error fetching data for TNAV: 'Net Income'\n",
      "Error fetching data for TORC: 'Net Income'\n",
      "Error fetching data for TPRE: 'Net Income'\n",
      "Error fetching data for TPTX: 'Net Income'\n",
      "Error fetching data for TRCH: 'Net Income'\n",
      "Error fetching data for TREC: 'Net Income'\n",
      "Error fetching data for TRHC: 'Net Income'\n",
      "Error fetching data for TRTN: 'Net Income'\n",
      "Error fetching data for TRUE : 'Net Income'\n",
      "Error fetching data for TRWH: 'Net Income'\n",
      "Error fetching data for TRXC: 'Net Income'\n",
      "Error fetching data for TSC: 'Net Income'\n",
      "Error fetching data for TTPH: 'Net Income'\n",
      "Error fetching data for TVTY: 'Net Income'\n",
      "Error fetching data for TWMC: 'Net Income'\n",
      "Error fetching data for TWNK: 'Net Income'\n",
      "Error fetching data for TWTR: 'Net Income'\n",
      "Error fetching data for TYME: 'Net Income'\n",
      "Error fetching data for UBA: 'Net Income'\n",
      "Error fetching data for UFAB: 'Net Income'\n",
      "Error fetching data for UFS: 'Net Income'\n",
      "Error fetching data for UIHC: 'Net Income'\n",
      "Error fetching data for UMPQ: 'Net Income'\n",
      "Error fetching data for UNVR: 'Net Income'\n",
      "Error fetching data for UROV: 'Net Income'\n",
      "Error fetching data for USAK: 'Net Income'\n",
      "Error fetching data for USAT: 'Net Income'\n",
      "Error fetching data for USCR: 'Net Income'\n",
      "Error fetching data for USWS: 'Net Income'\n",
      "Error fetching data for USX: 'Net Income'\n",
      "Error fetching data for VAR: 'Net Income'\n",
      "Error fetching data for VCRA: 'Net Income'\n",
      "Error fetching data for VEC: 'Net Income'\n",
      "Error fetching data for VER: 'Net Income'\n",
      "Error fetching data for VG: 'Net Income'\n",
      "Error fetching data for VIVO: 'Net Income'\n",
      "Error fetching data for VMW: 'Net Income'\n",
      "Error fetching data for VNE: 'Net Income'\n",
      "Error fetching data for VNTR: 'Net Income'\n",
      "Error fetching data for VRAY: 'Net Income'\n",
      "Error fetching data for VRS: 'Net Income'\n",
      "Error fetching data for VRTU: 'Net Income'\n",
      "Error fetching data for VRTV: 'Net Income'\n",
      "Error fetching data for VSLR: 'Net Income'\n",
      "Error fetching data for VVUS: 'Net Income'\n",
      "Error fetching data for WBT: 'Net Income'\n",
      "Error fetching data for WDR: 'Net Income'\n",
      "Error fetching data for WETF: 'Net Income'\n",
      "Error fetching data for WIFI: 'Net Income'\n",
      "Error fetching data for WLL: 'Net Income'\n",
      "Error fetching data for WLTW: 'Net Income'\n",
      "Error fetching data for WMC: 'Net Income'\n",
      "Error fetching data for WMGI: 'Net Income'\n",
      "Error fetching data for WPG: 'Net Income'\n",
      "Error fetching data for WPX: 'Net Income'\n",
      "Error fetching data for WRE: 'Net Income'\n",
      "Error fetching data for WRI: 'Net Income'\n",
      "Error fetching data for WRTC: 'Net Income'\n",
      "Error fetching data for WSTG: 'Net Income'\n",
      "Error fetching data for WTRH: 'Net Income'\n",
      "Error fetching data for WTT: 'Net Income'\n",
      "Error fetching data for WWE: 'Net Income'\n",
      "Error fetching data for WYND: 'Net Income'\n",
      "Error fetching data for XAN: 'Net Income'\n",
      "Error fetching data for XEC: 'Net Income'\n",
      "Error fetching data for XENT: 'Net Income'\n",
      "Error fetching data for XLNX: 'Net Income'\n",
      "Error fetching data for XLRN: 'Net Income'\n",
      "Error fetching data for XOG: 'Net Income'\n",
      "Error fetching data for XONE: 'Net Income'\n",
      "Error fetching data for XSPA: 'Net Income'\n",
      "Error fetching data for Y: 'Net Income'\n",
      "Error fetching data for YRCW: 'Net Income'\n",
      "Error fetching data for ZAGG: 'Net Income'\n",
      "Error fetching data for ZEN: 'Net Income'\n",
      "Error fetching data for ZGNX: 'Net Income'\n",
      "Error fetching data for ZIOP: 'Net Income'\n",
      "Error fetching data for ZIXI: 'Net Income'\n",
      "Error fetching data for ZN: 'Net Income'\n",
      "Error fetching data for ZNGA: 'Net Income'\n",
      "Error fetching data for ZSAN: 'Net Income'\n",
      "Error fetching data for ZYNE: 'Net Income'\n",
      "Error fetching data for UROV: 'Net Income'\n",
      "Error fetching data for UBA: 'Net Income'\n",
      "Error fetching data for ECOL: 'Net Income'\n",
      "Error fetching data for USWS: 'Net Income'\n",
      "Error fetching data for USX: 'Net Income'\n",
      "Error fetching data for USAT: 'Net Income'\n",
      "Error fetching data for USAK: 'Net Income'\n",
      "Error fetching data for VAR: 'Net Income'\n",
      "Error fetching data for VEC: 'Net Income'\n",
      "Error fetching data for VNTR: 'Net Income'\n",
      "Error fetching data for VNE: 'Net Income'\n",
      "Error fetching data for VER: 'Net Income'\n",
      "Error fetching data for VRTV: 'Net Income'\n",
      "Error fetching data for VRML: 'Net Income'\n",
      "Error fetching data for VRS: 'Net Income'\n",
      "Error fetching data for CBS: 'Net Income'\n",
      "Error fetching data for VICL: 'Net Income'\n",
      "Error fetching data for VRAY: 'Net Income'\n",
      "Error fetching data for VRTU: 'Net Income'\n",
      "Error fetching data for VSI: 'Net Income'\n",
      "Error fetching data for VSLR: 'Net Income'\n",
      "Error fetching data for VVUS: 'Net Income'\n",
      "Error fetching data for VMW: 'Net Income'\n",
      "Error fetching data for VCRA: 'Net Income'\n",
      "Error fetching data for VISI: 'Net Income'\n",
      "Error fetching data for VG: 'Net Income'\n",
      "Error fetching data for GRA: 'Net Income'\n",
      "Error fetching data for WBC: 'Net Income'\n",
      "Error fetching data for WDR: 'Net Income'\n",
      "Error fetching data for WTRH: 'Net Income'\n",
      "Error fetching data for WPG: 'Net Income'\n",
      "Error fetching data for WRE: 'Net Income'\n",
      "Error fetching data for WSTG: 'Net Income'\n",
      "Error fetching data for WRI: 'Net Income'\n",
      "Error fetching data for WBT: 'Net Income'\n",
      "Error fetching data for WCG: 'Net Income'\n",
      "Error fetching data for WEBK: 'Net Income'\n",
      "Error fetching data for WAIR: 'Net Income'\n",
      "Error fetching data for WMC: 'Net Income'\n",
      "Error fetching data for WLL: 'Net Income'\n",
      "Error fetching data for WLH: 'Net Income'\n",
      "Error fetching data for WLTW: 'Net Income'\n",
      "Error fetching data for WTT: 'Net Income'\n",
      "Error fetching data for WETF: 'Net Income'\n",
      "Error fetching data for INT: 'Net Income'\n",
      "Error fetching data for WWE: 'Net Income'\n",
      "Error fetching data for WPX: 'Net Income'\n",
      "Error fetching data for WRTC: 'Net Income'\n",
      "Error fetching data for WMGI: 'Net Income'\n",
      "Error fetching data for WYND: 'Net Income'\n",
      "Error fetching data for XLNX: 'Net Income'\n",
      "Error fetching data for XSPA: 'Net Income'\n",
      "Error fetching data for YRCW: 'Net Income'\n",
      "Error fetching data for YUMA: 'Net Income'\n",
      "Error fetching data for CTIB: 'Net Income'\n",
      "Error fetching data for ZFGN: 'Net Income'\n",
      "Error fetching data for ZAGG: 'Net Income'\n",
      "Error fetching data for ZAYO: 'Net Income'\n",
      "Error fetching data for ZEN: 'Net Income'\n",
      "Error fetching data for ZN: 'Net Income'\n",
      "Error fetching data for ZIOP: 'Net Income'\n",
      "Error fetching data for ZIXI: 'Net Income'\n",
      "Error fetching data for ZGNX: 'Net Income'\n",
      "Error fetching data for ZSAN: 'Net Income'\n",
      "Error fetching data for ZVO: 'Net Income'\n",
      "Error fetching data for ZYNE: 'Net Income'\n",
      "Error fetching data for ZNGA: 'Net Income'\n",
      "Net Income Data saved to 'net_income_data_grouped.csv'.\n"
     ]
    }
   ],
   "source": [
    "# List of Ticker and last 3 Year NI\n",
    "import yfinance as yf\n",
    "import pandas as pd\n",
    "\n",
    "def get_net_income(tickers):\n",
    "    net_income_data = {}\n",
    "    for ticker in tickers:\n",
    "        try:\n",
    "            # Fetch the financials data for the ticker\n",
    "            fin_data = yf.Ticker(ticker).financials\n",
    "            # Get the net income for the last 20 years\n",
    "            net_income = fin_data.loc['Net Income'].iloc[-20:]\n",
    "            # Extract the year from the index and group by year\n",
    "            net_income.index = pd.to_datetime(net_income.index)\n",
    "            net_income = net_income.groupby(net_income.index.year).sum()\n",
    "            net_income_data[ticker] = net_income\n",
    "        except Exception as e:\n",
    "            # If there's an error fetching data, skip the ticker and print the error\n",
    "            print(f\"Error fetching data for {ticker}: {e}\")\n",
    "    return net_income_data\n",
    "\n",
    "# Load tickers from the CSV file\n",
    "wilshire_df = pd.read_csv('Wilkshire_5000.csv')\n",
    "tickers = wilshire_df['Ticker'].tolist()\n",
    "\n",
    "# Get net income data for all tickers\n",
    "net_income_data = get_net_income(tickers)\n",
    "\n",
    "# Convert the dictionary to a DataFrame\n",
    "df = pd.DataFrame(net_income_data)\n",
    "\n",
    "# Transpose the DataFrame to have tickers as columns\n",
    "df = df.T\n",
    "\n",
    "# Rename columns with year_NI format\n",
    "df.columns = [f\"{year}_NI\" for year in df.columns]\n",
    "\n",
    "# Save the DataFrame to a CSV file\n",
    "df.to_csv('net_income_data_grouped.csv')\n",
    "\n",
    "print(\"Net Income Data saved to 'net_income_data_grouped.csv'.\")\n"
   ]
  },
  {
   "cell_type": "markdown",
   "id": "d7e6fa98-7d11-47d9-8885-1f3399623662",
   "metadata": {},
   "source": [
    "Takes a while to load (30 minutes)"
   ]
  },
  {
   "cell_type": "code",
   "execution_count": 2,
   "id": "a5b1be5b-5418-4f8a-89d3-0da839fd2d21",
   "metadata": {
    "tags": []
   },
   "outputs": [
    {
     "name": "stderr",
     "output_type": "stream",
     "text": [
      "AAWW: No timezone found, symbol may be delisted\n"
     ]
    },
    {
     "name": "stdout",
     "output_type": "stream",
     "text": [
      "Error fetching dividend data for AAWW: 'RangeIndex' object has no attribute 'year'\n"
     ]
    },
    {
     "name": "stderr",
     "output_type": "stream",
     "text": [
      "AAXN: No timezone found, symbol may be delisted\n"
     ]
    },
    {
     "name": "stdout",
     "output_type": "stream",
     "text": [
      "Error fetching dividend data for AAXN: 'RangeIndex' object has no attribute 'year'\n"
     ]
    },
    {
     "name": "stderr",
     "output_type": "stream",
     "text": [
      "ABC: No timezone found, symbol may be delisted\n"
     ]
    },
    {
     "name": "stdout",
     "output_type": "stream",
     "text": [
      "Error fetching dividend data for ABC: 'RangeIndex' object has no attribute 'year'\n"
     ]
    },
    {
     "name": "stderr",
     "output_type": "stream",
     "text": [
      "ABTX: No timezone found, symbol may be delisted\n"
     ]
    },
    {
     "name": "stdout",
     "output_type": "stream",
     "text": [
      "Error fetching dividend data for ABTX: 'RangeIndex' object has no attribute 'year'\n"
     ]
    },
    {
     "name": "stderr",
     "output_type": "stream",
     "text": [
      "ACBI: No timezone found, symbol may be delisted\n"
     ]
    },
    {
     "name": "stdout",
     "output_type": "stream",
     "text": [
      "Error fetching dividend data for ACBI: 'RangeIndex' object has no attribute 'year'\n"
     ]
    },
    {
     "name": "stderr",
     "output_type": "stream",
     "text": [
      "ACC: No timezone found, symbol may be delisted\n"
     ]
    },
    {
     "name": "stdout",
     "output_type": "stream",
     "text": [
      "Error fetching dividend data for ACC: 'RangeIndex' object has no attribute 'year'\n"
     ]
    },
    {
     "name": "stderr",
     "output_type": "stream",
     "text": [
      "ACER: No timezone found, symbol may be delisted\n"
     ]
    },
    {
     "name": "stdout",
     "output_type": "stream",
     "text": [
      "Error fetching dividend data for ACER: 'RangeIndex' object has no attribute 'year'\n"
     ]
    },
    {
     "name": "stderr",
     "output_type": "stream",
     "text": [
      "ACIA: No timezone found, symbol may be delisted\n"
     ]
    },
    {
     "name": "stdout",
     "output_type": "stream",
     "text": [
      "Error fetching dividend data for ACIA: 'RangeIndex' object has no attribute 'year'\n"
     ]
    },
    {
     "name": "stderr",
     "output_type": "stream",
     "text": [
      "ACRX: No timezone found, symbol may be delisted\n"
     ]
    },
    {
     "name": "stdout",
     "output_type": "stream",
     "text": [
      "Error fetching dividend data for ACRX: 'RangeIndex' object has no attribute 'year'\n"
     ]
    },
    {
     "name": "stderr",
     "output_type": "stream",
     "text": [
      "ACY: No timezone found, symbol may be delisted\n"
     ]
    },
    {
     "name": "stdout",
     "output_type": "stream",
     "text": [
      "Error fetching dividend data for ACY: 'RangeIndex' object has no attribute 'year'\n"
     ]
    },
    {
     "name": "stderr",
     "output_type": "stream",
     "text": [
      "ADES: No timezone found, symbol may be delisted\n"
     ]
    },
    {
     "name": "stdout",
     "output_type": "stream",
     "text": [
      "Error fetching dividend data for ADES: 'RangeIndex' object has no attribute 'year'\n"
     ]
    },
    {
     "name": "stderr",
     "output_type": "stream",
     "text": [
      "ADMP: No timezone found, symbol may be delisted\n"
     ]
    },
    {
     "name": "stdout",
     "output_type": "stream",
     "text": [
      "Error fetching dividend data for ADMP: 'RangeIndex' object has no attribute 'year'\n"
     ]
    },
    {
     "name": "stderr",
     "output_type": "stream",
     "text": [
      "ADMS: No timezone found, symbol may be delisted\n"
     ]
    },
    {
     "name": "stdout",
     "output_type": "stream",
     "text": [
      "Error fetching dividend data for ADMS: 'RangeIndex' object has no attribute 'year'\n"
     ]
    },
    {
     "name": "stderr",
     "output_type": "stream",
     "text": [
      "ADRO: No timezone found, symbol may be delisted\n"
     ]
    },
    {
     "name": "stdout",
     "output_type": "stream",
     "text": [
      "Error fetching dividend data for ADRO: 'RangeIndex' object has no attribute 'year'\n"
     ]
    },
    {
     "name": "stderr",
     "output_type": "stream",
     "text": [
      "ADS: No timezone found, symbol may be delisted\n"
     ]
    },
    {
     "name": "stdout",
     "output_type": "stream",
     "text": [
      "Error fetching dividend data for ADS: 'RangeIndex' object has no attribute 'year'\n"
     ]
    },
    {
     "name": "stderr",
     "output_type": "stream",
     "text": [
      "ADSW: No timezone found, symbol may be delisted\n"
     ]
    },
    {
     "name": "stdout",
     "output_type": "stream",
     "text": [
      "Error fetching dividend data for ADSW: 'RangeIndex' object has no attribute 'year'\n"
     ]
    },
    {
     "name": "stderr",
     "output_type": "stream",
     "text": [
      "AEGN: No timezone found, symbol may be delisted\n"
     ]
    },
    {
     "name": "stdout",
     "output_type": "stream",
     "text": [
      "Error fetching dividend data for AEGN: 'RangeIndex' object has no attribute 'year'\n"
     ]
    },
    {
     "name": "stderr",
     "output_type": "stream",
     "text": [
      "AERI: No timezone found, symbol may be delisted\n"
     ]
    },
    {
     "name": "stdout",
     "output_type": "stream",
     "text": [
      "Error fetching dividend data for AERI: 'RangeIndex' object has no attribute 'year'\n"
     ]
    },
    {
     "name": "stderr",
     "output_type": "stream",
     "text": [
      "AEY: No data found, symbol may be delisted\n"
     ]
    },
    {
     "name": "stdout",
     "output_type": "stream",
     "text": [
      "Error fetching dividend data for AEY: 'RangeIndex' object has no attribute 'year'\n"
     ]
    },
    {
     "name": "stderr",
     "output_type": "stream",
     "text": [
      "AFH: No timezone found, symbol may be delisted\n"
     ]
    },
    {
     "name": "stdout",
     "output_type": "stream",
     "text": [
      "Error fetching dividend data for AFH: 'RangeIndex' object has no attribute 'year'\n"
     ]
    },
    {
     "name": "stderr",
     "output_type": "stream",
     "text": [
      "AFI: No timezone found, symbol may be delisted\n"
     ]
    },
    {
     "name": "stdout",
     "output_type": "stream",
     "text": [
      "Error fetching dividend data for AFI: 'RangeIndex' object has no attribute 'year'\n"
     ]
    },
    {
     "name": "stderr",
     "output_type": "stream",
     "text": [
      "AFIN: No timezone found, symbol may be delisted\n"
     ]
    },
    {
     "name": "stdout",
     "output_type": "stream",
     "text": [
      "Error fetching dividend data for AFIN: 'RangeIndex' object has no attribute 'year'\n"
     ]
    },
    {
     "name": "stderr",
     "output_type": "stream",
     "text": [
      "AGFS: No timezone found, symbol may be delisted\n"
     ]
    },
    {
     "name": "stdout",
     "output_type": "stream",
     "text": [
      "Error fetching dividend data for AGFS: 'RangeIndex' object has no attribute 'year'\n"
     ]
    },
    {
     "name": "stderr",
     "output_type": "stream",
     "text": [
      "AGLE: No timezone found, symbol may be delisted\n"
     ]
    },
    {
     "name": "stdout",
     "output_type": "stream",
     "text": [
      "Error fetching dividend data for AGLE: 'RangeIndex' object has no attribute 'year'\n"
     ]
    },
    {
     "name": "stderr",
     "output_type": "stream",
     "text": [
      "AGTC: No timezone found, symbol may be delisted\n"
     ]
    },
    {
     "name": "stdout",
     "output_type": "stream",
     "text": [
      "Error fetching dividend data for AGTC: 'RangeIndex' object has no attribute 'year'\n"
     ]
    },
    {
     "name": "stderr",
     "output_type": "stream",
     "text": [
      "AHC: No timezone found, symbol may be delisted\n"
     ]
    },
    {
     "name": "stdout",
     "output_type": "stream",
     "text": [
      "Error fetching dividend data for AHC: 'RangeIndex' object has no attribute 'year'\n"
     ]
    },
    {
     "name": "stderr",
     "output_type": "stream",
     "text": [
      "AIMC: No timezone found, symbol may be delisted\n"
     ]
    },
    {
     "name": "stdout",
     "output_type": "stream",
     "text": [
      "Error fetching dividend data for AIMC: 'RangeIndex' object has no attribute 'year'\n"
     ]
    },
    {
     "name": "stderr",
     "output_type": "stream",
     "text": [
      "AIMT: No timezone found, symbol may be delisted\n"
     ]
    },
    {
     "name": "stdout",
     "output_type": "stream",
     "text": [
      "Error fetching dividend data for AIMT: 'RangeIndex' object has no attribute 'year'\n"
     ]
    },
    {
     "name": "stderr",
     "output_type": "stream",
     "text": [
      "AJRD: No timezone found, symbol may be delisted\n"
     ]
    },
    {
     "name": "stdout",
     "output_type": "stream",
     "text": [
      "Error fetching dividend data for AJRD: 'RangeIndex' object has no attribute 'year'\n"
     ]
    },
    {
     "name": "stderr",
     "output_type": "stream",
     "text": [
      "AKCA: No timezone found, symbol may be delisted\n"
     ]
    },
    {
     "name": "stdout",
     "output_type": "stream",
     "text": [
      "Error fetching dividend data for AKCA: 'RangeIndex' object has no attribute 'year'\n"
     ]
    },
    {
     "name": "stderr",
     "output_type": "stream",
     "text": [
      "AKER: No timezone found, symbol may be delisted\n"
     ]
    },
    {
     "name": "stdout",
     "output_type": "stream",
     "text": [
      "Error fetching dividend data for AKER: 'RangeIndex' object has no attribute 'year'\n"
     ]
    },
    {
     "name": "stderr",
     "output_type": "stream",
     "text": [
      "ALBO: No timezone found, symbol may be delisted\n"
     ]
    },
    {
     "name": "stdout",
     "output_type": "stream",
     "text": [
      "Error fetching dividend data for ALBO: 'RangeIndex' object has no attribute 'year'\n"
     ]
    },
    {
     "name": "stderr",
     "output_type": "stream",
     "text": [
      "ALJJ: No timezone found, symbol may be delisted\n"
     ]
    },
    {
     "name": "stdout",
     "output_type": "stream",
     "text": [
      "Error fetching dividend data for ALJJ: 'RangeIndex' object has no attribute 'year'\n"
     ]
    },
    {
     "name": "stderr",
     "output_type": "stream",
     "text": [
      "ALNA: No timezone found, symbol may be delisted\n"
     ]
    },
    {
     "name": "stdout",
     "output_type": "stream",
     "text": [
      "Error fetching dividend data for ALNA: 'RangeIndex' object has no attribute 'year'\n"
     ]
    },
    {
     "name": "stderr",
     "output_type": "stream",
     "text": [
      "ALSK: No timezone found, symbol may be delisted\n"
     ]
    },
    {
     "name": "stdout",
     "output_type": "stream",
     "text": [
      "Error fetching dividend data for ALSK: 'RangeIndex' object has no attribute 'year'\n"
     ]
    },
    {
     "name": "stderr",
     "output_type": "stream",
     "text": [
      "ALXN: No timezone found, symbol may be delisted\n"
     ]
    },
    {
     "name": "stdout",
     "output_type": "stream",
     "text": [
      "Error fetching dividend data for ALXN: 'RangeIndex' object has no attribute 'year'\n"
     ]
    },
    {
     "name": "stderr",
     "output_type": "stream",
     "text": [
      "AMAG: No timezone found, symbol may be delisted\n"
     ]
    },
    {
     "name": "stdout",
     "output_type": "stream",
     "text": [
      "Error fetching dividend data for AMAG: 'RangeIndex' object has no attribute 'year'\n"
     ]
    },
    {
     "name": "stderr",
     "output_type": "stream",
     "text": [
      "AMOT: No timezone found, symbol may be delisted\n"
     ]
    },
    {
     "name": "stdout",
     "output_type": "stream",
     "text": [
      "Error fetching dividend data for AMOT: 'RangeIndex' object has no attribute 'year'\n"
     ]
    },
    {
     "name": "stderr",
     "output_type": "stream",
     "text": [
      "AMRB: No timezone found, symbol may be delisted\n"
     ]
    },
    {
     "name": "stdout",
     "output_type": "stream",
     "text": [
      "Error fetching dividend data for AMRB: 'RangeIndex' object has no attribute 'year'\n"
     ]
    },
    {
     "name": "stderr",
     "output_type": "stream",
     "text": [
      "AMRS: Period 'max' is invalid, must be one of ['1d', '5d']\n"
     ]
    },
    {
     "name": "stdout",
     "output_type": "stream",
     "text": [
      "Error fetching dividend data for AMRS: 'RangeIndex' object has no attribute 'year'\n"
     ]
    },
    {
     "name": "stderr",
     "output_type": "stream",
     "text": [
      "ANAT: No timezone found, symbol may be delisted\n"
     ]
    },
    {
     "name": "stdout",
     "output_type": "stream",
     "text": [
      "Error fetching dividend data for ANAT: 'RangeIndex' object has no attribute 'year'\n"
     ]
    },
    {
     "name": "stderr",
     "output_type": "stream",
     "text": [
      "ANH: No timezone found, symbol may be delisted\n"
     ]
    },
    {
     "name": "stdout",
     "output_type": "stream",
     "text": [
      "Error fetching dividend data for ANH: 'RangeIndex' object has no attribute 'year'\n"
     ]
    },
    {
     "name": "stderr",
     "output_type": "stream",
     "text": [
      "ANTM: No timezone found, symbol may be delisted\n"
     ]
    },
    {
     "name": "stdout",
     "output_type": "stream",
     "text": [
      "Error fetching dividend data for ANTM: 'RangeIndex' object has no attribute 'year'\n"
     ]
    },
    {
     "name": "stderr",
     "output_type": "stream",
     "text": [
      "APEN: No timezone found, symbol may be delisted\n"
     ]
    },
    {
     "name": "stdout",
     "output_type": "stream",
     "text": [
      "Error fetching dividend data for APEN: 'RangeIndex' object has no attribute 'year'\n"
     ]
    },
    {
     "name": "stderr",
     "output_type": "stream",
     "text": [
      "APRN: No timezone found, symbol may be delisted\n"
     ]
    },
    {
     "name": "stdout",
     "output_type": "stream",
     "text": [
      "Error fetching dividend data for APRN: 'RangeIndex' object has no attribute 'year'\n"
     ]
    },
    {
     "name": "stderr",
     "output_type": "stream",
     "text": [
      "APTS: No timezone found, symbol may be delisted\n"
     ]
    },
    {
     "name": "stdout",
     "output_type": "stream",
     "text": [
      "Error fetching dividend data for APTS: 'RangeIndex' object has no attribute 'year'\n"
     ]
    },
    {
     "name": "stderr",
     "output_type": "stream",
     "text": [
      "AQUA: No timezone found, symbol may be delisted\n"
     ]
    },
    {
     "name": "stdout",
     "output_type": "stream",
     "text": [
      "Error fetching dividend data for AQUA: 'RangeIndex' object has no attribute 'year'\n"
     ]
    },
    {
     "name": "stderr",
     "output_type": "stream",
     "text": [
      "ARA: No timezone found, symbol may be delisted\n"
     ]
    },
    {
     "name": "stdout",
     "output_type": "stream",
     "text": [
      "Error fetching dividend data for ARA: 'RangeIndex' object has no attribute 'year'\n"
     ]
    },
    {
     "name": "stderr",
     "output_type": "stream",
     "text": [
      "ARAV: No timezone found, symbol may be delisted\n"
     ]
    },
    {
     "name": "stdout",
     "output_type": "stream",
     "text": [
      "Error fetching dividend data for ARAV: 'RangeIndex' object has no attribute 'year'\n"
     ]
    },
    {
     "name": "stderr",
     "output_type": "stream",
     "text": [
      "ARGO: No timezone found, symbol may be delisted\n"
     ]
    },
    {
     "name": "stdout",
     "output_type": "stream",
     "text": [
      "Error fetching dividend data for ARGO: 'RangeIndex' object has no attribute 'year'\n"
     ]
    },
    {
     "name": "stderr",
     "output_type": "stream",
     "text": [
      "ARNA: No timezone found, symbol may be delisted\n"
     ]
    },
    {
     "name": "stdout",
     "output_type": "stream",
     "text": [
      "Error fetching dividend data for ARNA: 'RangeIndex' object has no attribute 'year'\n"
     ]
    },
    {
     "name": "stderr",
     "output_type": "stream",
     "text": [
      "ARNC: No timezone found, symbol may be delisted\n"
     ]
    },
    {
     "name": "stdout",
     "output_type": "stream",
     "text": [
      "Error fetching dividend data for ARNC: 'RangeIndex' object has no attribute 'year'\n"
     ]
    },
    {
     "name": "stderr",
     "output_type": "stream",
     "text": [
      "ARPO: No timezone found, symbol may be delisted\n"
     ]
    },
    {
     "name": "stdout",
     "output_type": "stream",
     "text": [
      "Error fetching dividend data for ARPO: 'RangeIndex' object has no attribute 'year'\n"
     ]
    },
    {
     "name": "stderr",
     "output_type": "stream",
     "text": [
      "ASFI: No timezone found, symbol may be delisted\n"
     ]
    },
    {
     "name": "stdout",
     "output_type": "stream",
     "text": [
      "Error fetching dividend data for ASFI: 'RangeIndex' object has no attribute 'year'\n"
     ]
    },
    {
     "name": "stderr",
     "output_type": "stream",
     "text": [
      "ASNA: No timezone found, symbol may be delisted\n"
     ]
    },
    {
     "name": "stdout",
     "output_type": "stream",
     "text": [
      "Error fetching dividend data for ASNA: 'RangeIndex' object has no attribute 'year'\n"
     ]
    },
    {
     "name": "stderr",
     "output_type": "stream",
     "text": [
      "ATH: No timezone found, symbol may be delisted\n"
     ]
    },
    {
     "name": "stdout",
     "output_type": "stream",
     "text": [
      "Error fetching dividend data for ATH: 'RangeIndex' object has no attribute 'year'\n"
     ]
    },
    {
     "name": "stderr",
     "output_type": "stream",
     "text": [
      "ATHX: No timezone found, symbol may be delisted\n"
     ]
    },
    {
     "name": "stdout",
     "output_type": "stream",
     "text": [
      "Error fetching dividend data for ATHX: 'RangeIndex' object has no attribute 'year'\n"
     ]
    },
    {
     "name": "stderr",
     "output_type": "stream",
     "text": [
      "ATNX: No timezone found, symbol may be delisted\n"
     ]
    },
    {
     "name": "stdout",
     "output_type": "stream",
     "text": [
      "Error fetching dividend data for ATNX: 'RangeIndex' object has no attribute 'year'\n"
     ]
    },
    {
     "name": "stderr",
     "output_type": "stream",
     "text": [
      "ATRS: No timezone found, symbol may be delisted\n"
     ]
    },
    {
     "name": "stdout",
     "output_type": "stream",
     "text": [
      "Error fetching dividend data for ATRS: 'RangeIndex' object has no attribute 'year'\n"
     ]
    },
    {
     "name": "stderr",
     "output_type": "stream",
     "text": [
      "ATVI: No timezone found, symbol may be delisted\n"
     ]
    },
    {
     "name": "stdout",
     "output_type": "stream",
     "text": [
      "Error fetching dividend data for ATVI: 'RangeIndex' object has no attribute 'year'\n"
     ]
    },
    {
     "name": "stderr",
     "output_type": "stream",
     "text": [
      "AUTO: No timezone found, symbol may be delisted\n"
     ]
    },
    {
     "name": "stdout",
     "output_type": "stream",
     "text": [
      "Error fetching dividend data for AUTO: 'RangeIndex' object has no attribute 'year'\n"
     ]
    },
    {
     "name": "stderr",
     "output_type": "stream",
     "text": [
      "AVEO: No timezone found, symbol may be delisted\n"
     ]
    },
    {
     "name": "stdout",
     "output_type": "stream",
     "text": [
      "Error fetching dividend data for AVEO: 'RangeIndex' object has no attribute 'year'\n"
     ]
    },
    {
     "name": "stderr",
     "output_type": "stream",
     "text": [
      "AVID: No timezone found, symbol may be delisted\n"
     ]
    },
    {
     "name": "stdout",
     "output_type": "stream",
     "text": [
      "Error fetching dividend data for AVID: 'RangeIndex' object has no attribute 'year'\n"
     ]
    },
    {
     "name": "stderr",
     "output_type": "stream",
     "text": [
      "AVLR: No timezone found, symbol may be delisted\n"
     ]
    },
    {
     "name": "stdout",
     "output_type": "stream",
     "text": [
      "Error fetching dividend data for AVLR: 'RangeIndex' object has no attribute 'year'\n"
     ]
    },
    {
     "name": "stderr",
     "output_type": "stream",
     "text": [
      "AVYA: No timezone found, symbol may be delisted\n"
     ]
    },
    {
     "name": "stdout",
     "output_type": "stream",
     "text": [
      "Error fetching dividend data for AVYA: 'RangeIndex' object has no attribute 'year'\n"
     ]
    },
    {
     "name": "stderr",
     "output_type": "stream",
     "text": [
      "AWSM: No timezone found, symbol may be delisted\n"
     ]
    },
    {
     "name": "stdout",
     "output_type": "stream",
     "text": [
      "Error fetching dividend data for AWSM: 'RangeIndex' object has no attribute 'year'\n"
     ]
    },
    {
     "name": "stderr",
     "output_type": "stream",
     "text": [
      "AXAS: No timezone found, symbol may be delisted\n"
     ]
    },
    {
     "name": "stdout",
     "output_type": "stream",
     "text": [
      "Error fetching dividend data for AXAS: 'RangeIndex' object has no attribute 'year'\n"
     ]
    },
    {
     "name": "stderr",
     "output_type": "stream",
     "text": [
      "AXE: No timezone found, symbol may be delisted\n"
     ]
    },
    {
     "name": "stdout",
     "output_type": "stream",
     "text": [
      "Error fetching dividend data for AXE: 'RangeIndex' object has no attribute 'year'\n"
     ]
    },
    {
     "name": "stderr",
     "output_type": "stream",
     "text": [
      "BASI: No timezone found, symbol may be delisted\n"
     ]
    },
    {
     "name": "stdout",
     "output_type": "stream",
     "text": [
      "Error fetching dividend data for BASI: 'RangeIndex' object has no attribute 'year'\n"
     ]
    },
    {
     "name": "stderr",
     "output_type": "stream",
     "text": [
      "BBBY: No timezone found, symbol may be delisted\n"
     ]
    },
    {
     "name": "stdout",
     "output_type": "stream",
     "text": [
      "Error fetching dividend data for BBBY: 'RangeIndex' object has no attribute 'year'\n"
     ]
    },
    {
     "name": "stderr",
     "output_type": "stream",
     "text": [
      "BCEI: No timezone found, symbol may be delisted\n"
     ]
    },
    {
     "name": "stdout",
     "output_type": "stream",
     "text": [
      "Error fetching dividend data for BCEI: 'RangeIndex' object has no attribute 'year'\n"
     ]
    },
    {
     "name": "stderr",
     "output_type": "stream",
     "text": [
      "BCOR: No timezone found, symbol may be delisted\n"
     ]
    },
    {
     "name": "stdout",
     "output_type": "stream",
     "text": [
      "Error fetching dividend data for BCOR: 'RangeIndex' object has no attribute 'year'\n"
     ]
    },
    {
     "name": "stderr",
     "output_type": "stream",
     "text": [
      "BDGE: No timezone found, symbol may be delisted\n"
     ]
    },
    {
     "name": "stdout",
     "output_type": "stream",
     "text": [
      "Error fetching dividend data for BDGE: 'RangeIndex' object has no attribute 'year'\n"
     ]
    },
    {
     "name": "stderr",
     "output_type": "stream",
     "text": [
      "BGCP: No timezone found, symbol may be delisted\n"
     ]
    },
    {
     "name": "stdout",
     "output_type": "stream",
     "text": [
      "Error fetching dividend data for BGCP: 'RangeIndex' object has no attribute 'year'\n"
     ]
    },
    {
     "name": "stderr",
     "output_type": "stream",
     "text": [
      "BIOC: No timezone found, symbol may be delisted\n"
     ]
    },
    {
     "name": "stdout",
     "output_type": "stream",
     "text": [
      "Error fetching dividend data for BIOC: 'RangeIndex' object has no attribute 'year'\n"
     ]
    },
    {
     "name": "stderr",
     "output_type": "stream",
     "text": [
      "BKI: No timezone found, symbol may be delisted\n"
     ]
    },
    {
     "name": "stdout",
     "output_type": "stream",
     "text": [
      "Error fetching dividend data for BKI: 'RangeIndex' object has no attribute 'year'\n"
     ]
    },
    {
     "name": "stderr",
     "output_type": "stream",
     "text": [
      "BLL: No timezone found, symbol may be delisted\n"
     ]
    },
    {
     "name": "stdout",
     "output_type": "stream",
     "text": [
      "Error fetching dividend data for BLL: 'RangeIndex' object has no attribute 'year'\n"
     ]
    },
    {
     "name": "stderr",
     "output_type": "stream",
     "text": [
      "BMCH: No timezone found, symbol may be delisted\n"
     ]
    },
    {
     "name": "stdout",
     "output_type": "stream",
     "text": [
      "Error fetching dividend data for BMCH: 'RangeIndex' object has no attribute 'year'\n"
     ]
    },
    {
     "name": "stderr",
     "output_type": "stream",
     "text": [
      "BMTC: No timezone found, symbol may be delisted\n"
     ]
    },
    {
     "name": "stdout",
     "output_type": "stream",
     "text": [
      "Error fetching dividend data for BMTC: 'RangeIndex' object has no attribute 'year'\n"
     ]
    },
    {
     "name": "stderr",
     "output_type": "stream",
     "text": [
      "BNFT: No timezone found, symbol may be delisted\n"
     ]
    },
    {
     "name": "stdout",
     "output_type": "stream",
     "text": [
      "Error fetching dividend data for BNFT: 'RangeIndex' object has no attribute 'year'\n"
     ]
    },
    {
     "name": "stderr",
     "output_type": "stream",
     "text": [
      "BOCH: No timezone found, symbol may be delisted\n"
     ]
    },
    {
     "name": "stdout",
     "output_type": "stream",
     "text": [
      "Error fetching dividend data for BOCH: 'RangeIndex' object has no attribute 'year'\n"
     ]
    },
    {
     "name": "stderr",
     "output_type": "stream",
     "text": [
      "BOMN: No timezone found, symbol may be delisted\n"
     ]
    },
    {
     "name": "stdout",
     "output_type": "stream",
     "text": [
      "Error fetching dividend data for BOMN: 'RangeIndex' object has no attribute 'year'\n"
     ]
    },
    {
     "name": "stderr",
     "output_type": "stream",
     "text": [
      "BPFH: No timezone found, symbol may be delisted\n"
     ]
    },
    {
     "name": "stdout",
     "output_type": "stream",
     "text": [
      "Error fetching dividend data for BPFH: 'RangeIndex' object has no attribute 'year'\n"
     ]
    },
    {
     "name": "stderr",
     "output_type": "stream",
     "text": [
      "BREW: No timezone found, symbol may be delisted\n"
     ]
    },
    {
     "name": "stdout",
     "output_type": "stream",
     "text": [
      "Error fetching dividend data for BREW: 'RangeIndex' object has no attribute 'year'\n"
     ]
    },
    {
     "name": "stderr",
     "output_type": "stream",
     "text": [
      "BRG: No timezone found, symbol may be delisted\n"
     ]
    },
    {
     "name": "stdout",
     "output_type": "stream",
     "text": [
      "Error fetching dividend data for BRG: 'RangeIndex' object has no attribute 'year'\n"
     ]
    },
    {
     "name": "stderr",
     "output_type": "stream",
     "text": [
      "BRKS: No timezone found, symbol may be delisted\n"
     ]
    },
    {
     "name": "stdout",
     "output_type": "stream",
     "text": [
      "Error fetching dividend data for BRKS: 'RangeIndex' object has no attribute 'year'\n"
     ]
    },
    {
     "name": "stderr",
     "output_type": "stream",
     "text": [
      "BSQR: No timezone found, symbol may be delisted\n"
     ]
    },
    {
     "name": "stdout",
     "output_type": "stream",
     "text": [
      "Error fetching dividend data for BSQR: 'RangeIndex' object has no attribute 'year'\n"
     ]
    },
    {
     "name": "stderr",
     "output_type": "stream",
     "text": [
      "BSTC: No timezone found, symbol may be delisted\n"
     ]
    },
    {
     "name": "stdout",
     "output_type": "stream",
     "text": [
      "Error fetching dividend data for BSTC: 'RangeIndex' object has no attribute 'year'\n"
     ]
    },
    {
     "name": "stderr",
     "output_type": "stream",
     "text": [
      "BTN: No timezone found, symbol may be delisted\n"
     ]
    },
    {
     "name": "stdout",
     "output_type": "stream",
     "text": [
      "Error fetching dividend data for BTN: 'RangeIndex' object has no attribute 'year'\n"
     ]
    },
    {
     "name": "stderr",
     "output_type": "stream",
     "text": [
      "BXS: No timezone found, symbol may be delisted\n"
     ]
    },
    {
     "name": "stdout",
     "output_type": "stream",
     "text": [
      "Error fetching dividend data for BXS: 'RangeIndex' object has no attribute 'year'\n"
     ]
    },
    {
     "name": "stderr",
     "output_type": "stream",
     "text": [
      "CAI: No timezone found, symbol may be delisted\n"
     ]
    },
    {
     "name": "stdout",
     "output_type": "stream",
     "text": [
      "Error fetching dividend data for CAI: 'RangeIndex' object has no attribute 'year'\n"
     ]
    },
    {
     "name": "stderr",
     "output_type": "stream",
     "text": [
      "CATB: No timezone found, symbol may be delisted\n"
     ]
    },
    {
     "name": "stdout",
     "output_type": "stream",
     "text": [
      "Error fetching dividend data for CATB: 'RangeIndex' object has no attribute 'year'\n"
     ]
    },
    {
     "name": "stderr",
     "output_type": "stream",
     "text": [
      "CATM: No timezone found, symbol may be delisted\n"
     ]
    },
    {
     "name": "stdout",
     "output_type": "stream",
     "text": [
      "Error fetching dividend data for CATM: 'RangeIndex' object has no attribute 'year'\n"
     ]
    },
    {
     "name": "stderr",
     "output_type": "stream",
     "text": [
      "CATS: No timezone found, symbol may be delisted\n"
     ]
    },
    {
     "name": "stdout",
     "output_type": "stream",
     "text": [
      "Error fetching dividend data for CATS: 'RangeIndex' object has no attribute 'year'\n"
     ]
    },
    {
     "name": "stderr",
     "output_type": "stream",
     "text": [
      "CBB: No timezone found, symbol may be delisted\n"
     ]
    },
    {
     "name": "stdout",
     "output_type": "stream",
     "text": [
      "Error fetching dividend data for CBB: 'RangeIndex' object has no attribute 'year'\n"
     ]
    },
    {
     "name": "stderr",
     "output_type": "stream",
     "text": [
      "CBIO: No timezone found, symbol may be delisted\n"
     ]
    },
    {
     "name": "stdout",
     "output_type": "stream",
     "text": [
      "Error fetching dividend data for CBIO: 'RangeIndex' object has no attribute 'year'\n"
     ]
    },
    {
     "name": "stderr",
     "output_type": "stream",
     "text": [
      "CBLI: No timezone found, symbol may be delisted\n"
     ]
    },
    {
     "name": "stdout",
     "output_type": "stream",
     "text": [
      "Error fetching dividend data for CBLI: 'RangeIndex' object has no attribute 'year'\n"
     ]
    },
    {
     "name": "stderr",
     "output_type": "stream",
     "text": [
      "CBMG: No timezone found, symbol may be delisted\n"
     ]
    },
    {
     "name": "stdout",
     "output_type": "stream",
     "text": [
      "Error fetching dividend data for CBMG: 'RangeIndex' object has no attribute 'year'\n"
     ]
    },
    {
     "name": "stderr",
     "output_type": "stream",
     "text": [
      "CBTX: No timezone found, symbol may be delisted\n"
     ]
    },
    {
     "name": "stdout",
     "output_type": "stream",
     "text": [
      "Error fetching dividend data for CBTX: 'RangeIndex' object has no attribute 'year'\n"
     ]
    },
    {
     "name": "stderr",
     "output_type": "stream",
     "text": [
      "CCF: No timezone found, symbol may be delisted\n"
     ]
    },
    {
     "name": "stdout",
     "output_type": "stream",
     "text": [
      "Error fetching dividend data for CCF: 'RangeIndex' object has no attribute 'year'\n"
     ]
    },
    {
     "name": "stderr",
     "output_type": "stream",
     "text": [
      "CCMP: No timezone found, symbol may be delisted\n"
     ]
    },
    {
     "name": "stdout",
     "output_type": "stream",
     "text": [
      "Error fetching dividend data for CCMP: 'RangeIndex' object has no attribute 'year'\n"
     ]
    },
    {
     "name": "stderr",
     "output_type": "stream",
     "text": [
      "CCXI: No timezone found, symbol may be delisted\n"
     ]
    },
    {
     "name": "stdout",
     "output_type": "stream",
     "text": [
      "Error fetching dividend data for CCXI: 'RangeIndex' object has no attribute 'year'\n"
     ]
    },
    {
     "name": "stderr",
     "output_type": "stream",
     "text": [
      "CDAY: No data found, symbol may be delisted\n"
     ]
    },
    {
     "name": "stdout",
     "output_type": "stream",
     "text": [
      "Error fetching dividend data for CDAY: 'RangeIndex' object has no attribute 'year'\n"
     ]
    },
    {
     "name": "stderr",
     "output_type": "stream",
     "text": [
      "CDEV: No timezone found, symbol may be delisted\n"
     ]
    },
    {
     "name": "stdout",
     "output_type": "stream",
     "text": [
      "Error fetching dividend data for CDEV: 'RangeIndex' object has no attribute 'year'\n"
     ]
    },
    {
     "name": "stderr",
     "output_type": "stream",
     "text": [
      "CDK: No timezone found, symbol may be delisted\n"
     ]
    },
    {
     "name": "stdout",
     "output_type": "stream",
     "text": [
      "Error fetching dividend data for CDK: 'RangeIndex' object has no attribute 'year'\n"
     ]
    },
    {
     "name": "stderr",
     "output_type": "stream",
     "text": [
      "CDR: No timezone found, symbol may be delisted\n"
     ]
    },
    {
     "name": "stdout",
     "output_type": "stream",
     "text": [
      "Error fetching dividend data for CDR: 'RangeIndex' object has no attribute 'year'\n"
     ]
    },
    {
     "name": "stderr",
     "output_type": "stream",
     "text": [
      "CECE: No timezone found, symbol may be delisted\n"
     ]
    },
    {
     "name": "stdout",
     "output_type": "stream",
     "text": [
      "Error fetching dividend data for CECE: 'RangeIndex' object has no attribute 'year'\n"
     ]
    },
    {
     "name": "stderr",
     "output_type": "stream",
     "text": [
      "CEMI: No timezone found, symbol may be delisted\n"
     ]
    },
    {
     "name": "stdout",
     "output_type": "stream",
     "text": [
      "Error fetching dividend data for CEMI: 'RangeIndex' object has no attribute 'year'\n"
     ]
    },
    {
     "name": "stderr",
     "output_type": "stream",
     "text": [
      "CERC: No timezone found, symbol may be delisted\n"
     ]
    },
    {
     "name": "stdout",
     "output_type": "stream",
     "text": [
      "Error fetching dividend data for CERC: 'RangeIndex' object has no attribute 'year'\n"
     ]
    },
    {
     "name": "stderr",
     "output_type": "stream",
     "text": [
      "CERN: No timezone found, symbol may be delisted\n"
     ]
    },
    {
     "name": "stdout",
     "output_type": "stream",
     "text": [
      "Error fetching dividend data for CERN: 'RangeIndex' object has no attribute 'year'\n"
     ]
    },
    {
     "name": "stderr",
     "output_type": "stream",
     "text": [
      "CETV: No timezone found, symbol may be delisted\n"
     ]
    },
    {
     "name": "stdout",
     "output_type": "stream",
     "text": [
      "Error fetching dividend data for CETV: 'RangeIndex' object has no attribute 'year'\n"
     ]
    },
    {
     "name": "stderr",
     "output_type": "stream",
     "text": [
      "CFMS: No timezone found, symbol may be delisted\n"
     ]
    },
    {
     "name": "stdout",
     "output_type": "stream",
     "text": [
      "Error fetching dividend data for CFMS: 'RangeIndex' object has no attribute 'year'\n"
     ]
    },
    {
     "name": "stderr",
     "output_type": "stream",
     "text": [
      "CFX: No timezone found, symbol may be delisted\n"
     ]
    },
    {
     "name": "stdout",
     "output_type": "stream",
     "text": [
      "Error fetching dividend data for CFX: 'RangeIndex' object has no attribute 'year'\n"
     ]
    },
    {
     "name": "stderr",
     "output_type": "stream",
     "text": [
      "CGIX: No timezone found, symbol may be delisted\n"
     ]
    },
    {
     "name": "stdout",
     "output_type": "stream",
     "text": [
      "Error fetching dividend data for CGIX: 'RangeIndex' object has no attribute 'year'\n"
     ]
    },
    {
     "name": "stderr",
     "output_type": "stream",
     "text": [
      "CHAP: No timezone found, symbol may be delisted\n"
     ]
    },
    {
     "name": "stdout",
     "output_type": "stream",
     "text": [
      "Error fetching dividend data for CHAP: 'RangeIndex' object has no attribute 'year'\n"
     ]
    },
    {
     "name": "stderr",
     "output_type": "stream",
     "text": [
      "CHMA: No timezone found, symbol may be delisted\n"
     ]
    },
    {
     "name": "stdout",
     "output_type": "stream",
     "text": [
      "Error fetching dividend data for CHMA: 'RangeIndex' object has no attribute 'year'\n"
     ]
    },
    {
     "name": "stderr",
     "output_type": "stream",
     "text": [
      "CHS: No timezone found, symbol may be delisted\n"
     ]
    },
    {
     "name": "stdout",
     "output_type": "stream",
     "text": [
      "Error fetching dividend data for CHS: 'RangeIndex' object has no attribute 'year'\n"
     ]
    },
    {
     "name": "stderr",
     "output_type": "stream",
     "text": [
      "CIDM: No timezone found, symbol may be delisted\n"
     ]
    },
    {
     "name": "stdout",
     "output_type": "stream",
     "text": [
      "Error fetching dividend data for CIDM: 'RangeIndex' object has no attribute 'year'\n"
     ]
    },
    {
     "name": "stderr",
     "output_type": "stream",
     "text": [
      "CIR: No timezone found, symbol may be delisted\n"
     ]
    },
    {
     "name": "stdout",
     "output_type": "stream",
     "text": [
      "Error fetching dividend data for CIR: 'RangeIndex' object has no attribute 'year'\n"
     ]
    },
    {
     "name": "stderr",
     "output_type": "stream",
     "text": [
      "CIT: No timezone found, symbol may be delisted\n"
     ]
    },
    {
     "name": "stdout",
     "output_type": "stream",
     "text": [
      "Error fetching dividend data for CIT: 'RangeIndex' object has no attribute 'year'\n"
     ]
    },
    {
     "name": "stderr",
     "output_type": "stream",
     "text": [
      "CKH: No timezone found, symbol may be delisted\n"
     ]
    },
    {
     "name": "stdout",
     "output_type": "stream",
     "text": [
      "Error fetching dividend data for CKH: 'RangeIndex' object has no attribute 'year'\n"
     ]
    },
    {
     "name": "stderr",
     "output_type": "stream",
     "text": [
      "CLBS: No timezone found, symbol may be delisted\n"
     ]
    },
    {
     "name": "stdout",
     "output_type": "stream",
     "text": [
      "Error fetching dividend data for CLBS: 'RangeIndex' object has no attribute 'year'\n"
     ]
    },
    {
     "name": "stderr",
     "output_type": "stream",
     "text": [
      "CLCT: No timezone found, symbol may be delisted\n"
     ]
    },
    {
     "name": "stdout",
     "output_type": "stream",
     "text": [
      "Error fetching dividend data for CLCT: 'RangeIndex' object has no attribute 'year'\n"
     ]
    },
    {
     "name": "stderr",
     "output_type": "stream",
     "text": [
      "CLDR: No timezone found, symbol may be delisted\n"
     ]
    },
    {
     "name": "stdout",
     "output_type": "stream",
     "text": [
      "Error fetching dividend data for CLDR: 'RangeIndex' object has no attribute 'year'\n"
     ]
    },
    {
     "name": "stderr",
     "output_type": "stream",
     "text": [
      "CLGX: No timezone found, symbol may be delisted\n"
     ]
    },
    {
     "name": "stdout",
     "output_type": "stream",
     "text": [
      "Error fetching dividend data for CLGX: 'RangeIndex' object has no attribute 'year'\n"
     ]
    },
    {
     "name": "stderr",
     "output_type": "stream",
     "text": [
      "CLI: No timezone found, symbol may be delisted\n"
     ]
    },
    {
     "name": "stdout",
     "output_type": "stream",
     "text": [
      "Error fetching dividend data for CLI: 'RangeIndex' object has no attribute 'year'\n"
     ]
    },
    {
     "name": "stderr",
     "output_type": "stream",
     "text": [
      "CLNC: No timezone found, symbol may be delisted\n"
     ]
    },
    {
     "name": "stdout",
     "output_type": "stream",
     "text": [
      "Error fetching dividend data for CLNC: 'RangeIndex' object has no attribute 'year'\n"
     ]
    },
    {
     "name": "stderr",
     "output_type": "stream",
     "text": [
      "CLNY: No timezone found, symbol may be delisted\n"
     ]
    },
    {
     "name": "stdout",
     "output_type": "stream",
     "text": [
      "Error fetching dividend data for CLNY: 'RangeIndex' object has no attribute 'year'\n"
     ]
    },
    {
     "name": "stderr",
     "output_type": "stream",
     "text": [
      "CLR: No timezone found, symbol may be delisted\n"
     ]
    },
    {
     "name": "stdout",
     "output_type": "stream",
     "text": [
      "Error fetching dividend data for CLR: 'RangeIndex' object has no attribute 'year'\n"
     ]
    },
    {
     "name": "stderr",
     "output_type": "stream",
     "text": [
      "CLSN: No timezone found, symbol may be delisted\n"
     ]
    },
    {
     "name": "stdout",
     "output_type": "stream",
     "text": [
      "Error fetching dividend data for CLSN: 'RangeIndex' object has no attribute 'year'\n"
     ]
    },
    {
     "name": "stderr",
     "output_type": "stream",
     "text": [
      "CLUB: No timezone found, symbol may be delisted\n"
     ]
    },
    {
     "name": "stdout",
     "output_type": "stream",
     "text": [
      "Error fetching dividend data for CLUB: 'RangeIndex' object has no attribute 'year'\n"
     ]
    },
    {
     "name": "stderr",
     "output_type": "stream",
     "text": [
      "CLVS: No timezone found, symbol may be delisted\n"
     ]
    },
    {
     "name": "stdout",
     "output_type": "stream",
     "text": [
      "Error fetching dividend data for CLVS: 'RangeIndex' object has no attribute 'year'\n"
     ]
    },
    {
     "name": "stderr",
     "output_type": "stream",
     "text": [
      "CLXT: No timezone found, symbol may be delisted\n"
     ]
    },
    {
     "name": "stdout",
     "output_type": "stream",
     "text": [
      "Error fetching dividend data for CLXT: 'RangeIndex' object has no attribute 'year'\n"
     ]
    },
    {
     "name": "stderr",
     "output_type": "stream",
     "text": [
      "CMD: No timezone found, symbol may be delisted\n"
     ]
    },
    {
     "name": "stdout",
     "output_type": "stream",
     "text": [
      "Error fetching dividend data for CMD: 'RangeIndex' object has no attribute 'year'\n"
     ]
    },
    {
     "name": "stderr",
     "output_type": "stream",
     "text": [
      "CMO: No timezone found, symbol may be delisted\n"
     ]
    },
    {
     "name": "stdout",
     "output_type": "stream",
     "text": [
      "Error fetching dividend data for CMO: 'RangeIndex' object has no attribute 'year'\n"
     ]
    },
    {
     "name": "stderr",
     "output_type": "stream",
     "text": [
      "CNBKA: No timezone found, symbol may be delisted\n"
     ]
    },
    {
     "name": "stdout",
     "output_type": "stream",
     "text": [
      "Error fetching dividend data for CNBKA: 'RangeIndex' object has no attribute 'year'\n"
     ]
    },
    {
     "name": "stderr",
     "output_type": "stream",
     "text": [
      "CNCE: Period 'max' is invalid, must be one of ['1d', '5d']\n"
     ]
    },
    {
     "name": "stdout",
     "output_type": "stream",
     "text": [
      "Error fetching dividend data for CNCE: 'RangeIndex' object has no attribute 'year'\n"
     ]
    },
    {
     "name": "stderr",
     "output_type": "stream",
     "text": [
      "COG: No timezone found, symbol may be delisted\n"
     ]
    },
    {
     "name": "stdout",
     "output_type": "stream",
     "text": [
      "Error fetching dividend data for COG: 'RangeIndex' object has no attribute 'year'\n"
     ]
    },
    {
     "name": "stderr",
     "output_type": "stream",
     "text": [
      "CONE: No timezone found, symbol may be delisted\n"
     ]
    },
    {
     "name": "stdout",
     "output_type": "stream",
     "text": [
      "Error fetching dividend data for CONE: 'RangeIndex' object has no attribute 'year'\n"
     ]
    },
    {
     "name": "stderr",
     "output_type": "stream",
     "text": [
      "CORE: No timezone found, symbol may be delisted\n"
     ]
    },
    {
     "name": "stdout",
     "output_type": "stream",
     "text": [
      "Error fetching dividend data for CORE: 'RangeIndex' object has no attribute 'year'\n"
     ]
    },
    {
     "name": "stderr",
     "output_type": "stream",
     "text": [
      "CORR: No data found, symbol may be delisted\n"
     ]
    },
    {
     "name": "stdout",
     "output_type": "stream",
     "text": [
      "Error fetching dividend data for CORR: 'RangeIndex' object has no attribute 'year'\n"
     ]
    },
    {
     "name": "stderr",
     "output_type": "stream",
     "text": [
      "COUP: No timezone found, symbol may be delisted\n"
     ]
    },
    {
     "name": "stdout",
     "output_type": "stream",
     "text": [
      "Error fetching dividend data for COUP: 'RangeIndex' object has no attribute 'year'\n"
     ]
    },
    {
     "name": "stderr",
     "output_type": "stream",
     "text": [
      "COWN: No timezone found, symbol may be delisted\n"
     ]
    },
    {
     "name": "stdout",
     "output_type": "stream",
     "text": [
      "Error fetching dividend data for COWN: 'RangeIndex' object has no attribute 'year'\n"
     ]
    },
    {
     "name": "stderr",
     "output_type": "stream",
     "text": [
      "CPLG: No timezone found, symbol may be delisted\n"
     ]
    },
    {
     "name": "stdout",
     "output_type": "stream",
     "text": [
      "Error fetching dividend data for CPLG: 'RangeIndex' object has no attribute 'year'\n"
     ]
    },
    {
     "name": "stderr",
     "output_type": "stream",
     "text": [
      "CPST: No timezone found, symbol may be delisted\n"
     ]
    },
    {
     "name": "stdout",
     "output_type": "stream",
     "text": [
      "Error fetching dividend data for CPST: 'RangeIndex' object has no attribute 'year'\n"
     ]
    },
    {
     "name": "stderr",
     "output_type": "stream",
     "text": [
      "CREE: No timezone found, symbol may be delisted\n"
     ]
    },
    {
     "name": "stdout",
     "output_type": "stream",
     "text": [
      "Error fetching dividend data for CREE: 'RangeIndex' object has no attribute 'year'\n"
     ]
    },
    {
     "name": "stderr",
     "output_type": "stream",
     "text": [
      "CRTX: No timezone found, symbol may be delisted\n"
     ]
    },
    {
     "name": "stdout",
     "output_type": "stream",
     "text": [
      "Error fetching dividend data for CRTX: 'RangeIndex' object has no attribute 'year'\n"
     ]
    },
    {
     "name": "stderr",
     "output_type": "stream",
     "text": [
      "CRY: No timezone found, symbol may be delisted\n"
     ]
    },
    {
     "name": "stdout",
     "output_type": "stream",
     "text": [
      "Error fetching dividend data for CRY: 'RangeIndex' object has no attribute 'year'\n"
     ]
    },
    {
     "name": "stderr",
     "output_type": "stream",
     "text": [
      "CSII: No timezone found, symbol may be delisted\n"
     ]
    },
    {
     "name": "stdout",
     "output_type": "stream",
     "text": [
      "Error fetching dividend data for CSII: 'RangeIndex' object has no attribute 'year'\n"
     ]
    },
    {
     "name": "stderr",
     "output_type": "stream",
     "text": [
      "CSLT: No timezone found, symbol may be delisted\n"
     ]
    },
    {
     "name": "stdout",
     "output_type": "stream",
     "text": [
      "Error fetching dividend data for CSLT: 'RangeIndex' object has no attribute 'year'\n"
     ]
    },
    {
     "name": "stderr",
     "output_type": "stream",
     "text": [
      "CSOD: No timezone found, symbol may be delisted\n"
     ]
    },
    {
     "name": "stdout",
     "output_type": "stream",
     "text": [
      "Error fetching dividend data for CSOD: 'RangeIndex' object has no attribute 'year'\n"
     ]
    },
    {
     "name": "stderr",
     "output_type": "stream",
     "text": [
      "CSU: No timezone found, symbol may be delisted\n"
     ]
    },
    {
     "name": "stdout",
     "output_type": "stream",
     "text": [
      "Error fetching dividend data for CSU: 'RangeIndex' object has no attribute 'year'\n"
     ]
    },
    {
     "name": "stderr",
     "output_type": "stream",
     "text": [
      "CTB: No timezone found, symbol may be delisted\n"
     ]
    },
    {
     "name": "stdout",
     "output_type": "stream",
     "text": [
      "Error fetching dividend data for CTB: 'RangeIndex' object has no attribute 'year'\n"
     ]
    },
    {
     "name": "stderr",
     "output_type": "stream",
     "text": [
      "CTG: No timezone found, symbol may be delisted\n"
     ]
    },
    {
     "name": "stdout",
     "output_type": "stream",
     "text": [
      "Error fetching dividend data for CTG: 'RangeIndex' object has no attribute 'year'\n"
     ]
    },
    {
     "name": "stderr",
     "output_type": "stream",
     "text": [
      "CTIB: No timezone found, symbol may be delisted\n"
     ]
    },
    {
     "name": "stdout",
     "output_type": "stream",
     "text": [
      "Error fetching dividend data for CTIB: 'RangeIndex' object has no attribute 'year'\n"
     ]
    },
    {
     "name": "stderr",
     "output_type": "stream",
     "text": [
      "CTIC: No timezone found, symbol may be delisted\n"
     ]
    },
    {
     "name": "stdout",
     "output_type": "stream",
     "text": [
      "Error fetching dividend data for CTIC: 'RangeIndex' object has no attribute 'year'\n"
     ]
    },
    {
     "name": "stderr",
     "output_type": "stream",
     "text": [
      "CTL: No timezone found, symbol may be delisted\n"
     ]
    },
    {
     "name": "stdout",
     "output_type": "stream",
     "text": [
      "Error fetching dividend data for CTL: 'RangeIndex' object has no attribute 'year'\n"
     ]
    },
    {
     "name": "stderr",
     "output_type": "stream",
     "text": [
      "CTT: No timezone found, symbol may be delisted\n"
     ]
    },
    {
     "name": "stdout",
     "output_type": "stream",
     "text": [
      "Error fetching dividend data for CTT: 'RangeIndex' object has no attribute 'year'\n"
     ]
    },
    {
     "name": "stderr",
     "output_type": "stream",
     "text": [
      "CTXS: No timezone found, symbol may be delisted\n"
     ]
    },
    {
     "name": "stdout",
     "output_type": "stream",
     "text": [
      "Error fetching dividend data for CTXS: 'RangeIndex' object has no attribute 'year'\n"
     ]
    },
    {
     "name": "stderr",
     "output_type": "stream",
     "text": [
      "CUB: No timezone found, symbol may be delisted\n"
     ]
    },
    {
     "name": "stdout",
     "output_type": "stream",
     "text": [
      "Error fetching dividend data for CUB: 'RangeIndex' object has no attribute 'year'\n"
     ]
    },
    {
     "name": "stderr",
     "output_type": "stream",
     "text": [
      "CVA: No timezone found, symbol may be delisted\n"
     ]
    },
    {
     "name": "stdout",
     "output_type": "stream",
     "text": [
      "Error fetching dividend data for CVA: 'RangeIndex' object has no attribute 'year'\n"
     ]
    },
    {
     "name": "stderr",
     "output_type": "stream",
     "text": [
      "CVIA: No timezone found, symbol may be delisted\n"
     ]
    },
    {
     "name": "stdout",
     "output_type": "stream",
     "text": [
      "Error fetching dividend data for CVIA: 'RangeIndex' object has no attribute 'year'\n"
     ]
    },
    {
     "name": "stderr",
     "output_type": "stream",
     "text": [
      "CVTI: No timezone found, symbol may be delisted\n"
     ]
    },
    {
     "name": "stdout",
     "output_type": "stream",
     "text": [
      "Error fetching dividend data for CVTI: 'RangeIndex' object has no attribute 'year'\n"
     ]
    },
    {
     "name": "stderr",
     "output_type": "stream",
     "text": [
      "CXO: No timezone found, symbol may be delisted\n"
     ]
    },
    {
     "name": "stdout",
     "output_type": "stream",
     "text": [
      "Error fetching dividend data for CXO: 'RangeIndex' object has no attribute 'year'\n"
     ]
    },
    {
     "name": "stderr",
     "output_type": "stream",
     "text": [
      "CXP: No timezone found, symbol may be delisted\n"
     ]
    },
    {
     "name": "stdout",
     "output_type": "stream",
     "text": [
      "Error fetching dividend data for CXP: 'RangeIndex' object has no attribute 'year'\n"
     ]
    },
    {
     "name": "stderr",
     "output_type": "stream",
     "text": [
      "CYBE: No timezone found, symbol may be delisted\n"
     ]
    },
    {
     "name": "stdout",
     "output_type": "stream",
     "text": [
      "Error fetching dividend data for CYBE: 'RangeIndex' object has no attribute 'year'\n"
     ]
    },
    {
     "name": "stderr",
     "output_type": "stream",
     "text": [
      "CYTR: No timezone found, symbol may be delisted\n"
     ]
    },
    {
     "name": "stdout",
     "output_type": "stream",
     "text": [
      "Error fetching dividend data for CYTR: 'RangeIndex' object has no attribute 'year'\n"
     ]
    },
    {
     "name": "stderr",
     "output_type": "stream",
     "text": [
      "DISCA: No timezone found, symbol may be delisted\n"
     ]
    },
    {
     "name": "stdout",
     "output_type": "stream",
     "text": [
      "Error fetching dividend data for DISCA: 'RangeIndex' object has no attribute 'year'\n"
     ]
    },
    {
     "name": "stderr",
     "output_type": "stream",
     "text": [
      "DISCK: No timezone found, symbol may be delisted\n"
     ]
    },
    {
     "name": "stdout",
     "output_type": "stream",
     "text": [
      "Error fetching dividend data for DISCK: 'RangeIndex' object has no attribute 'year'\n"
     ]
    },
    {
     "name": "stderr",
     "output_type": "stream",
     "text": [
      "DISH: No timezone found, symbol may be delisted\n"
     ]
    },
    {
     "name": "stdout",
     "output_type": "stream",
     "text": [
      "Error fetching dividend data for DISH: 'RangeIndex' object has no attribute 'year'\n"
     ]
    },
    {
     "name": "stderr",
     "output_type": "stream",
     "text": [
      "DLPH: No timezone found, symbol may be delisted\n"
     ]
    },
    {
     "name": "stdout",
     "output_type": "stream",
     "text": [
      "Error fetching dividend data for DLPH: 'RangeIndex' object has no attribute 'year'\n"
     ]
    },
    {
     "name": "stderr",
     "output_type": "stream",
     "text": [
      "DNKN: No timezone found, symbol may be delisted\n"
     ]
    },
    {
     "name": "stdout",
     "output_type": "stream",
     "text": [
      "Error fetching dividend data for DNKN: 'RangeIndex' object has no attribute 'year'\n"
     ]
    },
    {
     "name": "stderr",
     "output_type": "stream",
     "text": [
      "DNR: No timezone found, symbol may be delisted\n"
     ]
    },
    {
     "name": "stdout",
     "output_type": "stream",
     "text": [
      "Error fetching dividend data for DNR: 'RangeIndex' object has no attribute 'year'\n"
     ]
    },
    {
     "name": "stderr",
     "output_type": "stream",
     "text": [
      "DRAD: No timezone found, symbol may be delisted\n"
     ]
    },
    {
     "name": "stdout",
     "output_type": "stream",
     "text": [
      "Error fetching dividend data for DRAD: 'RangeIndex' object has no attribute 'year'\n"
     ]
    },
    {
     "name": "stderr",
     "output_type": "stream",
     "text": [
      "DRE: No timezone found, symbol may be delisted\n"
     ]
    },
    {
     "name": "stdout",
     "output_type": "stream",
     "text": [
      "Error fetching dividend data for DRE: 'RangeIndex' object has no attribute 'year'\n"
     ]
    },
    {
     "name": "stderr",
     "output_type": "stream",
     "text": [
      "DRNA: No timezone found, symbol may be delisted\n"
     ]
    },
    {
     "name": "stdout",
     "output_type": "stream",
     "text": [
      "Error fetching dividend data for DRNA: 'RangeIndex' object has no attribute 'year'\n"
     ]
    },
    {
     "name": "stderr",
     "output_type": "stream",
     "text": [
      "DS: No timezone found, symbol may be delisted\n"
     ]
    },
    {
     "name": "stdout",
     "output_type": "stream",
     "text": [
      "Error fetching dividend data for DS: 'RangeIndex' object has no attribute 'year'\n"
     ]
    },
    {
     "name": "stderr",
     "output_type": "stream",
     "text": [
      "DSPG: No timezone found, symbol may be delisted\n"
     ]
    },
    {
     "name": "stdout",
     "output_type": "stream",
     "text": [
      "Error fetching dividend data for DSPG: 'RangeIndex' object has no attribute 'year'\n"
     ]
    },
    {
     "name": "stderr",
     "output_type": "stream",
     "text": [
      "DVD: No timezone found, symbol may be delisted\n"
     ]
    },
    {
     "name": "stdout",
     "output_type": "stream",
     "text": [
      "Error fetching dividend data for DVD: 'RangeIndex' object has no attribute 'year'\n"
     ]
    },
    {
     "name": "stderr",
     "output_type": "stream",
     "text": [
      "EBIX: No timezone found, symbol may be delisted\n"
     ]
    },
    {
     "name": "stdout",
     "output_type": "stream",
     "text": [
      "Error fetching dividend data for EBIX: 'RangeIndex' object has no attribute 'year'\n"
     ]
    },
    {
     "name": "stderr",
     "output_type": "stream",
     "text": [
      "EBSB: No timezone found, symbol may be delisted\n"
     ]
    },
    {
     "name": "stdout",
     "output_type": "stream",
     "text": [
      "Error fetching dividend data for EBSB: 'RangeIndex' object has no attribute 'year'\n"
     ]
    },
    {
     "name": "stderr",
     "output_type": "stream",
     "text": [
      "ECHO: No timezone found, symbol may be delisted\n"
     ]
    },
    {
     "name": "stdout",
     "output_type": "stream",
     "text": [
      "Error fetching dividend data for ECHO: 'RangeIndex' object has no attribute 'year'\n"
     ]
    },
    {
     "name": "stderr",
     "output_type": "stream",
     "text": [
      "ECOL: No timezone found, symbol may be delisted\n"
     ]
    },
    {
     "name": "stdout",
     "output_type": "stream",
     "text": [
      "Error fetching dividend data for ECOL: 'RangeIndex' object has no attribute 'year'\n"
     ]
    },
    {
     "name": "stderr",
     "output_type": "stream",
     "text": [
      "ECOM: No timezone found, symbol may be delisted\n"
     ]
    },
    {
     "name": "stdout",
     "output_type": "stream",
     "text": [
      "Error fetching dividend data for ECOM: 'RangeIndex' object has no attribute 'year'\n"
     ]
    },
    {
     "name": "stderr",
     "output_type": "stream",
     "text": [
      "EGOV: No timezone found, symbol may be delisted\n"
     ]
    },
    {
     "name": "stdout",
     "output_type": "stream",
     "text": [
      "Error fetching dividend data for EGOV: 'RangeIndex' object has no attribute 'year'\n"
     ]
    },
    {
     "name": "stderr",
     "output_type": "stream",
     "text": [
      "EIDX: No timezone found, symbol may be delisted\n"
     ]
    },
    {
     "name": "stdout",
     "output_type": "stream",
     "text": [
      "Error fetching dividend data for EIDX: 'RangeIndex' object has no attribute 'year'\n"
     ]
    },
    {
     "name": "stderr",
     "output_type": "stream",
     "text": [
      "EIGI: No timezone found, symbol may be delisted\n"
     ]
    },
    {
     "name": "stdout",
     "output_type": "stream",
     "text": [
      "Error fetching dividend data for EIGI: 'RangeIndex' object has no attribute 'year'\n"
     ]
    },
    {
     "name": "stderr",
     "output_type": "stream",
     "text": [
      "ELGX: No timezone found, symbol may be delisted\n"
     ]
    },
    {
     "name": "stdout",
     "output_type": "stream",
     "text": [
      "Error fetching dividend data for ELGX: 'RangeIndex' object has no attribute 'year'\n"
     ]
    },
    {
     "name": "stderr",
     "output_type": "stream",
     "text": [
      "ELVT: No timezone found, symbol may be delisted\n"
     ]
    },
    {
     "name": "stdout",
     "output_type": "stream",
     "text": [
      "Error fetching dividend data for ELVT: 'RangeIndex' object has no attribute 'year'\n"
     ]
    },
    {
     "name": "stderr",
     "output_type": "stream",
     "text": [
      "ELY: No timezone found, symbol may be delisted\n"
     ]
    },
    {
     "name": "stdout",
     "output_type": "stream",
     "text": [
      "Error fetching dividend data for ELY: 'RangeIndex' object has no attribute 'year'\n"
     ]
    },
    {
     "name": "stderr",
     "output_type": "stream",
     "text": [
      "EMAN: No timezone found, symbol may be delisted\n"
     ]
    },
    {
     "name": "stdout",
     "output_type": "stream",
     "text": [
      "Error fetching dividend data for EMAN: 'RangeIndex' object has no attribute 'year'\n"
     ]
    },
    {
     "name": "stderr",
     "output_type": "stream",
     "text": [
      "EMCF: No timezone found, symbol may be delisted\n"
     ]
    },
    {
     "name": "stdout",
     "output_type": "stream",
     "text": [
      "Error fetching dividend data for EMCF: 'RangeIndex' object has no attribute 'year'\n"
     ]
    },
    {
     "name": "stderr",
     "output_type": "stream",
     "text": [
      "ENDP: Period 'max' is invalid, must be one of ['1d', '5d']\n"
     ]
    },
    {
     "name": "stdout",
     "output_type": "stream",
     "text": [
      "Error fetching dividend data for ENDP: 'RangeIndex' object has no attribute 'year'\n"
     ]
    },
    {
     "name": "stderr",
     "output_type": "stream",
     "text": [
      "ENOB: No timezone found, symbol may be delisted\n"
     ]
    },
    {
     "name": "stdout",
     "output_type": "stream",
     "text": [
      "Error fetching dividend data for ENOB: 'RangeIndex' object has no attribute 'year'\n"
     ]
    },
    {
     "name": "stderr",
     "output_type": "stream",
     "text": [
      "ENT: No timezone found, symbol may be delisted\n"
     ]
    },
    {
     "name": "stdout",
     "output_type": "stream",
     "text": [
      "Error fetching dividend data for ENT: 'RangeIndex' object has no attribute 'year'\n"
     ]
    },
    {
     "name": "stderr",
     "output_type": "stream",
     "text": [
      "EPAY: No timezone found, symbol may be delisted\n"
     ]
    },
    {
     "name": "stdout",
     "output_type": "stream",
     "text": [
      "Error fetching dividend data for EPAY: 'RangeIndex' object has no attribute 'year'\n"
     ]
    },
    {
     "name": "stderr",
     "output_type": "stream",
     "text": [
      "EPZM: No timezone found, symbol may be delisted\n"
     ]
    },
    {
     "name": "stdout",
     "output_type": "stream",
     "text": [
      "Error fetching dividend data for EPZM: 'RangeIndex' object has no attribute 'year'\n"
     ]
    },
    {
     "name": "stderr",
     "output_type": "stream",
     "text": [
      "ERI: No timezone found, symbol may be delisted\n"
     ]
    },
    {
     "name": "stdout",
     "output_type": "stream",
     "text": [
      "Error fetching dividend data for ERI: 'RangeIndex' object has no attribute 'year'\n"
     ]
    },
    {
     "name": "stderr",
     "output_type": "stream",
     "text": [
      "ESBK: No timezone found, symbol may be delisted\n"
     ]
    },
    {
     "name": "stdout",
     "output_type": "stream",
     "text": [
      "Error fetching dividend data for ESBK: 'RangeIndex' object has no attribute 'year'\n"
     ]
    },
    {
     "name": "stderr",
     "output_type": "stream",
     "text": [
      "ESTE: No timezone found, symbol may be delisted\n"
     ]
    },
    {
     "name": "stdout",
     "output_type": "stream",
     "text": [
      "Error fetching dividend data for ESTE: 'RangeIndex' object has no attribute 'year'\n"
     ]
    },
    {
     "name": "stderr",
     "output_type": "stream",
     "text": [
      "ESXB: No timezone found, symbol may be delisted\n"
     ]
    },
    {
     "name": "stdout",
     "output_type": "stream",
     "text": [
      "Error fetching dividend data for ESXB: 'RangeIndex' object has no attribute 'year'\n"
     ]
    },
    {
     "name": "stderr",
     "output_type": "stream",
     "text": [
      "ETFC: No timezone found, symbol may be delisted\n"
     ]
    },
    {
     "name": "stdout",
     "output_type": "stream",
     "text": [
      "Error fetching dividend data for ETFC: 'RangeIndex' object has no attribute 'year'\n"
     ]
    },
    {
     "name": "stderr",
     "output_type": "stream",
     "text": [
      "ETH: No timezone found, symbol may be delisted\n"
     ]
    },
    {
     "name": "stdout",
     "output_type": "stream",
     "text": [
      "Error fetching dividend data for ETH: 'RangeIndex' object has no attribute 'year'\n"
     ]
    },
    {
     "name": "stderr",
     "output_type": "stream",
     "text": [
      "ETM: No timezone found, symbol may be delisted\n"
     ]
    },
    {
     "name": "stdout",
     "output_type": "stream",
     "text": [
      "Error fetching dividend data for ETM: 'RangeIndex' object has no attribute 'year'\n"
     ]
    },
    {
     "name": "stderr",
     "output_type": "stream",
     "text": [
      "EVOP: No timezone found, symbol may be delisted\n"
     ]
    },
    {
     "name": "stdout",
     "output_type": "stream",
     "text": [
      "Error fetching dividend data for EVOP: 'RangeIndex' object has no attribute 'year'\n"
     ]
    },
    {
     "name": "stderr",
     "output_type": "stream",
     "text": [
      "EXTN: No timezone found, symbol may be delisted\n"
     ]
    },
    {
     "name": "stdout",
     "output_type": "stream",
     "text": [
      "Error fetching dividend data for EXTN: 'RangeIndex' object has no attribute 'year'\n"
     ]
    },
    {
     "name": "stderr",
     "output_type": "stream",
     "text": [
      "EYES: No timezone found, symbol may be delisted\n"
     ]
    },
    {
     "name": "stdout",
     "output_type": "stream",
     "text": [
      "Error fetching dividend data for EYES: 'RangeIndex' object has no attribute 'year'\n"
     ]
    },
    {
     "name": "stderr",
     "output_type": "stream",
     "text": [
      "FB: No timezone found, symbol may be delisted\n"
     ]
    },
    {
     "name": "stdout",
     "output_type": "stream",
     "text": [
      "Error fetching dividend data for FB: 'RangeIndex' object has no attribute 'year'\n"
     ]
    },
    {
     "name": "stderr",
     "output_type": "stream",
     "text": [
      "FBC: No timezone found, symbol may be delisted\n"
     ]
    },
    {
     "name": "stdout",
     "output_type": "stream",
     "text": [
      "Error fetching dividend data for FBC: 'RangeIndex' object has no attribute 'year'\n"
     ]
    },
    {
     "name": "stderr",
     "output_type": "stream",
     "text": [
      "FBHS: No timezone found, symbol may be delisted\n"
     ]
    },
    {
     "name": "stdout",
     "output_type": "stream",
     "text": [
      "Error fetching dividend data for FBHS: 'RangeIndex' object has no attribute 'year'\n"
     ]
    },
    {
     "name": "stderr",
     "output_type": "stream",
     "text": [
      "FBM: No timezone found, symbol may be delisted\n"
     ]
    },
    {
     "name": "stdout",
     "output_type": "stream",
     "text": [
      "Error fetching dividend data for FBM: 'RangeIndex' object has no attribute 'year'\n"
     ]
    },
    {
     "name": "stderr",
     "output_type": "stream",
     "text": [
      "FBSS: No timezone found, symbol may be delisted\n"
     ]
    },
    {
     "name": "stdout",
     "output_type": "stream",
     "text": [
      "Error fetching dividend data for FBSS: 'RangeIndex' object has no attribute 'year'\n"
     ]
    },
    {
     "name": "stderr",
     "output_type": "stream",
     "text": [
      "FCBP: No timezone found, symbol may be delisted\n"
     ]
    },
    {
     "name": "stdout",
     "output_type": "stream",
     "text": [
      "Error fetching dividend data for FCBP: 'RangeIndex' object has no attribute 'year'\n"
     ]
    },
    {
     "name": "stderr",
     "output_type": "stream",
     "text": [
      "FCCY: No timezone found, symbol may be delisted\n"
     ]
    },
    {
     "name": "stdout",
     "output_type": "stream",
     "text": [
      "Error fetching dividend data for FCCY: 'RangeIndex' object has no attribute 'year'\n"
     ]
    },
    {
     "name": "stderr",
     "output_type": "stream",
     "text": [
      "FDEF: No timezone found, symbol may be delisted\n"
     ]
    },
    {
     "name": "stdout",
     "output_type": "stream",
     "text": [
      "Error fetching dividend data for FDEF: 'RangeIndex' object has no attribute 'year'\n"
     ]
    },
    {
     "name": "stderr",
     "output_type": "stream",
     "text": [
      "FEYE: No timezone found, symbol may be delisted\n"
     ]
    },
    {
     "name": "stdout",
     "output_type": "stream",
     "text": [
      "Error fetching dividend data for FEYE: 'RangeIndex' object has no attribute 'year'\n"
     ]
    },
    {
     "name": "stderr",
     "output_type": "stream",
     "text": [
      "FFG: No timezone found, symbol may be delisted\n"
     ]
    },
    {
     "name": "stdout",
     "output_type": "stream",
     "text": [
      "Error fetching dividend data for FFG: 'RangeIndex' object has no attribute 'year'\n"
     ]
    },
    {
     "name": "stderr",
     "output_type": "stream",
     "text": [
      "FIT: No timezone found, symbol may be delisted\n"
     ]
    },
    {
     "name": "stdout",
     "output_type": "stream",
     "text": [
      "Error fetching dividend data for FIT: 'RangeIndex' object has no attribute 'year'\n"
     ]
    },
    {
     "name": "stderr",
     "output_type": "stream",
     "text": [
      "FLDM: No timezone found, symbol may be delisted\n"
     ]
    },
    {
     "name": "stdout",
     "output_type": "stream",
     "text": [
      "Error fetching dividend data for FLDM: 'RangeIndex' object has no attribute 'year'\n"
     ]
    },
    {
     "name": "stderr",
     "output_type": "stream",
     "text": [
      "FLIR: No timezone found, symbol may be delisted\n"
     ]
    },
    {
     "name": "stdout",
     "output_type": "stream",
     "text": [
      "Error fetching dividend data for FLIR: 'RangeIndex' object has no attribute 'year'\n"
     ]
    },
    {
     "name": "stderr",
     "output_type": "stream",
     "text": [
      "FLMN: No timezone found, symbol may be delisted\n"
     ]
    },
    {
     "name": "stdout",
     "output_type": "stream",
     "text": [
      "Error fetching dividend data for FLMN: 'RangeIndex' object has no attribute 'year'\n"
     ]
    },
    {
     "name": "stderr",
     "output_type": "stream",
     "text": [
      "FLXN: No timezone found, symbol may be delisted\n"
     ]
    },
    {
     "name": "stdout",
     "output_type": "stream",
     "text": [
      "Error fetching dividend data for FLXN: 'RangeIndex' object has no attribute 'year'\n"
     ]
    },
    {
     "name": "stderr",
     "output_type": "stream",
     "text": [
      "FMBI: No timezone found, symbol may be delisted\n"
     ]
    },
    {
     "name": "stdout",
     "output_type": "stream",
     "text": [
      "Error fetching dividend data for FMBI: 'RangeIndex' object has no attribute 'year'\n"
     ]
    },
    {
     "name": "stderr",
     "output_type": "stream",
     "text": [
      "FNHC: No timezone found, symbol may be delisted\n"
     ]
    },
    {
     "name": "stdout",
     "output_type": "stream",
     "text": [
      "Error fetching dividend data for FNHC: 'RangeIndex' object has no attribute 'year'\n"
     ]
    },
    {
     "name": "stderr",
     "output_type": "stream",
     "text": [
      "FNJN: No timezone found, symbol may be delisted\n"
     ]
    },
    {
     "name": "stdout",
     "output_type": "stream",
     "text": [
      "Error fetching dividend data for FNJN: 'RangeIndex' object has no attribute 'year'\n"
     ]
    },
    {
     "name": "stderr",
     "output_type": "stream",
     "text": [
      "FOCS: No timezone found, symbol may be delisted\n"
     ]
    },
    {
     "name": "stdout",
     "output_type": "stream",
     "text": [
      "Error fetching dividend data for FOCS: 'RangeIndex' object has no attribute 'year'\n"
     ]
    },
    {
     "name": "stderr",
     "output_type": "stream",
     "text": [
      "FOE: No timezone found, symbol may be delisted\n"
     ]
    },
    {
     "name": "stdout",
     "output_type": "stream",
     "text": [
      "Error fetching dividend data for FOE: 'RangeIndex' object has no attribute 'year'\n"
     ]
    },
    {
     "name": "stderr",
     "output_type": "stream",
     "text": [
      "FPRX: No timezone found, symbol may be delisted\n"
     ]
    },
    {
     "name": "stdout",
     "output_type": "stream",
     "text": [
      "Error fetching dividend data for FPRX: 'RangeIndex' object has no attribute 'year'\n"
     ]
    },
    {
     "name": "stderr",
     "output_type": "stream",
     "text": [
      "FRAN: No timezone found, symbol may be delisted\n"
     ]
    },
    {
     "name": "stdout",
     "output_type": "stream",
     "text": [
      "Error fetching dividend data for FRAN: 'RangeIndex' object has no attribute 'year'\n"
     ]
    },
    {
     "name": "stderr",
     "output_type": "stream",
     "text": [
      "FRC: No timezone found, symbol may be delisted\n"
     ]
    },
    {
     "name": "stdout",
     "output_type": "stream",
     "text": [
      "Error fetching dividend data for FRC: 'RangeIndex' object has no attribute 'year'\n"
     ]
    },
    {
     "name": "stderr",
     "output_type": "stream",
     "text": [
      "FRGI: No timezone found, symbol may be delisted\n"
     ]
    },
    {
     "name": "stdout",
     "output_type": "stream",
     "text": [
      "Error fetching dividend data for FRGI: 'RangeIndex' object has no attribute 'year'\n"
     ]
    },
    {
     "name": "stderr",
     "output_type": "stream",
     "text": [
      "FRTA: No timezone found, symbol may be delisted\n"
     ]
    },
    {
     "name": "stdout",
     "output_type": "stream",
     "text": [
      "Error fetching dividend data for FRTA: 'RangeIndex' object has no attribute 'year'\n"
     ]
    },
    {
     "name": "stderr",
     "output_type": "stream",
     "text": [
      "FSB: No timezone found, symbol may be delisted\n"
     ]
    },
    {
     "name": "stdout",
     "output_type": "stream",
     "text": [
      "Error fetching dividend data for FSB: 'RangeIndex' object has no attribute 'year'\n"
     ]
    },
    {
     "name": "stderr",
     "output_type": "stream",
     "text": [
      "FSCT: No timezone found, symbol may be delisted\n"
     ]
    },
    {
     "name": "stdout",
     "output_type": "stream",
     "text": [
      "Error fetching dividend data for FSCT: 'RangeIndex' object has no attribute 'year'\n"
     ]
    },
    {
     "name": "stderr",
     "output_type": "stream",
     "text": [
      "FTSI: No timezone found, symbol may be delisted\n"
     ]
    },
    {
     "name": "stdout",
     "output_type": "stream",
     "text": [
      "Error fetching dividend data for FTSI: 'RangeIndex' object has no attribute 'year'\n"
     ]
    },
    {
     "name": "stderr",
     "output_type": "stream",
     "text": [
      "FVE: No timezone found, symbol may be delisted\n"
     ]
    },
    {
     "name": "stdout",
     "output_type": "stream",
     "text": [
      "Error fetching dividend data for FVE: 'RangeIndex' object has no attribute 'year'\n"
     ]
    },
    {
     "name": "stderr",
     "output_type": "stream",
     "text": [
      "GBL: No timezone found, symbol may be delisted\n"
     ]
    },
    {
     "name": "stdout",
     "output_type": "stream",
     "text": [
      "Error fetching dividend data for GBL: 'RangeIndex' object has no attribute 'year'\n"
     ]
    },
    {
     "name": "stderr",
     "output_type": "stream",
     "text": [
      "GBT: No timezone found, symbol may be delisted\n"
     ]
    },
    {
     "name": "stdout",
     "output_type": "stream",
     "text": [
      "Error fetching dividend data for GBT: 'RangeIndex' object has no attribute 'year'\n"
     ]
    },
    {
     "name": "stderr",
     "output_type": "stream",
     "text": [
      "GCAP: No timezone found, symbol may be delisted\n"
     ]
    },
    {
     "name": "stdout",
     "output_type": "stream",
     "text": [
      "Error fetching dividend data for GCAP: 'RangeIndex' object has no attribute 'year'\n"
     ]
    },
    {
     "name": "stderr",
     "output_type": "stream",
     "text": [
      "GCP: No timezone found, symbol may be delisted\n"
     ]
    },
    {
     "name": "stdout",
     "output_type": "stream",
     "text": [
      "Error fetching dividend data for GCP: 'RangeIndex' object has no attribute 'year'\n"
     ]
    },
    {
     "name": "stderr",
     "output_type": "stream",
     "text": [
      "GDP: No timezone found, symbol may be delisted\n"
     ]
    },
    {
     "name": "stdout",
     "output_type": "stream",
     "text": [
      "Error fetching dividend data for GDP: 'RangeIndex' object has no attribute 'year'\n"
     ]
    },
    {
     "name": "stderr",
     "output_type": "stream",
     "text": [
      "GEC: No timezone found, symbol may be delisted\n"
     ]
    },
    {
     "name": "stdout",
     "output_type": "stream",
     "text": [
      "Error fetching dividend data for GEC: 'RangeIndex' object has no attribute 'year'\n"
     ]
    },
    {
     "name": "stderr",
     "output_type": "stream",
     "text": [
      "GFED: No timezone found, symbol may be delisted\n"
     ]
    },
    {
     "name": "stdout",
     "output_type": "stream",
     "text": [
      "Error fetching dividend data for GFED: 'RangeIndex' object has no attribute 'year'\n"
     ]
    },
    {
     "name": "stderr",
     "output_type": "stream",
     "text": [
      "GFN: No timezone found, symbol may be delisted\n"
     ]
    },
    {
     "name": "stdout",
     "output_type": "stream",
     "text": [
      "Error fetching dividend data for GFN: 'RangeIndex' object has no attribute 'year'\n"
     ]
    },
    {
     "name": "stderr",
     "output_type": "stream",
     "text": [
      "GHL: No timezone found, symbol may be delisted\n"
     ]
    },
    {
     "name": "stdout",
     "output_type": "stream",
     "text": [
      "Error fetching dividend data for GHL: 'RangeIndex' object has no attribute 'year'\n"
     ]
    },
    {
     "name": "stderr",
     "output_type": "stream",
     "text": [
      "GLIBA: No timezone found, symbol may be delisted\n"
     ]
    },
    {
     "name": "stdout",
     "output_type": "stream",
     "text": [
      "Error fetching dividend data for GLIBA: 'RangeIndex' object has no attribute 'year'\n"
     ]
    },
    {
     "name": "stderr",
     "output_type": "stream",
     "text": [
      "GLUU: No timezone found, symbol may be delisted\n"
     ]
    },
    {
     "name": "stdout",
     "output_type": "stream",
     "text": [
      "Error fetching dividend data for GLUU: 'RangeIndex' object has no attribute 'year'\n"
     ]
    },
    {
     "name": "stderr",
     "output_type": "stream",
     "text": [
      "GMO: No timezone found, symbol may be delisted\n"
     ]
    },
    {
     "name": "stdout",
     "output_type": "stream",
     "text": [
      "Error fetching dividend data for GMO: 'RangeIndex' object has no attribute 'year'\n"
     ]
    },
    {
     "name": "stderr",
     "output_type": "stream",
     "text": [
      "GNC: No timezone found, symbol may be delisted\n"
     ]
    },
    {
     "name": "stdout",
     "output_type": "stream",
     "text": [
      "Error fetching dividend data for GNC: 'RangeIndex' object has no attribute 'year'\n"
     ]
    },
    {
     "name": "stderr",
     "output_type": "stream",
     "text": [
      "GNCA: No timezone found, symbol may be delisted\n"
     ]
    },
    {
     "name": "stdout",
     "output_type": "stream",
     "text": [
      "Error fetching dividend data for GNCA: 'RangeIndex' object has no attribute 'year'\n"
     ]
    },
    {
     "name": "stderr",
     "output_type": "stream",
     "text": [
      "GNMK: No timezone found, symbol may be delisted\n"
     ]
    },
    {
     "name": "stdout",
     "output_type": "stream",
     "text": [
      "Error fetching dividend data for GNMK: 'RangeIndex' object has no attribute 'year'\n"
     ]
    },
    {
     "name": "stderr",
     "output_type": "stream",
     "text": [
      "GPX: No timezone found, symbol may be delisted\n"
     ]
    },
    {
     "name": "stdout",
     "output_type": "stream",
     "text": [
      "Error fetching dividend data for GPX: 'RangeIndex' object has no attribute 'year'\n"
     ]
    },
    {
     "name": "stderr",
     "output_type": "stream",
     "text": [
      "GRA: No timezone found, symbol may be delisted\n"
     ]
    },
    {
     "name": "stdout",
     "output_type": "stream",
     "text": [
      "Error fetching dividend data for GRA: 'RangeIndex' object has no attribute 'year'\n"
     ]
    },
    {
     "name": "stderr",
     "output_type": "stream",
     "text": [
      "GRIF: No timezone found, symbol may be delisted\n"
     ]
    },
    {
     "name": "stdout",
     "output_type": "stream",
     "text": [
      "Error fetching dividend data for GRIF: 'RangeIndex' object has no attribute 'year'\n"
     ]
    },
    {
     "name": "stderr",
     "output_type": "stream",
     "text": [
      "GRUB: No timezone found, symbol may be delisted\n"
     ]
    },
    {
     "name": "stdout",
     "output_type": "stream",
     "text": [
      "Error fetching dividend data for GRUB: 'RangeIndex' object has no attribute 'year'\n"
     ]
    },
    {
     "name": "stderr",
     "output_type": "stream",
     "text": [
      "GSB: No timezone found, symbol may be delisted\n"
     ]
    },
    {
     "name": "stdout",
     "output_type": "stream",
     "text": [
      "Error fetching dividend data for GSB: 'RangeIndex' object has no attribute 'year'\n"
     ]
    },
    {
     "name": "stderr",
     "output_type": "stream",
     "text": [
      "GSKY: No timezone found, symbol may be delisted\n"
     ]
    },
    {
     "name": "stdout",
     "output_type": "stream",
     "text": [
      "Error fetching dividend data for GSKY: 'RangeIndex' object has no attribute 'year'\n"
     ]
    },
    {
     "name": "stderr",
     "output_type": "stream",
     "text": [
      "GTS: No timezone found, symbol may be delisted\n"
     ]
    },
    {
     "name": "stdout",
     "output_type": "stream",
     "text": [
      "Error fetching dividend data for GTS: 'RangeIndex' object has no attribute 'year'\n"
     ]
    },
    {
     "name": "stderr",
     "output_type": "stream",
     "text": [
      "GTT: No timezone found, symbol may be delisted\n"
     ]
    },
    {
     "name": "stdout",
     "output_type": "stream",
     "text": [
      "Error fetching dividend data for GTT: 'RangeIndex' object has no attribute 'year'\n"
     ]
    },
    {
     "name": "stderr",
     "output_type": "stream",
     "text": [
      "GTYH: No timezone found, symbol may be delisted\n"
     ]
    },
    {
     "name": "stdout",
     "output_type": "stream",
     "text": [
      "Error fetching dividend data for GTYH: 'RangeIndex' object has no attribute 'year'\n"
     ]
    },
    {
     "name": "stderr",
     "output_type": "stream",
     "text": [
      "GWB: No timezone found, symbol may be delisted\n"
     ]
    },
    {
     "name": "stdout",
     "output_type": "stream",
     "text": [
      "Error fetching dividend data for GWB: 'RangeIndex' object has no attribute 'year'\n"
     ]
    },
    {
     "name": "stderr",
     "output_type": "stream",
     "text": [
      "GWGH: No timezone found, symbol may be delisted\n"
     ]
    },
    {
     "name": "stdout",
     "output_type": "stream",
     "text": [
      "Error fetching dividend data for GWGH: 'RangeIndex' object has no attribute 'year'\n"
     ]
    },
    {
     "name": "stderr",
     "output_type": "stream",
     "text": [
      "HBMD: No timezone found, symbol may be delisted\n"
     ]
    },
    {
     "name": "stdout",
     "output_type": "stream",
     "text": [
      "Error fetching dividend data for HBMD: 'RangeIndex' object has no attribute 'year'\n"
     ]
    },
    {
     "name": "stderr",
     "output_type": "stream",
     "text": [
      "HBP: No timezone found, symbol may be delisted\n"
     ]
    },
    {
     "name": "stdout",
     "output_type": "stream",
     "text": [
      "Error fetching dividend data for HBP: 'RangeIndex' object has no attribute 'year'\n"
     ]
    },
    {
     "name": "stderr",
     "output_type": "stream",
     "text": [
      "HCCI: No timezone found, symbol may be delisted\n"
     ]
    },
    {
     "name": "stdout",
     "output_type": "stream",
     "text": [
      "Error fetching dividend data for HCCI: 'RangeIndex' object has no attribute 'year'\n"
     ]
    },
    {
     "name": "stderr",
     "output_type": "stream",
     "text": [
      "HCFT: No timezone found, symbol may be delisted\n"
     ]
    },
    {
     "name": "stdout",
     "output_type": "stream",
     "text": [
      "Error fetching dividend data for HCFT: 'RangeIndex' object has no attribute 'year'\n"
     ]
    },
    {
     "name": "stderr",
     "output_type": "stream",
     "text": [
      "HCHC: No timezone found, symbol may be delisted\n"
     ]
    },
    {
     "name": "stdout",
     "output_type": "stream",
     "text": [
      "Error fetching dividend data for HCHC: 'RangeIndex' object has no attribute 'year'\n"
     ]
    },
    {
     "name": "stderr",
     "output_type": "stream",
     "text": [
      "HDS: No timezone found, symbol may be delisted\n"
     ]
    },
    {
     "name": "stdout",
     "output_type": "stream",
     "text": [
      "Error fetching dividend data for HDS: 'RangeIndex' object has no attribute 'year'\n"
     ]
    },
    {
     "name": "stderr",
     "output_type": "stream",
     "text": [
      "HFC: No timezone found, symbol may be delisted\n"
     ]
    },
    {
     "name": "stdout",
     "output_type": "stream",
     "text": [
      "Error fetching dividend data for HFC: 'RangeIndex' object has no attribute 'year'\n"
     ]
    },
    {
     "name": "stderr",
     "output_type": "stream",
     "text": [
      "HHC: No timezone found, symbol may be delisted\n"
     ]
    },
    {
     "name": "stdout",
     "output_type": "stream",
     "text": [
      "Error fetching dividend data for HHC: 'RangeIndex' object has no attribute 'year'\n"
     ]
    },
    {
     "name": "stderr",
     "output_type": "stream",
     "text": [
      "HIL: No timezone found, symbol may be delisted\n"
     ]
    },
    {
     "name": "stdout",
     "output_type": "stream",
     "text": [
      "Error fetching dividend data for HIL: 'RangeIndex' object has no attribute 'year'\n"
     ]
    },
    {
     "name": "stderr",
     "output_type": "stream",
     "text": [
      "HMHC: No timezone found, symbol may be delisted\n"
     ]
    },
    {
     "name": "stdout",
     "output_type": "stream",
     "text": [
      "Error fetching dividend data for HMHC: 'RangeIndex' object has no attribute 'year'\n"
     ]
    },
    {
     "name": "stderr",
     "output_type": "stream",
     "text": [
      "HMSY: No timezone found, symbol may be delisted\n"
     ]
    },
    {
     "name": "stdout",
     "output_type": "stream",
     "text": [
      "Error fetching dividend data for HMSY: 'RangeIndex' object has no attribute 'year'\n"
     ]
    },
    {
     "name": "stderr",
     "output_type": "stream",
     "text": [
      "HMTV: No timezone found, symbol may be delisted\n"
     ]
    },
    {
     "name": "stdout",
     "output_type": "stream",
     "text": [
      "Error fetching dividend data for HMTV: 'RangeIndex' object has no attribute 'year'\n"
     ]
    },
    {
     "name": "stderr",
     "output_type": "stream",
     "text": [
      "HOME: No timezone found, symbol may be delisted\n"
     ]
    },
    {
     "name": "stdout",
     "output_type": "stream",
     "text": [
      "Error fetching dividend data for HOME: 'RangeIndex' object has no attribute 'year'\n"
     ]
    },
    {
     "name": "stderr",
     "output_type": "stream",
     "text": [
      "HPR: No timezone found, symbol may be delisted\n"
     ]
    },
    {
     "name": "stdout",
     "output_type": "stream",
     "text": [
      "Error fetching dividend data for HPR: 'RangeIndex' object has no attribute 'year'\n"
     ]
    },
    {
     "name": "stderr",
     "output_type": "stream",
     "text": [
      "HRC: No timezone found, symbol may be delisted\n"
     ]
    },
    {
     "name": "stdout",
     "output_type": "stream",
     "text": [
      "Error fetching dividend data for HRC: 'RangeIndex' object has no attribute 'year'\n"
     ]
    },
    {
     "name": "stderr",
     "output_type": "stream",
     "text": [
      "HSC: No timezone found, symbol may be delisted\n"
     ]
    },
    {
     "name": "stdout",
     "output_type": "stream",
     "text": [
      "Error fetching dividend data for HSC: 'RangeIndex' object has no attribute 'year'\n"
     ]
    },
    {
     "name": "stderr",
     "output_type": "stream",
     "text": [
      "HSKA: No timezone found, symbol may be delisted\n"
     ]
    },
    {
     "name": "stdout",
     "output_type": "stream",
     "text": [
      "Error fetching dividend data for HSKA: 'RangeIndex' object has no attribute 'year'\n"
     ]
    },
    {
     "name": "stderr",
     "output_type": "stream",
     "text": [
      "HT: No timezone found, symbol may be delisted\n"
     ]
    },
    {
     "name": "stdout",
     "output_type": "stream",
     "text": [
      "Error fetching dividend data for HT: 'RangeIndex' object has no attribute 'year'\n"
     ]
    },
    {
     "name": "stderr",
     "output_type": "stream",
     "text": [
      "HTA: No timezone found, symbol may be delisted\n"
     ]
    },
    {
     "name": "stdout",
     "output_type": "stream",
     "text": [
      "Error fetching dividend data for HTA: 'RangeIndex' object has no attribute 'year'\n"
     ]
    },
    {
     "name": "stderr",
     "output_type": "stream",
     "text": [
      "HTBX: No timezone found, symbol may be delisted\n"
     ]
    },
    {
     "name": "stdout",
     "output_type": "stream",
     "text": [
      "Error fetching dividend data for HTBX: 'RangeIndex' object has no attribute 'year'\n"
     ]
    },
    {
     "name": "stderr",
     "output_type": "stream",
     "text": [
      "HTGM: No timezone found, symbol may be delisted\n"
     ]
    },
    {
     "name": "stdout",
     "output_type": "stream",
     "text": [
      "Error fetching dividend data for HTGM: 'RangeIndex' object has no attribute 'year'\n"
     ]
    },
    {
     "name": "stderr",
     "output_type": "stream",
     "text": [
      "HWCC: No timezone found, symbol may be delisted\n"
     ]
    },
    {
     "name": "stdout",
     "output_type": "stream",
     "text": [
      "Error fetching dividend data for HWCC: 'RangeIndex' object has no attribute 'year'\n"
     ]
    },
    {
     "name": "stderr",
     "output_type": "stream",
     "text": [
      "HZN: No timezone found, symbol may be delisted\n",
      "HZNP: Period 'max' is invalid, must be one of ['1d', '5d']\n"
     ]
    },
    {
     "name": "stdout",
     "output_type": "stream",
     "text": [
      "Error fetching dividend data for HZN: 'RangeIndex' object has no attribute 'year'\n",
      "Error fetching dividend data for HZNP: 'RangeIndex' object has no attribute 'year'\n"
     ]
    },
    {
     "name": "stderr",
     "output_type": "stream",
     "text": [
      "IBKC: No timezone found, symbol may be delisted\n"
     ]
    },
    {
     "name": "stdout",
     "output_type": "stream",
     "text": [
      "Error fetching dividend data for IBKC: 'RangeIndex' object has no attribute 'year'\n"
     ]
    },
    {
     "name": "stderr",
     "output_type": "stream",
     "text": [
      "ICBK: Period 'max' is invalid, must be one of ['1d', '5d']\n"
     ]
    },
    {
     "name": "stdout",
     "output_type": "stream",
     "text": [
      "Error fetching dividend data for ICBK: 'RangeIndex' object has no attribute 'year'\n"
     ]
    },
    {
     "name": "stderr",
     "output_type": "stream",
     "text": [
      "ICON: No timezone found, symbol may be delisted\n"
     ]
    },
    {
     "name": "stdout",
     "output_type": "stream",
     "text": [
      "Error fetching dividend data for ICON: 'RangeIndex' object has no attribute 'year'\n"
     ]
    },
    {
     "name": "stderr",
     "output_type": "stream",
     "text": [
      "ICPT: No timezone found, symbol may be delisted\n"
     ]
    },
    {
     "name": "stdout",
     "output_type": "stream",
     "text": [
      "Error fetching dividend data for ICPT: 'RangeIndex' object has no attribute 'year'\n"
     ]
    },
    {
     "name": "stderr",
     "output_type": "stream",
     "text": [
      "IDRA: No timezone found, symbol may be delisted\n"
     ]
    },
    {
     "name": "stdout",
     "output_type": "stream",
     "text": [
      "Error fetching dividend data for IDRA: 'RangeIndex' object has no attribute 'year'\n"
     ]
    },
    {
     "name": "stderr",
     "output_type": "stream",
     "text": [
      "IEC: No timezone found, symbol may be delisted\n"
     ]
    },
    {
     "name": "stdout",
     "output_type": "stream",
     "text": [
      "Error fetching dividend data for IEC: 'RangeIndex' object has no attribute 'year'\n"
     ]
    },
    {
     "name": "stderr",
     "output_type": "stream",
     "text": [
      "IHC: No timezone found, symbol may be delisted\n"
     ]
    },
    {
     "name": "stdout",
     "output_type": "stream",
     "text": [
      "Error fetching dividend data for IHC: 'RangeIndex' object has no attribute 'year'\n"
     ]
    },
    {
     "name": "stderr",
     "output_type": "stream",
     "text": [
      "IIN: No timezone found, symbol may be delisted\n"
     ]
    },
    {
     "name": "stdout",
     "output_type": "stream",
     "text": [
      "Error fetching dividend data for IIN: 'RangeIndex' object has no attribute 'year'\n"
     ]
    },
    {
     "name": "stderr",
     "output_type": "stream",
     "text": [
      "IIVI: No timezone found, symbol may be delisted\n"
     ]
    },
    {
     "name": "stdout",
     "output_type": "stream",
     "text": [
      "Error fetching dividend data for IIVI: 'RangeIndex' object has no attribute 'year'\n"
     ]
    },
    {
     "name": "stderr",
     "output_type": "stream",
     "text": [
      "IKNX: No timezone found, symbol may be delisted\n"
     ]
    },
    {
     "name": "stdout",
     "output_type": "stream",
     "text": [
      "Error fetching dividend data for IKNX: 'RangeIndex' object has no attribute 'year'\n"
     ]
    },
    {
     "name": "stderr",
     "output_type": "stream",
     "text": [
      "IMGN: No timezone found, symbol may be delisted\n"
     ]
    },
    {
     "name": "stdout",
     "output_type": "stream",
     "text": [
      "Error fetching dividend data for IMGN: 'RangeIndex' object has no attribute 'year'\n"
     ]
    },
    {
     "name": "stderr",
     "output_type": "stream",
     "text": [
      "IMH: No timezone found, symbol may be delisted\n"
     ]
    },
    {
     "name": "stdout",
     "output_type": "stream",
     "text": [
      "Error fetching dividend data for IMH: 'RangeIndex' object has no attribute 'year'\n"
     ]
    },
    {
     "name": "stderr",
     "output_type": "stream",
     "text": [
      "IMMU: No timezone found, symbol may be delisted\n"
     ]
    },
    {
     "name": "stdout",
     "output_type": "stream",
     "text": [
      "Error fetching dividend data for IMMU: 'RangeIndex' object has no attribute 'year'\n"
     ]
    },
    {
     "name": "stderr",
     "output_type": "stream",
     "text": [
      "INFI: No timezone found, symbol may be delisted\n"
     ]
    },
    {
     "name": "stdout",
     "output_type": "stream",
     "text": [
      "Error fetching dividend data for INFI: 'RangeIndex' object has no attribute 'year'\n"
     ]
    },
    {
     "name": "stderr",
     "output_type": "stream",
     "text": [
      "INFO: No timezone found, symbol may be delisted\n"
     ]
    },
    {
     "name": "stdout",
     "output_type": "stream",
     "text": [
      "Error fetching dividend data for INFO: 'RangeIndex' object has no attribute 'year'\n"
     ]
    },
    {
     "name": "stderr",
     "output_type": "stream",
     "text": [
      "INS: No timezone found, symbol may be delisted\n"
     ]
    },
    {
     "name": "stdout",
     "output_type": "stream",
     "text": [
      "Error fetching dividend data for INS: 'RangeIndex' object has no attribute 'year'\n"
     ]
    },
    {
     "name": "stderr",
     "output_type": "stream",
     "text": [
      "INT: No timezone found, symbol may be delisted\n"
     ]
    },
    {
     "name": "stdout",
     "output_type": "stream",
     "text": [
      "Error fetching dividend data for INT: 'RangeIndex' object has no attribute 'year'\n"
     ]
    },
    {
     "name": "stderr",
     "output_type": "stream",
     "text": [
      "INWK: No timezone found, symbol may be delisted\n"
     ]
    },
    {
     "name": "stdout",
     "output_type": "stream",
     "text": [
      "Error fetching dividend data for INWK: 'RangeIndex' object has no attribute 'year'\n"
     ]
    },
    {
     "name": "stderr",
     "output_type": "stream",
     "text": [
      "IO: No timezone found, symbol may be delisted\n"
     ]
    },
    {
     "name": "stdout",
     "output_type": "stream",
     "text": [
      "Error fetching dividend data for IO: 'RangeIndex' object has no attribute 'year'\n"
     ]
    },
    {
     "name": "stderr",
     "output_type": "stream",
     "text": [
      "IOTS: No timezone found, symbol may be delisted\n"
     ]
    },
    {
     "name": "stdout",
     "output_type": "stream",
     "text": [
      "Error fetching dividend data for IOTS: 'RangeIndex' object has no attribute 'year'\n"
     ]
    },
    {
     "name": "stderr",
     "output_type": "stream",
     "text": [
      "IPHI: No timezone found, symbol may be delisted\n"
     ]
    },
    {
     "name": "stdout",
     "output_type": "stream",
     "text": [
      "Error fetching dividend data for IPHI: 'RangeIndex' object has no attribute 'year'\n"
     ]
    },
    {
     "name": "stderr",
     "output_type": "stream",
     "text": [
      "ISBC: No timezone found, symbol may be delisted\n"
     ]
    },
    {
     "name": "stdout",
     "output_type": "stream",
     "text": [
      "Error fetching dividend data for ISBC: 'RangeIndex' object has no attribute 'year'\n"
     ]
    },
    {
     "name": "stderr",
     "output_type": "stream",
     "text": [
      "ISIG: No timezone found, symbol may be delisted\n"
     ]
    },
    {
     "name": "stdout",
     "output_type": "stream",
     "text": [
      "Error fetching dividend data for ISIG: 'RangeIndex' object has no attribute 'year'\n"
     ]
    },
    {
     "name": "stderr",
     "output_type": "stream",
     "text": [
      "ISNS: No timezone found, symbol may be delisted\n"
     ]
    },
    {
     "name": "stdout",
     "output_type": "stream",
     "text": [
      "Error fetching dividend data for ISNS: 'RangeIndex' object has no attribute 'year'\n"
     ]
    },
    {
     "name": "stderr",
     "output_type": "stream",
     "text": [
      "ISR: No timezone found, symbol may be delisted\n"
     ]
    },
    {
     "name": "stdout",
     "output_type": "stream",
     "text": [
      "Error fetching dividend data for ISR: 'RangeIndex' object has no attribute 'year'\n"
     ]
    },
    {
     "name": "stderr",
     "output_type": "stream",
     "text": [
      "IVC: No timezone found, symbol may be delisted\n"
     ]
    },
    {
     "name": "stdout",
     "output_type": "stream",
     "text": [
      "Error fetching dividend data for IVC: 'RangeIndex' object has no attribute 'year'\n"
     ]
    },
    {
     "name": "stderr",
     "output_type": "stream",
     "text": [
      "JASN: No timezone found, symbol may be delisted\n"
     ]
    },
    {
     "name": "stdout",
     "output_type": "stream",
     "text": [
      "Error fetching dividend data for JASN: 'RangeIndex' object has no attribute 'year'\n"
     ]
    },
    {
     "name": "stderr",
     "output_type": "stream",
     "text": [
      "JAX: No timezone found, symbol may be delisted\n"
     ]
    },
    {
     "name": "stdout",
     "output_type": "stream",
     "text": [
      "Error fetching dividend data for JAX: 'RangeIndex' object has no attribute 'year'\n"
     ]
    },
    {
     "name": "stderr",
     "output_type": "stream",
     "text": [
      "JCAP: No timezone found, symbol may be delisted\n"
     ]
    },
    {
     "name": "stdout",
     "output_type": "stream",
     "text": [
      "Error fetching dividend data for JCAP: 'RangeIndex' object has no attribute 'year'\n"
     ]
    },
    {
     "name": "stderr",
     "output_type": "stream",
     "text": [
      "JCOM: No timezone found, symbol may be delisted\n"
     ]
    },
    {
     "name": "stdout",
     "output_type": "stream",
     "text": [
      "Error fetching dividend data for JCOM: 'RangeIndex' object has no attribute 'year'\n"
     ]
    },
    {
     "name": "stderr",
     "output_type": "stream",
     "text": [
      "JCS: No timezone found, symbol may be delisted\n"
     ]
    },
    {
     "name": "stdout",
     "output_type": "stream",
     "text": [
      "Error fetching dividend data for JCS: 'RangeIndex' object has no attribute 'year'\n"
     ]
    },
    {
     "name": "stderr",
     "output_type": "stream",
     "text": [
      "JNCE: No timezone found, symbol may be delisted\n"
     ]
    },
    {
     "name": "stdout",
     "output_type": "stream",
     "text": [
      "Error fetching dividend data for JNCE: 'RangeIndex' object has no attribute 'year'\n"
     ]
    },
    {
     "name": "stderr",
     "output_type": "stream",
     "text": [
      "KBAL: Period 'max' is invalid, must be one of ['1d', '5d']\n"
     ]
    },
    {
     "name": "stdout",
     "output_type": "stream",
     "text": [
      "Error fetching dividend data for KBAL: 'RangeIndex' object has no attribute 'year'\n"
     ]
    },
    {
     "name": "stderr",
     "output_type": "stream",
     "text": [
      "KDMN: No timezone found, symbol may be delisted\n"
     ]
    },
    {
     "name": "stdout",
     "output_type": "stream",
     "text": [
      "Error fetching dividend data for KDMN: 'RangeIndex' object has no attribute 'year'\n"
     ]
    },
    {
     "name": "stderr",
     "output_type": "stream",
     "text": [
      "KIN: No timezone found, symbol may be delisted\n"
     ]
    },
    {
     "name": "stdout",
     "output_type": "stream",
     "text": [
      "Error fetching dividend data for KIN: 'RangeIndex' object has no attribute 'year'\n"
     ]
    },
    {
     "name": "stderr",
     "output_type": "stream",
     "text": [
      "KMPH: No timezone found, symbol may be delisted\n"
     ]
    },
    {
     "name": "stdout",
     "output_type": "stream",
     "text": [
      "Error fetching dividend data for KMPH: 'RangeIndex' object has no attribute 'year'\n"
     ]
    },
    {
     "name": "stderr",
     "output_type": "stream",
     "text": [
      "KNL: No timezone found, symbol may be delisted\n"
     ]
    },
    {
     "name": "stdout",
     "output_type": "stream",
     "text": [
      "Error fetching dividend data for KNL: 'RangeIndex' object has no attribute 'year'\n"
     ]
    },
    {
     "name": "stderr",
     "output_type": "stream",
     "text": [
      "KRA: No timezone found, symbol may be delisted\n"
     ]
    },
    {
     "name": "stdout",
     "output_type": "stream",
     "text": [
      "Error fetching dividend data for KRA: 'RangeIndex' object has no attribute 'year'\n"
     ]
    },
    {
     "name": "stderr",
     "output_type": "stream",
     "text": [
      "KSU: No timezone found, symbol may be delisted\n"
     ]
    },
    {
     "name": "stdout",
     "output_type": "stream",
     "text": [
      "Error fetching dividend data for KSU: 'RangeIndex' object has no attribute 'year'\n"
     ]
    },
    {
     "name": "stderr",
     "output_type": "stream",
     "text": [
      "LAWS: No timezone found, symbol may be delisted\n"
     ]
    },
    {
     "name": "stdout",
     "output_type": "stream",
     "text": [
      "Error fetching dividend data for LAWS: 'RangeIndex' object has no attribute 'year'\n"
     ]
    },
    {
     "name": "stderr",
     "output_type": "stream",
     "text": [
      "LB: No timezone found, symbol may be delisted\n"
     ]
    },
    {
     "name": "stdout",
     "output_type": "stream",
     "text": [
      "Error fetching dividend data for LB: 'RangeIndex' object has no attribute 'year'\n"
     ]
    },
    {
     "name": "stderr",
     "output_type": "stream",
     "text": [
      "LCI: No timezone found, symbol may be delisted\n"
     ]
    },
    {
     "name": "stdout",
     "output_type": "stream",
     "text": [
      "Error fetching dividend data for LCI: 'RangeIndex' object has no attribute 'year'\n"
     ]
    },
    {
     "name": "stderr",
     "output_type": "stream",
     "text": [
      "LDL: No timezone found, symbol may be delisted\n"
     ]
    },
    {
     "name": "stdout",
     "output_type": "stream",
     "text": [
      "Error fetching dividend data for LDL: 'RangeIndex' object has no attribute 'year'\n"
     ]
    },
    {
     "name": "stderr",
     "output_type": "stream",
     "text": [
      "LEAF: No timezone found, symbol may be delisted\n"
     ]
    },
    {
     "name": "stdout",
     "output_type": "stream",
     "text": [
      "Error fetching dividend data for LEAF: 'RangeIndex' object has no attribute 'year'\n"
     ]
    },
    {
     "name": "stderr",
     "output_type": "stream",
     "text": [
      "LHCG: No timezone found, symbol may be delisted\n"
     ]
    },
    {
     "name": "stdout",
     "output_type": "stream",
     "text": [
      "Error fetching dividend data for LHCG: 'RangeIndex' object has no attribute 'year'\n"
     ]
    },
    {
     "name": "stderr",
     "output_type": "stream",
     "text": [
      "LIVX: No timezone found, symbol may be delisted\n"
     ]
    },
    {
     "name": "stdout",
     "output_type": "stream",
     "text": [
      "Error fetching dividend data for LIVX: 'RangeIndex' object has no attribute 'year'\n"
     ]
    },
    {
     "name": "stderr",
     "output_type": "stream",
     "text": [
      "LJPC: No timezone found, symbol may be delisted\n"
     ]
    },
    {
     "name": "stdout",
     "output_type": "stream",
     "text": [
      "Error fetching dividend data for LJPC: 'RangeIndex' object has no attribute 'year'\n"
     ]
    },
    {
     "name": "stderr",
     "output_type": "stream",
     "text": [
      "LLNW: No timezone found, symbol may be delisted\n"
     ]
    },
    {
     "name": "stdout",
     "output_type": "stream",
     "text": [
      "Error fetching dividend data for LLNW: 'RangeIndex' object has no attribute 'year'\n"
     ]
    },
    {
     "name": "stderr",
     "output_type": "stream",
     "text": [
      "LM: No timezone found, symbol may be delisted\n"
     ]
    },
    {
     "name": "stdout",
     "output_type": "stream",
     "text": [
      "Error fetching dividend data for LM: 'RangeIndex' object has no attribute 'year'\n"
     ]
    },
    {
     "name": "stderr",
     "output_type": "stream",
     "text": [
      "LMNX: No timezone found, symbol may be delisted\n"
     ]
    },
    {
     "name": "stdout",
     "output_type": "stream",
     "text": [
      "Error fetching dividend data for LMNX: 'RangeIndex' object has no attribute 'year'\n"
     ]
    },
    {
     "name": "stderr",
     "output_type": "stream",
     "text": [
      "LNDC: No timezone found, symbol may be delisted\n"
     ]
    },
    {
     "name": "stdout",
     "output_type": "stream",
     "text": [
      "Error fetching dividend data for LNDC: 'RangeIndex' object has no attribute 'year'\n"
     ]
    },
    {
     "name": "stderr",
     "output_type": "stream",
     "text": [
      "LOGM: No timezone found, symbol may be delisted\n"
     ]
    },
    {
     "name": "stdout",
     "output_type": "stream",
     "text": [
      "Error fetching dividend data for LOGM: 'RangeIndex' object has no attribute 'year'\n"
     ]
    },
    {
     "name": "stderr",
     "output_type": "stream",
     "text": [
      "LONE: No timezone found, symbol may be delisted\n"
     ]
    },
    {
     "name": "stdout",
     "output_type": "stream",
     "text": [
      "Error fetching dividend data for LONE: 'RangeIndex' object has no attribute 'year'\n"
     ]
    },
    {
     "name": "stderr",
     "output_type": "stream",
     "text": [
      "LORL: No timezone found, symbol may be delisted\n"
     ]
    },
    {
     "name": "stdout",
     "output_type": "stream",
     "text": [
      "Error fetching dividend data for LORL: 'RangeIndex' object has no attribute 'year'\n"
     ]
    },
    {
     "name": "stderr",
     "output_type": "stream",
     "text": [
      "LPI: No timezone found, symbol may be delisted\n"
     ]
    },
    {
     "name": "stdout",
     "output_type": "stream",
     "text": [
      "Error fetching dividend data for LPI: 'RangeIndex' object has no attribute 'year'\n"
     ]
    },
    {
     "name": "stderr",
     "output_type": "stream",
     "text": [
      "LSI: No timezone found, symbol may be delisted\n"
     ]
    },
    {
     "name": "stdout",
     "output_type": "stream",
     "text": [
      "Error fetching dividend data for LSI: 'RangeIndex' object has no attribute 'year'\n"
     ]
    },
    {
     "name": "stderr",
     "output_type": "stream",
     "text": [
      "LTHM: No timezone found, symbol may be delisted\n"
     ]
    },
    {
     "name": "stdout",
     "output_type": "stream",
     "text": [
      "Error fetching dividend data for LTHM: 'RangeIndex' object has no attribute 'year'\n"
     ]
    },
    {
     "name": "stderr",
     "output_type": "stream",
     "text": [
      "LUB: No timezone found, symbol may be delisted\n"
     ]
    },
    {
     "name": "stdout",
     "output_type": "stream",
     "text": [
      "Error fetching dividend data for LUB: 'RangeIndex' object has no attribute 'year'\n"
     ]
    },
    {
     "name": "stderr",
     "output_type": "stream",
     "text": [
      "MANT: No timezone found, symbol may be delisted\n"
     ]
    },
    {
     "name": "stdout",
     "output_type": "stream",
     "text": [
      "Error fetching dividend data for MANT: 'RangeIndex' object has no attribute 'year'\n"
     ]
    },
    {
     "name": "stderr",
     "output_type": "stream",
     "text": [
      "MBII: No timezone found, symbol may be delisted\n"
     ]
    },
    {
     "name": "stdout",
     "output_type": "stream",
     "text": [
      "Error fetching dividend data for MBII: 'RangeIndex' object has no attribute 'year'\n"
     ]
    },
    {
     "name": "stderr",
     "output_type": "stream",
     "text": [
      "MCF: No timezone found, symbol may be delisted\n"
     ]
    },
    {
     "name": "stdout",
     "output_type": "stream",
     "text": [
      "Error fetching dividend data for MCF: 'RangeIndex' object has no attribute 'year'\n"
     ]
    },
    {
     "name": "stderr",
     "output_type": "stream",
     "text": [
      "MDLY: No timezone found, symbol may be delisted\n"
     ]
    },
    {
     "name": "stdout",
     "output_type": "stream",
     "text": [
      "Error fetching dividend data for MDLY: 'RangeIndex' object has no attribute 'year'\n"
     ]
    },
    {
     "name": "stderr",
     "output_type": "stream",
     "text": [
      "MDP: No timezone found, symbol may be delisted\n"
     ]
    },
    {
     "name": "stdout",
     "output_type": "stream",
     "text": [
      "Error fetching dividend data for MDP: 'RangeIndex' object has no attribute 'year'\n"
     ]
    },
    {
     "name": "stderr",
     "output_type": "stream",
     "text": [
      "MEET: No timezone found, symbol may be delisted\n"
     ]
    },
    {
     "name": "stdout",
     "output_type": "stream",
     "text": [
      "Error fetching dividend data for MEET: 'RangeIndex' object has no attribute 'year'\n"
     ]
    },
    {
     "name": "stderr",
     "output_type": "stream",
     "text": [
      "MFNC: No timezone found, symbol may be delisted\n"
     ]
    },
    {
     "name": "stdout",
     "output_type": "stream",
     "text": [
      "Error fetching dividend data for MFNC: 'RangeIndex' object has no attribute 'year'\n"
     ]
    },
    {
     "name": "stderr",
     "output_type": "stream",
     "text": [
      "MGEN: No timezone found, symbol may be delisted\n"
     ]
    },
    {
     "name": "stdout",
     "output_type": "stream",
     "text": [
      "Error fetching dividend data for MGEN: 'RangeIndex' object has no attribute 'year'\n"
     ]
    },
    {
     "name": "stderr",
     "output_type": "stream",
     "text": [
      "MGI: No timezone found, symbol may be delisted\n"
     ]
    },
    {
     "name": "stdout",
     "output_type": "stream",
     "text": [
      "Error fetching dividend data for MGI: 'RangeIndex' object has no attribute 'year'\n"
     ]
    },
    {
     "name": "stderr",
     "output_type": "stream",
     "text": [
      "MGLN: No timezone found, symbol may be delisted\n"
     ]
    },
    {
     "name": "stdout",
     "output_type": "stream",
     "text": [
      "Error fetching dividend data for MGLN: 'RangeIndex' object has no attribute 'year'\n"
     ]
    },
    {
     "name": "stderr",
     "output_type": "stream",
     "text": [
      "MGTA: No timezone found, symbol may be delisted\n"
     ]
    },
    {
     "name": "stdout",
     "output_type": "stream",
     "text": [
      "Error fetching dividend data for MGTA: 'RangeIndex' object has no attribute 'year'\n"
     ]
    },
    {
     "name": "stderr",
     "output_type": "stream",
     "text": [
      "MIC: No timezone found, symbol may be delisted\n"
     ]
    },
    {
     "name": "stdout",
     "output_type": "stream",
     "text": [
      "Error fetching dividend data for MIC: 'RangeIndex' object has no attribute 'year'\n"
     ]
    },
    {
     "name": "stderr",
     "output_type": "stream",
     "text": [
      "MICR: No timezone found, symbol may be delisted\n"
     ]
    },
    {
     "name": "stdout",
     "output_type": "stream",
     "text": [
      "Error fetching dividend data for MICR: 'RangeIndex' object has no attribute 'year'\n"
     ]
    },
    {
     "name": "stderr",
     "output_type": "stream",
     "text": [
      "MICT: No timezone found, symbol may be delisted\n"
     ]
    },
    {
     "name": "stdout",
     "output_type": "stream",
     "text": [
      "Error fetching dividend data for MICT: 'RangeIndex' object has no attribute 'year'\n"
     ]
    },
    {
     "name": "stderr",
     "output_type": "stream",
     "text": [
      "MIK: No timezone found, symbol may be delisted\n"
     ]
    },
    {
     "name": "stdout",
     "output_type": "stream",
     "text": [
      "Error fetching dividend data for MIK: 'RangeIndex' object has no attribute 'year'\n"
     ]
    },
    {
     "name": "stderr",
     "output_type": "stream",
     "text": [
      "MINI: No timezone found, symbol may be delisted\n"
     ]
    },
    {
     "name": "stdout",
     "output_type": "stream",
     "text": [
      "Error fetching dividend data for MINI: 'RangeIndex' object has no attribute 'year'\n"
     ]
    },
    {
     "name": "stderr",
     "output_type": "stream",
     "text": [
      "MJCO: No timezone found, symbol may be delisted\n"
     ]
    },
    {
     "name": "stdout",
     "output_type": "stream",
     "text": [
      "Error fetching dividend data for MJCO: 'RangeIndex' object has no attribute 'year'\n"
     ]
    },
    {
     "name": "stderr",
     "output_type": "stream",
     "text": [
      "MLHR: No timezone found, symbol may be delisted\n"
     ]
    },
    {
     "name": "stdout",
     "output_type": "stream",
     "text": [
      "Error fetching dividend data for MLHR: 'RangeIndex' object has no attribute 'year'\n"
     ]
    },
    {
     "name": "stderr",
     "output_type": "stream",
     "text": [
      "MLND: No timezone found, symbol may be delisted\n"
     ]
    },
    {
     "name": "stdout",
     "output_type": "stream",
     "text": [
      "Error fetching dividend data for MLND: 'RangeIndex' object has no attribute 'year'\n"
     ]
    },
    {
     "name": "stderr",
     "output_type": "stream",
     "text": [
      "MLVF: No timezone found, symbol may be delisted\n"
     ]
    },
    {
     "name": "stdout",
     "output_type": "stream",
     "text": [
      "Error fetching dividend data for MLVF: 'RangeIndex' object has no attribute 'year'\n"
     ]
    },
    {
     "name": "stderr",
     "output_type": "stream",
     "text": [
      "MMAC: No timezone found, symbol may be delisted\n"
     ]
    },
    {
     "name": "stdout",
     "output_type": "stream",
     "text": [
      "Error fetching dividend data for MMAC: 'RangeIndex' object has no attribute 'year'\n"
     ]
    },
    {
     "name": "stderr",
     "output_type": "stream",
     "text": [
      "MN: No timezone found, symbol may be delisted\n"
     ]
    },
    {
     "name": "stdout",
     "output_type": "stream",
     "text": [
      "Error fetching dividend data for MN: 'RangeIndex' object has no attribute 'year'\n"
     ]
    },
    {
     "name": "stderr",
     "output_type": "stream",
     "text": [
      "MNK: No timezone found, symbol may be delisted\n"
     ]
    },
    {
     "name": "stdout",
     "output_type": "stream",
     "text": [
      "Error fetching dividend data for MNK: 'RangeIndex' object has no attribute 'year'\n"
     ]
    },
    {
     "name": "stderr",
     "output_type": "stream",
     "text": [
      "MNRL: No timezone found, symbol may be delisted\n"
     ]
    },
    {
     "name": "stdout",
     "output_type": "stream",
     "text": [
      "Error fetching dividend data for MNRL: 'RangeIndex' object has no attribute 'year'\n"
     ]
    },
    {
     "name": "stderr",
     "output_type": "stream",
     "text": [
      "MNTA: No timezone found, symbol may be delisted\n"
     ]
    },
    {
     "name": "stdout",
     "output_type": "stream",
     "text": [
      "Error fetching dividend data for MNTA: 'RangeIndex' object has no attribute 'year'\n"
     ]
    },
    {
     "name": "stderr",
     "output_type": "stream",
     "text": [
      "MOBL: No timezone found, symbol may be delisted\n"
     ]
    },
    {
     "name": "stdout",
     "output_type": "stream",
     "text": [
      "Error fetching dividend data for MOBL: 'RangeIndex' object has no attribute 'year'\n"
     ]
    },
    {
     "name": "stderr",
     "output_type": "stream",
     "text": [
      "MOSY: No timezone found, symbol may be delisted\n"
     ]
    },
    {
     "name": "stdout",
     "output_type": "stream",
     "text": [
      "Error fetching dividend data for MOSY: 'RangeIndex' object has no attribute 'year'\n"
     ]
    },
    {
     "name": "stderr",
     "output_type": "stream",
     "text": [
      "MRLN: No timezone found, symbol may be delisted\n"
     ]
    },
    {
     "name": "stdout",
     "output_type": "stream",
     "text": [
      "Error fetching dividend data for MRLN: 'RangeIndex' object has no attribute 'year'\n"
     ]
    },
    {
     "name": "stderr",
     "output_type": "stream",
     "text": [
      "MRTX: No timezone found, symbol may be delisted\n"
     ]
    },
    {
     "name": "stdout",
     "output_type": "stream",
     "text": [
      "Error fetching dividend data for MRTX: 'RangeIndex' object has no attribute 'year'\n"
     ]
    },
    {
     "name": "stderr",
     "output_type": "stream",
     "text": [
      "MSBF: No timezone found, symbol may be delisted\n"
     ]
    },
    {
     "name": "stdout",
     "output_type": "stream",
     "text": [
      "Error fetching dividend data for MSBF: 'RangeIndex' object has no attribute 'year'\n"
     ]
    },
    {
     "name": "stderr",
     "output_type": "stream",
     "text": [
      "MSGN: No timezone found, symbol may be delisted\n"
     ]
    },
    {
     "name": "stdout",
     "output_type": "stream",
     "text": [
      "Error fetching dividend data for MSGN: 'RangeIndex' object has no attribute 'year'\n"
     ]
    },
    {
     "name": "stderr",
     "output_type": "stream",
     "text": [
      "MSON: No timezone found, symbol may be delisted\n"
     ]
    },
    {
     "name": "stdout",
     "output_type": "stream",
     "text": [
      "Error fetching dividend data for MSON: 'RangeIndex' object has no attribute 'year'\n"
     ]
    },
    {
     "name": "stderr",
     "output_type": "stream",
     "text": [
      "MTOR: No timezone found, symbol may be delisted\n"
     ]
    },
    {
     "name": "stdout",
     "output_type": "stream",
     "text": [
      "Error fetching dividend data for MTOR: 'RangeIndex' object has no attribute 'year'\n"
     ]
    },
    {
     "name": "stderr",
     "output_type": "stream",
     "text": [
      "MTSC: No timezone found, symbol may be delisted\n"
     ]
    },
    {
     "name": "stdout",
     "output_type": "stream",
     "text": [
      "Error fetching dividend data for MTSC: 'RangeIndex' object has no attribute 'year'\n"
     ]
    },
    {
     "name": "stderr",
     "output_type": "stream",
     "text": [
      "MXIM: No timezone found, symbol may be delisted\n"
     ]
    },
    {
     "name": "stdout",
     "output_type": "stream",
     "text": [
      "Error fetching dividend data for MXIM: 'RangeIndex' object has no attribute 'year'\n"
     ]
    },
    {
     "name": "stderr",
     "output_type": "stream",
     "text": [
      "MYL: No timezone found, symbol may be delisted\n"
     ]
    },
    {
     "name": "stdout",
     "output_type": "stream",
     "text": [
      "Error fetching dividend data for MYL: 'RangeIndex' object has no attribute 'year'\n"
     ]
    },
    {
     "name": "stderr",
     "output_type": "stream",
     "text": [
      "MYOK: No timezone found, symbol may be delisted\n"
     ]
    },
    {
     "name": "stdout",
     "output_type": "stream",
     "text": [
      "Error fetching dividend data for MYOK: 'RangeIndex' object has no attribute 'year'\n"
     ]
    },
    {
     "name": "stderr",
     "output_type": "stream",
     "text": [
      "MYOS: No timezone found, symbol may be delisted\n"
     ]
    },
    {
     "name": "stdout",
     "output_type": "stream",
     "text": [
      "Error fetching dividend data for MYOS: 'RangeIndex' object has no attribute 'year'\n"
     ]
    },
    {
     "name": "stderr",
     "output_type": "stream",
     "text": [
      "NATI: No timezone found, symbol may be delisted\n"
     ]
    },
    {
     "name": "stdout",
     "output_type": "stream",
     "text": [
      "Error fetching dividend data for NATI: 'RangeIndex' object has no attribute 'year'\n"
     ]
    },
    {
     "name": "stderr",
     "output_type": "stream",
     "text": [
      "NAV: No timezone found, symbol may be delisted\n"
     ]
    },
    {
     "name": "stdout",
     "output_type": "stream",
     "text": [
      "Error fetching dividend data for NAV: 'RangeIndex' object has no attribute 'year'\n"
     ]
    },
    {
     "name": "stderr",
     "output_type": "stream",
     "text": [
      "NBEV: Period 'max' is invalid, must be one of ['1d', '5d']\n"
     ]
    },
    {
     "name": "stdout",
     "output_type": "stream",
     "text": [
      "Error fetching dividend data for NBEV: 'RangeIndex' object has no attribute 'year'\n"
     ]
    },
    {
     "name": "stderr",
     "output_type": "stream",
     "text": [
      "NBL: No timezone found, symbol may be delisted\n"
     ]
    },
    {
     "name": "stdout",
     "output_type": "stream",
     "text": [
      "Error fetching dividend data for NBL: 'RangeIndex' object has no attribute 'year'\n"
     ]
    },
    {
     "name": "stderr",
     "output_type": "stream",
     "text": [
      "NCBS: No timezone found, symbol may be delisted\n"
     ]
    },
    {
     "name": "stdout",
     "output_type": "stream",
     "text": [
      "Error fetching dividend data for NCBS: 'RangeIndex' object has no attribute 'year'\n"
     ]
    },
    {
     "name": "stderr",
     "output_type": "stream",
     "text": [
      "NCR: No timezone found, symbol may be delisted\n"
     ]
    },
    {
     "name": "stdout",
     "output_type": "stream",
     "text": [
      "Error fetching dividend data for NCR: 'RangeIndex' object has no attribute 'year'\n"
     ]
    },
    {
     "name": "stderr",
     "output_type": "stream",
     "text": [
      "NEOS: No timezone found, symbol may be delisted\n"
     ]
    },
    {
     "name": "stdout",
     "output_type": "stream",
     "text": [
      "Error fetching dividend data for NEOS: 'RangeIndex' object has no attribute 'year'\n"
     ]
    },
    {
     "name": "stderr",
     "output_type": "stream",
     "text": [
      "NETE: No timezone found, symbol may be delisted\n"
     ]
    },
    {
     "name": "stdout",
     "output_type": "stream",
     "text": [
      "Error fetching dividend data for NETE: 'RangeIndex' object has no attribute 'year'\n"
     ]
    },
    {
     "name": "stderr",
     "output_type": "stream",
     "text": [
      "NEWR: No timezone found, symbol may be delisted\n"
     ]
    },
    {
     "name": "stdout",
     "output_type": "stream",
     "text": [
      "Error fetching dividend data for NEWR: 'RangeIndex' object has no attribute 'year'\n"
     ]
    },
    {
     "name": "stderr",
     "output_type": "stream",
     "text": [
      "NGHC: No timezone found, symbol may be delisted\n"
     ]
    },
    {
     "name": "stdout",
     "output_type": "stream",
     "text": [
      "Error fetching dividend data for NGHC: 'RangeIndex' object has no attribute 'year'\n"
     ]
    },
    {
     "name": "stderr",
     "output_type": "stream",
     "text": [
      "NK: No timezone found, symbol may be delisted\n"
     ]
    },
    {
     "name": "stdout",
     "output_type": "stream",
     "text": [
      "Error fetching dividend data for NK: 'RangeIndex' object has no attribute 'year'\n"
     ]
    },
    {
     "name": "stderr",
     "output_type": "stream",
     "text": [
      "NLS: No timezone found, symbol may be delisted\n"
     ]
    },
    {
     "name": "stdout",
     "output_type": "stream",
     "text": [
      "Error fetching dividend data for NLS: 'RangeIndex' object has no attribute 'year'\n"
     ]
    },
    {
     "name": "stderr",
     "output_type": "stream",
     "text": [
      "NLSN: No timezone found, symbol may be delisted\n"
     ]
    },
    {
     "name": "stdout",
     "output_type": "stream",
     "text": [
      "Error fetching dividend data for NLSN: 'RangeIndex' object has no attribute 'year'\n"
     ]
    },
    {
     "name": "stderr",
     "output_type": "stream",
     "text": [
      "NP: No timezone found, symbol may be delisted\n"
     ]
    },
    {
     "name": "stdout",
     "output_type": "stream",
     "text": [
      "Error fetching dividend data for NP: 'RangeIndex' object has no attribute 'year'\n"
     ]
    },
    {
     "name": "stderr",
     "output_type": "stream",
     "text": [
      "NPTN: No timezone found, symbol may be delisted\n"
     ]
    },
    {
     "name": "stdout",
     "output_type": "stream",
     "text": [
      "Error fetching dividend data for NPTN: 'RangeIndex' object has no attribute 'year'\n"
     ]
    },
    {
     "name": "stderr",
     "output_type": "stream",
     "text": [
      "NRZ: No timezone found, symbol may be delisted\n"
     ]
    },
    {
     "name": "stdout",
     "output_type": "stream",
     "text": [
      "Error fetching dividend data for NRZ: 'RangeIndex' object has no attribute 'year'\n"
     ]
    },
    {
     "name": "stderr",
     "output_type": "stream",
     "text": [
      "NSEC: No timezone found, symbol may be delisted\n"
     ]
    },
    {
     "name": "stdout",
     "output_type": "stream",
     "text": [
      "Error fetching dividend data for NSEC: 'RangeIndex' object has no attribute 'year'\n"
     ]
    },
    {
     "name": "stderr",
     "output_type": "stream",
     "text": [
      "NTN: No timezone found, symbol may be delisted\n"
     ]
    },
    {
     "name": "stdout",
     "output_type": "stream",
     "text": [
      "Error fetching dividend data for NTN: 'RangeIndex' object has no attribute 'year'\n"
     ]
    },
    {
     "name": "stderr",
     "output_type": "stream",
     "text": [
      "NUAN: No timezone found, symbol may be delisted\n"
     ]
    },
    {
     "name": "stdout",
     "output_type": "stream",
     "text": [
      "Error fetching dividend data for NUAN: 'RangeIndex' object has no attribute 'year'\n"
     ]
    },
    {
     "name": "stderr",
     "output_type": "stream",
     "text": [
      "NUVA: No timezone found, symbol may be delisted\n"
     ]
    },
    {
     "name": "stdout",
     "output_type": "stream",
     "text": [
      "Error fetching dividend data for NUVA: 'RangeIndex' object has no attribute 'year'\n"
     ]
    },
    {
     "name": "stderr",
     "output_type": "stream",
     "text": [
      "NVIV: No timezone found, symbol may be delisted\n"
     ]
    },
    {
     "name": "stdout",
     "output_type": "stream",
     "text": [
      "Error fetching dividend data for NVIV: 'RangeIndex' object has no attribute 'year'\n"
     ]
    },
    {
     "name": "stderr",
     "output_type": "stream",
     "text": [
      "NVTA: No timezone found, symbol may be delisted\n"
     ]
    },
    {
     "name": "stdout",
     "output_type": "stream",
     "text": [
      "Error fetching dividend data for NVTA: 'RangeIndex' object has no attribute 'year'\n"
     ]
    },
    {
     "name": "stderr",
     "output_type": "stream",
     "text": [
      "NVUS: No timezone found, symbol may be delisted\n"
     ]
    },
    {
     "name": "stdout",
     "output_type": "stream",
     "text": [
      "Error fetching dividend data for NVUS: 'RangeIndex' object has no attribute 'year'\n"
     ]
    },
    {
     "name": "stderr",
     "output_type": "stream",
     "text": [
      "NWHM: No timezone found, symbol may be delisted\n"
     ]
    },
    {
     "name": "stdout",
     "output_type": "stream",
     "text": [
      "Error fetching dividend data for NWHM: 'RangeIndex' object has no attribute 'year'\n"
     ]
    },
    {
     "name": "stderr",
     "output_type": "stream",
     "text": [
      "NXGN: No timezone found, symbol may be delisted\n"
     ]
    },
    {
     "name": "stdout",
     "output_type": "stream",
     "text": [
      "Error fetching dividend data for NXGN: 'RangeIndex' object has no attribute 'year'\n"
     ]
    },
    {
     "name": "stderr",
     "output_type": "stream",
     "text": [
      "NXTD: No timezone found, symbol may be delisted\n"
     ]
    },
    {
     "name": "stdout",
     "output_type": "stream",
     "text": [
      "Error fetching dividend data for NXTD: 'RangeIndex' object has no attribute 'year'\n"
     ]
    },
    {
     "name": "stderr",
     "output_type": "stream",
     "text": [
      "OAS: No timezone found, symbol may be delisted\n"
     ]
    },
    {
     "name": "stdout",
     "output_type": "stream",
     "text": [
      "Error fetching dividend data for OAS: 'RangeIndex' object has no attribute 'year'\n"
     ]
    },
    {
     "name": "stderr",
     "output_type": "stream",
     "text": [
      "OBCI: No timezone found, symbol may be delisted\n"
     ]
    },
    {
     "name": "stdout",
     "output_type": "stream",
     "text": [
      "Error fetching dividend data for OBCI: 'RangeIndex' object has no attribute 'year'\n"
     ]
    },
    {
     "name": "stderr",
     "output_type": "stream",
     "text": [
      "OBNK: No timezone found, symbol may be delisted\n"
     ]
    },
    {
     "name": "stdout",
     "output_type": "stream",
     "text": [
      "Error fetching dividend data for OBNK: 'RangeIndex' object has no attribute 'year'\n"
     ]
    },
    {
     "name": "stderr",
     "output_type": "stream",
     "text": [
      "ODT: No timezone found, symbol may be delisted\n"
     ]
    },
    {
     "name": "stdout",
     "output_type": "stream",
     "text": [
      "Error fetching dividend data for ODT: 'RangeIndex' object has no attribute 'year'\n"
     ]
    },
    {
     "name": "stderr",
     "output_type": "stream",
     "text": [
      "OFC: No timezone found, symbol may be delisted\n"
     ]
    },
    {
     "name": "stdout",
     "output_type": "stream",
     "text": [
      "Error fetching dividend data for OFC: 'RangeIndex' object has no attribute 'year'\n"
     ]
    },
    {
     "name": "stderr",
     "output_type": "stream",
     "text": [
      "ONCS: No timezone found, symbol may be delisted\n"
     ]
    },
    {
     "name": "stdout",
     "output_type": "stream",
     "text": [
      "Error fetching dividend data for ONCS: 'RangeIndex' object has no attribute 'year'\n"
     ]
    },
    {
     "name": "stderr",
     "output_type": "stream",
     "text": [
      "ONDK: No timezone found, symbol may be delisted\n"
     ]
    },
    {
     "name": "stdout",
     "output_type": "stream",
     "text": [
      "Error fetching dividend data for ONDK: 'RangeIndex' object has no attribute 'year'\n"
     ]
    },
    {
     "name": "stderr",
     "output_type": "stream",
     "text": [
      "ORBC: No timezone found, symbol may be delisted\n"
     ]
    },
    {
     "name": "stdout",
     "output_type": "stream",
     "text": [
      "Error fetching dividend data for ORBC: 'RangeIndex' object has no attribute 'year'\n"
     ]
    },
    {
     "name": "stderr",
     "output_type": "stream",
     "text": [
      "OSTK: Period 'max' is invalid, must be one of ['1d', '5d']\n"
     ]
    },
    {
     "name": "stdout",
     "output_type": "stream",
     "text": [
      "Error fetching dividend data for OSTK: 'RangeIndex' object has no attribute 'year'\n"
     ]
    },
    {
     "name": "stderr",
     "output_type": "stream",
     "text": [
      "OTEL: No timezone found, symbol may be delisted\n"
     ]
    },
    {
     "name": "stdout",
     "output_type": "stream",
     "text": [
      "Error fetching dividend data for OTEL: 'RangeIndex' object has no attribute 'year'\n"
     ]
    },
    {
     "name": "stderr",
     "output_type": "stream",
     "text": [
      "OTIC: No timezone found, symbol may be delisted\n"
     ]
    },
    {
     "name": "stdout",
     "output_type": "stream",
     "text": [
      "Error fetching dividend data for OTIC: 'RangeIndex' object has no attribute 'year'\n"
     ]
    },
    {
     "name": "stderr",
     "output_type": "stream",
     "text": [
      "PACW: No timezone found, symbol may be delisted\n"
     ]
    },
    {
     "name": "stdout",
     "output_type": "stream",
     "text": [
      "Error fetching dividend data for PACW: 'RangeIndex' object has no attribute 'year'\n"
     ]
    },
    {
     "name": "stderr",
     "output_type": "stream",
     "text": [
      "PATI: No data found, symbol may be delisted\n"
     ]
    },
    {
     "name": "stdout",
     "output_type": "stream",
     "text": [
      "Error fetching dividend data for PATI: 'RangeIndex' object has no attribute 'year'\n"
     ]
    },
    {
     "name": "stderr",
     "output_type": "stream",
     "text": [
      "PBCT: No timezone found, symbol may be delisted\n"
     ]
    },
    {
     "name": "stdout",
     "output_type": "stream",
     "text": [
      "Error fetching dividend data for PBCT: 'RangeIndex' object has no attribute 'year'\n"
     ]
    },
    {
     "name": "stderr",
     "output_type": "stream",
     "text": [
      "PBIP: No timezone found, symbol may be delisted\n"
     ]
    },
    {
     "name": "stdout",
     "output_type": "stream",
     "text": [
      "Error fetching dividend data for PBIP: 'RangeIndex' object has no attribute 'year'\n"
     ]
    },
    {
     "name": "stderr",
     "output_type": "stream",
     "text": [
      "PCSB: No timezone found, symbol may be delisted\n"
     ]
    },
    {
     "name": "stdout",
     "output_type": "stream",
     "text": [
      "Error fetching dividend data for PCSB: 'RangeIndex' object has no attribute 'year'\n"
     ]
    },
    {
     "name": "stderr",
     "output_type": "stream",
     "text": [
      "PCTI: No timezone found, symbol may be delisted\n"
     ]
    },
    {
     "name": "stdout",
     "output_type": "stream",
     "text": [
      "Error fetching dividend data for PCTI: 'RangeIndex' object has no attribute 'year'\n"
     ]
    },
    {
     "name": "stderr",
     "output_type": "stream",
     "text": [
      "PCYG: Period 'max' is invalid, must be one of ['1d', '5d']\n"
     ]
    },
    {
     "name": "stdout",
     "output_type": "stream",
     "text": [
      "Error fetching dividend data for PCYG: 'RangeIndex' object has no attribute 'year'\n"
     ]
    },
    {
     "name": "stderr",
     "output_type": "stream",
     "text": [
      "PDCE: Period 'max' is invalid, must be one of ['1d', '5d']\n"
     ]
    },
    {
     "name": "stdout",
     "output_type": "stream",
     "text": [
      "Error fetching dividend data for PDCE: 'RangeIndex' object has no attribute 'year'\n"
     ]
    },
    {
     "name": "stderr",
     "output_type": "stream",
     "text": [
      "PDLI: No timezone found, symbol may be delisted\n"
     ]
    },
    {
     "name": "stdout",
     "output_type": "stream",
     "text": [
      "Error fetching dividend data for PDLI: 'RangeIndex' object has no attribute 'year'\n"
     ]
    },
    {
     "name": "stderr",
     "output_type": "stream",
     "text": [
      "PE: No timezone found, symbol may be delisted\n"
     ]
    },
    {
     "name": "stdout",
     "output_type": "stream",
     "text": [
      "Error fetching dividend data for PE: 'RangeIndex' object has no attribute 'year'\n"
     ]
    },
    {
     "name": "stderr",
     "output_type": "stream",
     "text": [
      "PEI: No timezone found, symbol may be delisted\n"
     ]
    },
    {
     "name": "stdout",
     "output_type": "stream",
     "text": [
      "Error fetching dividend data for PEI: 'RangeIndex' object has no attribute 'year'\n"
     ]
    },
    {
     "name": "stderr",
     "output_type": "stream",
     "text": [
      "PEIX: No timezone found, symbol may be delisted\n"
     ]
    },
    {
     "name": "stdout",
     "output_type": "stream",
     "text": [
      "Error fetching dividend data for PEIX: 'RangeIndex' object has no attribute 'year'\n"
     ]
    },
    {
     "name": "stderr",
     "output_type": "stream",
     "text": [
      "PFBI: No timezone found, symbol may be delisted\n"
     ]
    },
    {
     "name": "stdout",
     "output_type": "stream",
     "text": [
      "Error fetching dividend data for PFBI: 'RangeIndex' object has no attribute 'year'\n"
     ]
    },
    {
     "name": "stderr",
     "output_type": "stream",
     "text": [
      "PFIN: No timezone found, symbol may be delisted\n"
     ]
    },
    {
     "name": "stdout",
     "output_type": "stream",
     "text": [
      "Error fetching dividend data for PFIN: 'RangeIndex' object has no attribute 'year'\n"
     ]
    },
    {
     "name": "stderr",
     "output_type": "stream",
     "text": [
      "PFNX: No timezone found, symbol may be delisted\n"
     ]
    },
    {
     "name": "stdout",
     "output_type": "stream",
     "text": [
      "Error fetching dividend data for PFNX: 'RangeIndex' object has no attribute 'year'\n"
     ]
    },
    {
     "name": "stderr",
     "output_type": "stream",
     "text": [
      "PFPT: No timezone found, symbol may be delisted\n"
     ]
    },
    {
     "name": "stdout",
     "output_type": "stream",
     "text": [
      "Error fetching dividend data for PFPT: 'RangeIndex' object has no attribute 'year'\n"
     ]
    },
    {
     "name": "stderr",
     "output_type": "stream",
     "text": [
      "PFSW: No timezone found, symbol may be delisted\n"
     ]
    },
    {
     "name": "stdout",
     "output_type": "stream",
     "text": [
      "Error fetching dividend data for PFSW: 'RangeIndex' object has no attribute 'year'\n"
     ]
    },
    {
     "name": "stderr",
     "output_type": "stream",
     "text": [
      "PGNX: No timezone found, symbol may be delisted\n"
     ]
    },
    {
     "name": "stdout",
     "output_type": "stream",
     "text": [
      "Error fetching dividend data for PGNX: 'RangeIndex' object has no attribute 'year'\n"
     ]
    },
    {
     "name": "stderr",
     "output_type": "stream",
     "text": [
      "PHAS: Period 'max' is invalid, must be one of ['1d', '5d']\n"
     ]
    },
    {
     "name": "stdout",
     "output_type": "stream",
     "text": [
      "Error fetching dividend data for PHAS: 'RangeIndex' object has no attribute 'year'\n"
     ]
    },
    {
     "name": "stderr",
     "output_type": "stream",
     "text": [
      "PICO: No timezone found, symbol may be delisted\n"
     ]
    },
    {
     "name": "stdout",
     "output_type": "stream",
     "text": [
      "Error fetching dividend data for PICO: 'RangeIndex' object has no attribute 'year'\n"
     ]
    },
    {
     "name": "stderr",
     "output_type": "stream",
     "text": [
      "PIH: No timezone found, symbol may be delisted\n"
     ]
    },
    {
     "name": "stdout",
     "output_type": "stream",
     "text": [
      "Error fetching dividend data for PIH: 'RangeIndex' object has no attribute 'year'\n"
     ]
    },
    {
     "name": "stderr",
     "output_type": "stream",
     "text": [
      "PKI: No timezone found, symbol may be delisted\n"
     ]
    },
    {
     "name": "stdout",
     "output_type": "stream",
     "text": [
      "Error fetching dividend data for PKI: 'RangeIndex' object has no attribute 'year'\n"
     ]
    },
    {
     "name": "stderr",
     "output_type": "stream",
     "text": [
      "PLAN: No timezone found, symbol may be delisted\n"
     ]
    },
    {
     "name": "stdout",
     "output_type": "stream",
     "text": [
      "Error fetching dividend data for PLAN: 'RangeIndex' object has no attribute 'year'\n"
     ]
    },
    {
     "name": "stderr",
     "output_type": "stream",
     "text": [
      "PLT: No timezone found, symbol may be delisted\n"
     ]
    },
    {
     "name": "stdout",
     "output_type": "stream",
     "text": [
      "Error fetching dividend data for PLT: 'RangeIndex' object has no attribute 'year'\n"
     ]
    },
    {
     "name": "stderr",
     "output_type": "stream",
     "text": [
      "PLXP: No timezone found, symbol may be delisted\n"
     ]
    },
    {
     "name": "stdout",
     "output_type": "stream",
     "text": [
      "Error fetching dividend data for PLXP: 'RangeIndex' object has no attribute 'year'\n"
     ]
    },
    {
     "name": "stderr",
     "output_type": "stream",
     "text": [
      "PMBC: No timezone found, symbol may be delisted\n"
     ]
    },
    {
     "name": "stdout",
     "output_type": "stream",
     "text": [
      "Error fetching dividend data for PMBC: 'RangeIndex' object has no attribute 'year'\n"
     ]
    },
    {
     "name": "stderr",
     "output_type": "stream",
     "text": [
      "PQG: No timezone found, symbol may be delisted\n"
     ]
    },
    {
     "name": "stdout",
     "output_type": "stream",
     "text": [
      "Error fetching dividend data for PQG: 'RangeIndex' object has no attribute 'year'\n"
     ]
    },
    {
     "name": "stderr",
     "output_type": "stream",
     "text": [
      "PRAH: No timezone found, symbol may be delisted\n"
     ]
    },
    {
     "name": "stdout",
     "output_type": "stream",
     "text": [
      "Error fetching dividend data for PRAH: 'RangeIndex' object has no attribute 'year'\n"
     ]
    },
    {
     "name": "stderr",
     "output_type": "stream",
     "text": [
      "PRCP: No timezone found, symbol may be delisted\n"
     ]
    },
    {
     "name": "stdout",
     "output_type": "stream",
     "text": [
      "Error fetching dividend data for PRCP: 'RangeIndex' object has no attribute 'year'\n"
     ]
    },
    {
     "name": "stderr",
     "output_type": "stream",
     "text": [
      "PRGX: No timezone found, symbol may be delisted\n"
     ]
    },
    {
     "name": "stdout",
     "output_type": "stream",
     "text": [
      "Error fetching dividend data for PRGX: 'RangeIndex' object has no attribute 'year'\n"
     ]
    },
    {
     "name": "stderr",
     "output_type": "stream",
     "text": [
      "PRNB: No timezone found, symbol may be delisted\n"
     ]
    },
    {
     "name": "stdout",
     "output_type": "stream",
     "text": [
      "Error fetching dividend data for PRNB: 'RangeIndex' object has no attribute 'year'\n"
     ]
    },
    {
     "name": "stderr",
     "output_type": "stream",
     "text": [
      "PRSC: No timezone found, symbol may be delisted\n"
     ]
    },
    {
     "name": "stdout",
     "output_type": "stream",
     "text": [
      "Error fetching dividend data for PRSC: 'RangeIndex' object has no attribute 'year'\n"
     ]
    },
    {
     "name": "stderr",
     "output_type": "stream",
     "text": [
      "PRSP: No timezone found, symbol may be delisted\n"
     ]
    },
    {
     "name": "stdout",
     "output_type": "stream",
     "text": [
      "Error fetching dividend data for PRSP: 'RangeIndex' object has no attribute 'year'\n"
     ]
    },
    {
     "name": "stderr",
     "output_type": "stream",
     "text": [
      "PRTK: No timezone found, symbol may be delisted\n"
     ]
    },
    {
     "name": "stdout",
     "output_type": "stream",
     "text": [
      "Error fetching dividend data for PRTK: 'RangeIndex' object has no attribute 'year'\n"
     ]
    },
    {
     "name": "stderr",
     "output_type": "stream",
     "text": [
      "PRTY: No timezone found, symbol may be delisted\n"
     ]
    },
    {
     "name": "stdout",
     "output_type": "stream",
     "text": [
      "Error fetching dividend data for PRTY: 'RangeIndex' object has no attribute 'year'\n"
     ]
    },
    {
     "name": "stderr",
     "output_type": "stream",
     "text": [
      "PRVB: No timezone found, symbol may be delisted\n"
     ]
    },
    {
     "name": "stdout",
     "output_type": "stream",
     "text": [
      "Error fetching dividend data for PRVB: 'RangeIndex' object has no attribute 'year'\n"
     ]
    },
    {
     "name": "stderr",
     "output_type": "stream",
     "text": [
      "PS: No timezone found, symbol may be delisted\n"
     ]
    },
    {
     "name": "stdout",
     "output_type": "stream",
     "text": [
      "Error fetching dividend data for PS: 'RangeIndex' object has no attribute 'year'\n"
     ]
    },
    {
     "name": "stderr",
     "output_type": "stream",
     "text": [
      "PSB: No timezone found, symbol may be delisted\n"
     ]
    },
    {
     "name": "stdout",
     "output_type": "stream",
     "text": [
      "Error fetching dividend data for PSB: 'RangeIndex' object has no attribute 'year'\n"
     ]
    },
    {
     "name": "stderr",
     "output_type": "stream",
     "text": [
      "PTE: No timezone found, symbol may be delisted\n"
     ]
    },
    {
     "name": "stdout",
     "output_type": "stream",
     "text": [
      "Error fetching dividend data for PTE: 'RangeIndex' object has no attribute 'year'\n"
     ]
    },
    {
     "name": "stderr",
     "output_type": "stream",
     "text": [
      "PTI: No timezone found, symbol may be delisted\n"
     ]
    },
    {
     "name": "stdout",
     "output_type": "stream",
     "text": [
      "Error fetching dividend data for PTI: 'RangeIndex' object has no attribute 'year'\n"
     ]
    },
    {
     "name": "stderr",
     "output_type": "stream",
     "text": [
      "PTLA: No timezone found, symbol may be delisted\n"
     ]
    },
    {
     "name": "stdout",
     "output_type": "stream",
     "text": [
      "Error fetching dividend data for PTLA: 'RangeIndex' object has no attribute 'year'\n"
     ]
    },
    {
     "name": "stderr",
     "output_type": "stream",
     "text": [
      "PTVCA: No timezone found, symbol may be delisted\n"
     ]
    },
    {
     "name": "stdout",
     "output_type": "stream",
     "text": [
      "Error fetching dividend data for PTVCA: 'RangeIndex' object has no attribute 'year'\n"
     ]
    },
    {
     "name": "stderr",
     "output_type": "stream",
     "text": [
      "PTVCB: No timezone found, symbol may be delisted\n"
     ]
    },
    {
     "name": "stdout",
     "output_type": "stream",
     "text": [
      "Error fetching dividend data for PTVCB: 'RangeIndex' object has no attribute 'year'\n"
     ]
    },
    {
     "name": "stderr",
     "output_type": "stream",
     "text": [
      "PUB: No timezone found, symbol may be delisted\n"
     ]
    },
    {
     "name": "stdout",
     "output_type": "stream",
     "text": [
      "Error fetching dividend data for PUB: 'RangeIndex' object has no attribute 'year'\n"
     ]
    },
    {
     "name": "stderr",
     "output_type": "stream",
     "text": [
      "PVAC: No timezone found, symbol may be delisted\n"
     ]
    },
    {
     "name": "stdout",
     "output_type": "stream",
     "text": [
      "Error fetching dividend data for PVAC: 'RangeIndex' object has no attribute 'year'\n"
     ]
    },
    {
     "name": "stderr",
     "output_type": "stream",
     "text": [
      "PZN: No timezone found, symbol may be delisted\n"
     ]
    },
    {
     "name": "stdout",
     "output_type": "stream",
     "text": [
      "Error fetching dividend data for PZN: 'RangeIndex' object has no attribute 'year'\n"
     ]
    },
    {
     "name": "stderr",
     "output_type": "stream",
     "text": [
      "QADA: No timezone found, symbol may be delisted\n"
     ]
    },
    {
     "name": "stdout",
     "output_type": "stream",
     "text": [
      "Error fetching dividend data for QADA: 'RangeIndex' object has no attribute 'year'\n"
     ]
    },
    {
     "name": "stderr",
     "output_type": "stream",
     "text": [
      "QADB: No timezone found, symbol may be delisted\n"
     ]
    },
    {
     "name": "stdout",
     "output_type": "stream",
     "text": [
      "Error fetching dividend data for QADB: 'RangeIndex' object has no attribute 'year'\n"
     ]
    },
    {
     "name": "stderr",
     "output_type": "stream",
     "text": [
      "QEP: No timezone found, symbol may be delisted\n"
     ]
    },
    {
     "name": "stdout",
     "output_type": "stream",
     "text": [
      "Error fetching dividend data for QEP: 'RangeIndex' object has no attribute 'year'\n"
     ]
    },
    {
     "name": "stderr",
     "output_type": "stream",
     "text": [
      "QTS: No timezone found, symbol may be delisted\n"
     ]
    },
    {
     "name": "stdout",
     "output_type": "stream",
     "text": [
      "Error fetching dividend data for QTS: 'RangeIndex' object has no attribute 'year'\n"
     ]
    },
    {
     "name": "stderr",
     "output_type": "stream",
     "text": [
      "QUMU: No timezone found, symbol may be delisted\n"
     ]
    },
    {
     "name": "stdout",
     "output_type": "stream",
     "text": [
      "Error fetching dividend data for QUMU: 'RangeIndex' object has no attribute 'year'\n"
     ]
    },
    {
     "name": "stderr",
     "output_type": "stream",
     "text": [
      "QUOT: No timezone found, symbol may be delisted\n"
     ]
    },
    {
     "name": "stdout",
     "output_type": "stream",
     "text": [
      "Error fetching dividend data for QUOT: 'RangeIndex' object has no attribute 'year'\n"
     ]
    },
    {
     "name": "stderr",
     "output_type": "stream",
     "text": [
      "RAD: No timezone found, symbol may be delisted\n"
     ]
    },
    {
     "name": "stdout",
     "output_type": "stream",
     "text": [
      "Error fetching dividend data for RAD: 'RangeIndex' object has no attribute 'year'\n"
     ]
    },
    {
     "name": "stderr",
     "output_type": "stream",
     "text": [
      "RAVN: No timezone found, symbol may be delisted\n"
     ]
    },
    {
     "name": "stdout",
     "output_type": "stream",
     "text": [
      "Error fetching dividend data for RAVN: 'RangeIndex' object has no attribute 'year'\n"
     ]
    },
    {
     "name": "stderr",
     "output_type": "stream",
     "text": [
      "RBNC: No timezone found, symbol may be delisted\n"
     ]
    },
    {
     "name": "stdout",
     "output_type": "stream",
     "text": [
      "Error fetching dividend data for RBNC: 'RangeIndex' object has no attribute 'year'\n"
     ]
    },
    {
     "name": "stderr",
     "output_type": "stream",
     "text": [
      "RCII: No timezone found, symbol may be delisted\n"
     ]
    },
    {
     "name": "stdout",
     "output_type": "stream",
     "text": [
      "Error fetching dividend data for RCII: 'RangeIndex' object has no attribute 'year'\n"
     ]
    },
    {
     "name": "stderr",
     "output_type": "stream",
     "text": [
      "RE: No timezone found, symbol may be delisted\n"
     ]
    },
    {
     "name": "stdout",
     "output_type": "stream",
     "text": [
      "Error fetching dividend data for RE: 'RangeIndex' object has no attribute 'year'\n"
     ]
    },
    {
     "name": "stderr",
     "output_type": "stream",
     "text": [
      "REPH: No timezone found, symbol may be delisted\n"
     ]
    },
    {
     "name": "stdout",
     "output_type": "stream",
     "text": [
      "Error fetching dividend data for REPH: 'RangeIndex' object has no attribute 'year'\n"
     ]
    },
    {
     "name": "stderr",
     "output_type": "stream",
     "text": [
      "RESN: No timezone found, symbol may be delisted\n"
     ]
    },
    {
     "name": "stdout",
     "output_type": "stream",
     "text": [
      "Error fetching dividend data for RESN: 'RangeIndex' object has no attribute 'year'\n"
     ]
    },
    {
     "name": "stderr",
     "output_type": "stream",
     "text": [
      "RETA: No timezone found, symbol may be delisted\n"
     ]
    },
    {
     "name": "stdout",
     "output_type": "stream",
     "text": [
      "Error fetching dividend data for RETA: 'RangeIndex' object has no attribute 'year'\n"
     ]
    },
    {
     "name": "stderr",
     "output_type": "stream",
     "text": [
      "REV: No timezone found, symbol may be delisted\n"
     ]
    },
    {
     "name": "stdout",
     "output_type": "stream",
     "text": [
      "Error fetching dividend data for REV: 'RangeIndex' object has no attribute 'year'\n"
     ]
    },
    {
     "name": "stderr",
     "output_type": "stream",
     "text": [
      "RFP: No timezone found, symbol may be delisted\n"
     ]
    },
    {
     "name": "stdout",
     "output_type": "stream",
     "text": [
      "Error fetching dividend data for RFP: 'RangeIndex' object has no attribute 'year'\n"
     ]
    },
    {
     "name": "stderr",
     "output_type": "stream",
     "text": [
      "RLGY: No timezone found, symbol may be delisted\n"
     ]
    },
    {
     "name": "stdout",
     "output_type": "stream",
     "text": [
      "Error fetching dividend data for RLGY: 'RangeIndex' object has no attribute 'year'\n"
     ]
    },
    {
     "name": "stderr",
     "output_type": "stream",
     "text": [
      "RLH: No timezone found, symbol may be delisted\n"
     ]
    },
    {
     "name": "stdout",
     "output_type": "stream",
     "text": [
      "Error fetching dividend data for RLH: 'RangeIndex' object has no attribute 'year'\n"
     ]
    },
    {
     "name": "stderr",
     "output_type": "stream",
     "text": [
      "RNDB: No timezone found, symbol may be delisted\n"
     ]
    },
    {
     "name": "stdout",
     "output_type": "stream",
     "text": [
      "Error fetching dividend data for RNDB: 'RangeIndex' object has no attribute 'year'\n"
     ]
    },
    {
     "name": "stderr",
     "output_type": "stream",
     "text": [
      "RNET: No timezone found, symbol may be delisted\n"
     ]
    },
    {
     "name": "stdout",
     "output_type": "stream",
     "text": [
      "Error fetching dividend data for RNET: 'RangeIndex' object has no attribute 'year'\n"
     ]
    },
    {
     "name": "stderr",
     "output_type": "stream",
     "text": [
      "RNWK: No timezone found, symbol may be delisted\n"
     ]
    },
    {
     "name": "stdout",
     "output_type": "stream",
     "text": [
      "Error fetching dividend data for RNWK: 'RangeIndex' object has no attribute 'year'\n"
     ]
    },
    {
     "name": "stderr",
     "output_type": "stream",
     "text": [
      "ROLL: No timezone found, symbol may be delisted\n"
     ]
    },
    {
     "name": "stdout",
     "output_type": "stream",
     "text": [
      "Error fetching dividend data for ROLL: 'RangeIndex' object has no attribute 'year'\n"
     ]
    },
    {
     "name": "stderr",
     "output_type": "stream",
     "text": [
      "RP: No timezone found, symbol may be delisted\n"
     ]
    },
    {
     "name": "stdout",
     "output_type": "stream",
     "text": [
      "Error fetching dividend data for RP: 'RangeIndex' object has no attribute 'year'\n"
     ]
    },
    {
     "name": "stderr",
     "output_type": "stream",
     "text": [
      "RPAI: No timezone found, symbol may be delisted\n"
     ]
    },
    {
     "name": "stdout",
     "output_type": "stream",
     "text": [
      "Error fetching dividend data for RPAI: 'RangeIndex' object has no attribute 'year'\n"
     ]
    },
    {
     "name": "stderr",
     "output_type": "stream",
     "text": [
      "RPT: No timezone found, symbol may be delisted\n"
     ]
    },
    {
     "name": "stdout",
     "output_type": "stream",
     "text": [
      "Error fetching dividend data for RPT: 'RangeIndex' object has no attribute 'year'\n"
     ]
    },
    {
     "name": "stderr",
     "output_type": "stream",
     "text": [
      "RRD: No timezone found, symbol may be delisted\n"
     ]
    },
    {
     "name": "stdout",
     "output_type": "stream",
     "text": [
      "Error fetching dividend data for RRD: 'RangeIndex' object has no attribute 'year'\n"
     ]
    },
    {
     "name": "stderr",
     "output_type": "stream",
     "text": [
      "RST: No timezone found, symbol may be delisted\n"
     ]
    },
    {
     "name": "stdout",
     "output_type": "stream",
     "text": [
      "Error fetching dividend data for RST: 'RangeIndex' object has no attribute 'year'\n"
     ]
    },
    {
     "name": "stderr",
     "output_type": "stream",
     "text": [
      "RTIX: No timezone found, symbol may be delisted\n"
     ]
    },
    {
     "name": "stdout",
     "output_type": "stream",
     "text": [
      "Error fetching dividend data for RTIX: 'RangeIndex' object has no attribute 'year'\n"
     ]
    },
    {
     "name": "stderr",
     "output_type": "stream",
     "text": [
      "RTRX: No timezone found, symbol may be delisted\n"
     ]
    },
    {
     "name": "stdout",
     "output_type": "stream",
     "text": [
      "Error fetching dividend data for RTRX: 'RangeIndex' object has no attribute 'year'\n"
     ]
    },
    {
     "name": "stderr",
     "output_type": "stream",
     "text": [
      "RUBI: No timezone found, symbol may be delisted\n"
     ]
    },
    {
     "name": "stdout",
     "output_type": "stream",
     "text": [
      "Error fetching dividend data for RUBI: 'RangeIndex' object has no attribute 'year'\n"
     ]
    },
    {
     "name": "stderr",
     "output_type": "stream",
     "text": [
      "RUBY: No timezone found, symbol may be delisted\n"
     ]
    },
    {
     "name": "stdout",
     "output_type": "stream",
     "text": [
      "Error fetching dividend data for RUBY: 'RangeIndex' object has no attribute 'year'\n"
     ]
    },
    {
     "name": "stderr",
     "output_type": "stream",
     "text": [
      "RUTH: No timezone found, symbol may be delisted\n"
     ]
    },
    {
     "name": "stdout",
     "output_type": "stream",
     "text": [
      "Error fetching dividend data for RUTH: 'RangeIndex' object has no attribute 'year'\n"
     ]
    },
    {
     "name": "stderr",
     "output_type": "stream",
     "text": [
      "RVI: No timezone found, symbol may be delisted\n"
     ]
    },
    {
     "name": "stdout",
     "output_type": "stream",
     "text": [
      "Error fetching dividend data for RVI: 'RangeIndex' object has no attribute 'year'\n"
     ]
    },
    {
     "name": "stderr",
     "output_type": "stream",
     "text": [
      "RVLT: No timezone found, symbol may be delisted\n"
     ]
    },
    {
     "name": "stdout",
     "output_type": "stream",
     "text": [
      "Error fetching dividend data for RVLT: 'RangeIndex' object has no attribute 'year'\n"
     ]
    },
    {
     "name": "stderr",
     "output_type": "stream",
     "text": [
      "RXN: No timezone found, symbol may be delisted\n"
     ]
    },
    {
     "name": "stdout",
     "output_type": "stream",
     "text": [
      "Error fetching dividend data for RXN: 'RangeIndex' object has no attribute 'year'\n"
     ]
    },
    {
     "name": "stderr",
     "output_type": "stream",
     "text": [
      "SAFM: No timezone found, symbol may be delisted\n"
     ]
    },
    {
     "name": "stdout",
     "output_type": "stream",
     "text": [
      "Error fetching dividend data for SAFM: 'RangeIndex' object has no attribute 'year'\n"
     ]
    },
    {
     "name": "stderr",
     "output_type": "stream",
     "text": [
      "SAIL: No timezone found, symbol may be delisted\n"
     ]
    },
    {
     "name": "stdout",
     "output_type": "stream",
     "text": [
      "Error fetching dividend data for SAIL: 'RangeIndex' object has no attribute 'year'\n"
     ]
    },
    {
     "name": "stderr",
     "output_type": "stream",
     "text": [
      "SAL: No timezone found, symbol may be delisted\n"
     ]
    },
    {
     "name": "stdout",
     "output_type": "stream",
     "text": [
      "Error fetching dividend data for SAL: 'RangeIndex' object has no attribute 'year'\n"
     ]
    },
    {
     "name": "stderr",
     "output_type": "stream",
     "text": [
      "SBBX: No timezone found, symbol may be delisted\n"
     ]
    },
    {
     "name": "stdout",
     "output_type": "stream",
     "text": [
      "Error fetching dividend data for SBBX: 'RangeIndex' object has no attribute 'year'\n"
     ]
    },
    {
     "name": "stderr",
     "output_type": "stream",
     "text": [
      "SBPH: No timezone found, symbol may be delisted\n"
     ]
    },
    {
     "name": "stdout",
     "output_type": "stream",
     "text": [
      "Error fetching dividend data for SBPH: 'RangeIndex' object has no attribute 'year'\n"
     ]
    },
    {
     "name": "stderr",
     "output_type": "stream",
     "text": [
      "SC: No timezone found, symbol may be delisted\n"
     ]
    },
    {
     "name": "stdout",
     "output_type": "stream",
     "text": [
      "Error fetching dividend data for SC: 'RangeIndex' object has no attribute 'year'\n"
     ]
    },
    {
     "name": "stderr",
     "output_type": "stream",
     "text": [
      "SCHN: No timezone found, symbol may be delisted\n"
     ]
    },
    {
     "name": "stdout",
     "output_type": "stream",
     "text": [
      "Error fetching dividend data for SCHN: 'RangeIndex' object has no attribute 'year'\n"
     ]
    },
    {
     "name": "stderr",
     "output_type": "stream",
     "text": [
      "SCON: No timezone found, symbol may be delisted\n"
     ]
    },
    {
     "name": "stdout",
     "output_type": "stream",
     "text": [
      "Error fetching dividend data for SCON: 'RangeIndex' object has no attribute 'year'\n"
     ]
    },
    {
     "name": "stderr",
     "output_type": "stream",
     "text": [
      "SCPL: No timezone found, symbol may be delisted\n"
     ]
    },
    {
     "name": "stdout",
     "output_type": "stream",
     "text": [
      "Error fetching dividend data for SCPL: 'RangeIndex' object has no attribute 'year'\n"
     ]
    },
    {
     "name": "stderr",
     "output_type": "stream",
     "text": [
      "SEAS: No timezone found, symbol may be delisted\n"
     ]
    },
    {
     "name": "stdout",
     "output_type": "stream",
     "text": [
      "Error fetching dividend data for SEAS: 'RangeIndex' object has no attribute 'year'\n"
     ]
    },
    {
     "name": "stderr",
     "output_type": "stream",
     "text": [
      "SELB: No timezone found, symbol may be delisted\n"
     ]
    },
    {
     "name": "stdout",
     "output_type": "stream",
     "text": [
      "Error fetching dividend data for SELB: 'RangeIndex' object has no attribute 'year'\n"
     ]
    },
    {
     "name": "stderr",
     "output_type": "stream",
     "text": [
      "SESN: No timezone found, symbol may be delisted\n"
     ]
    },
    {
     "name": "stdout",
     "output_type": "stream",
     "text": [
      "Error fetching dividend data for SESN: 'RangeIndex' object has no attribute 'year'\n"
     ]
    },
    {
     "name": "stderr",
     "output_type": "stream",
     "text": [
      "SFE: No timezone found, symbol may be delisted\n"
     ]
    },
    {
     "name": "stdout",
     "output_type": "stream",
     "text": [
      "Error fetching dividend data for SFE: 'RangeIndex' object has no attribute 'year'\n"
     ]
    },
    {
     "name": "stderr",
     "output_type": "stream",
     "text": [
      "SGEN: No timezone found, symbol may be delisted\n"
     ]
    },
    {
     "name": "stdout",
     "output_type": "stream",
     "text": [
      "Error fetching dividend data for SGEN: 'RangeIndex' object has no attribute 'year'\n"
     ]
    },
    {
     "name": "stderr",
     "output_type": "stream",
     "text": [
      "SGMS: No timezone found, symbol may be delisted\n"
     ]
    },
    {
     "name": "stdout",
     "output_type": "stream",
     "text": [
      "Error fetching dividend data for SGMS: 'RangeIndex' object has no attribute 'year'\n"
     ]
    },
    {
     "name": "stderr",
     "output_type": "stream",
     "text": [
      "SHLO: No timezone found, symbol may be delisted\n"
     ]
    },
    {
     "name": "stdout",
     "output_type": "stream",
     "text": [
      "Error fetching dividend data for SHLO: 'RangeIndex' object has no attribute 'year'\n"
     ]
    },
    {
     "name": "stderr",
     "output_type": "stream",
     "text": [
      "SHSP: No timezone found, symbol may be delisted\n"
     ]
    },
    {
     "name": "stdout",
     "output_type": "stream",
     "text": [
      "Error fetching dividend data for SHSP: 'RangeIndex' object has no attribute 'year'\n"
     ]
    },
    {
     "name": "stderr",
     "output_type": "stream",
     "text": [
      "SIEN: No timezone found, symbol may be delisted\n"
     ]
    },
    {
     "name": "stdout",
     "output_type": "stream",
     "text": [
      "Error fetching dividend data for SIEN: 'RangeIndex' object has no attribute 'year'\n"
     ]
    },
    {
     "name": "stderr",
     "output_type": "stream",
     "text": [
      "SITO: No timezone found, symbol may be delisted\n",
      "SIVB: Period 'max' is invalid, must be one of ['1d', '5d']\n"
     ]
    },
    {
     "name": "stdout",
     "output_type": "stream",
     "text": [
      "Error fetching dividend data for SITO: 'RangeIndex' object has no attribute 'year'\n",
      "Error fetching dividend data for SIVB: 'RangeIndex' object has no attribute 'year'\n"
     ]
    },
    {
     "name": "stderr",
     "output_type": "stream",
     "text": [
      "SJI: No timezone found, symbol may be delisted\n"
     ]
    },
    {
     "name": "stdout",
     "output_type": "stream",
     "text": [
      "Error fetching dividend data for SJI: 'RangeIndex' object has no attribute 'year'\n"
     ]
    },
    {
     "name": "stderr",
     "output_type": "stream",
     "text": [
      "SLCT: No timezone found, symbol may be delisted\n"
     ]
    },
    {
     "name": "stdout",
     "output_type": "stream",
     "text": [
      "Error fetching dividend data for SLCT: 'RangeIndex' object has no attribute 'year'\n"
     ]
    },
    {
     "name": "stderr",
     "output_type": "stream",
     "text": [
      "SMED: No timezone found, symbol may be delisted\n"
     ]
    },
    {
     "name": "stdout",
     "output_type": "stream",
     "text": [
      "Error fetching dividend data for SMED: 'RangeIndex' object has no attribute 'year'\n"
     ]
    },
    {
     "name": "stderr",
     "output_type": "stream",
     "text": [
      "SNR: No timezone found, symbol may be delisted\n"
     ]
    },
    {
     "name": "stdout",
     "output_type": "stream",
     "text": [
      "Error fetching dividend data for SNR: 'RangeIndex' object has no attribute 'year'\n"
     ]
    },
    {
     "name": "stderr",
     "output_type": "stream",
     "text": [
      "SNSS: No timezone found, symbol may be delisted\n"
     ]
    },
    {
     "name": "stdout",
     "output_type": "stream",
     "text": [
      "Error fetching dividend data for SNSS: 'RangeIndex' object has no attribute 'year'\n"
     ]
    },
    {
     "name": "stderr",
     "output_type": "stream",
     "text": [
      "SOLY: No timezone found, symbol may be delisted\n"
     ]
    },
    {
     "name": "stdout",
     "output_type": "stream",
     "text": [
      "Error fetching dividend data for SOLY: 'RangeIndex' object has no attribute 'year'\n"
     ]
    },
    {
     "name": "stderr",
     "output_type": "stream",
     "text": [
      "SONA: No timezone found, symbol may be delisted\n"
     ]
    },
    {
     "name": "stdout",
     "output_type": "stream",
     "text": [
      "Error fetching dividend data for SONA: 'RangeIndex' object has no attribute 'year'\n"
     ]
    },
    {
     "name": "stderr",
     "output_type": "stream",
     "text": [
      "SPKE: No timezone found, symbol may be delisted\n"
     ]
    },
    {
     "name": "stdout",
     "output_type": "stream",
     "text": [
      "Error fetching dividend data for SPKE: 'RangeIndex' object has no attribute 'year'\n"
     ]
    },
    {
     "name": "stderr",
     "output_type": "stream",
     "text": [
      "SPN: No timezone found, symbol may be delisted\n"
     ]
    },
    {
     "name": "stdout",
     "output_type": "stream",
     "text": [
      "Error fetching dividend data for SPN: 'RangeIndex' object has no attribute 'year'\n"
     ]
    },
    {
     "name": "stderr",
     "output_type": "stream",
     "text": [
      "SPNE: No timezone found, symbol may be delisted\n"
     ]
    },
    {
     "name": "stdout",
     "output_type": "stream",
     "text": [
      "Error fetching dividend data for SPNE: 'RangeIndex' object has no attribute 'year'\n"
     ]
    },
    {
     "name": "stderr",
     "output_type": "stream",
     "text": [
      "SPPI: No timezone found, symbol may be delisted\n"
     ]
    },
    {
     "name": "stdout",
     "output_type": "stream",
     "text": [
      "Error fetching dividend data for SPPI: 'RangeIndex' object has no attribute 'year'\n"
     ]
    },
    {
     "name": "stderr",
     "output_type": "stream",
     "text": [
      "SPRT: No timezone found, symbol may be delisted\n"
     ]
    },
    {
     "name": "stdout",
     "output_type": "stream",
     "text": [
      "Error fetching dividend data for SPRT: 'RangeIndex' object has no attribute 'year'\n"
     ]
    },
    {
     "name": "stderr",
     "output_type": "stream",
     "text": [
      "SQBG: No timezone found, symbol may be delisted\n"
     ]
    },
    {
     "name": "stdout",
     "output_type": "stream",
     "text": [
      "Error fetching dividend data for SQBG: 'RangeIndex' object has no attribute 'year'\n"
     ]
    },
    {
     "name": "stderr",
     "output_type": "stream",
     "text": [
      "SRC: No timezone found, symbol may be delisted\n"
     ]
    },
    {
     "name": "stdout",
     "output_type": "stream",
     "text": [
      "Error fetching dividend data for SRC: 'RangeIndex' object has no attribute 'year'\n"
     ]
    },
    {
     "name": "stderr",
     "output_type": "stream",
     "text": [
      "SREV: No timezone found, symbol may be delisted\n"
     ]
    },
    {
     "name": "stdout",
     "output_type": "stream",
     "text": [
      "Error fetching dividend data for SREV: 'RangeIndex' object has no attribute 'year'\n"
     ]
    },
    {
     "name": "stderr",
     "output_type": "stream",
     "text": [
      "SRT: No timezone found, symbol may be delisted\n"
     ]
    },
    {
     "name": "stdout",
     "output_type": "stream",
     "text": [
      "Error fetching dividend data for SRT: 'RangeIndex' object has no attribute 'year'\n"
     ]
    },
    {
     "name": "stderr",
     "output_type": "stream",
     "text": [
      "STAR: No timezone found, symbol may be delisted\n"
     ]
    },
    {
     "name": "stdout",
     "output_type": "stream",
     "text": [
      "Error fetching dividend data for STAR: 'RangeIndex' object has no attribute 'year'\n"
     ]
    },
    {
     "name": "stderr",
     "output_type": "stream",
     "text": [
      "STAY: No timezone found, symbol may be delisted\n"
     ]
    },
    {
     "name": "stdout",
     "output_type": "stream",
     "text": [
      "Error fetching dividend data for STAY: 'RangeIndex' object has no attribute 'year'\n"
     ]
    },
    {
     "name": "stderr",
     "output_type": "stream",
     "text": [
      "STFC: No timezone found, symbol may be delisted\n"
     ]
    },
    {
     "name": "stdout",
     "output_type": "stream",
     "text": [
      "Error fetching dividend data for STFC: 'RangeIndex' object has no attribute 'year'\n"
     ]
    },
    {
     "name": "stderr",
     "output_type": "stream",
     "text": [
      "STL: No timezone found, symbol may be delisted\n"
     ]
    },
    {
     "name": "stdout",
     "output_type": "stream",
     "text": [
      "Error fetching dividend data for STL: 'RangeIndex' object has no attribute 'year'\n"
     ]
    },
    {
     "name": "stderr",
     "output_type": "stream",
     "text": [
      "STMP: No timezone found, symbol may be delisted\n"
     ]
    },
    {
     "name": "stdout",
     "output_type": "stream",
     "text": [
      "Error fetching dividend data for STMP: 'RangeIndex' object has no attribute 'year'\n"
     ]
    },
    {
     "name": "stderr",
     "output_type": "stream",
     "text": [
      "STND: No timezone found, symbol may be delisted\n"
     ]
    },
    {
     "name": "stdout",
     "output_type": "stream",
     "text": [
      "Error fetching dividend data for STND: 'RangeIndex' object has no attribute 'year'\n"
     ]
    },
    {
     "name": "stderr",
     "output_type": "stream",
     "text": [
      "STOR: No timezone found, symbol may be delisted\n"
     ]
    },
    {
     "name": "stdout",
     "output_type": "stream",
     "text": [
      "Error fetching dividend data for STOR: 'RangeIndex' object has no attribute 'year'\n"
     ]
    },
    {
     "name": "stderr",
     "output_type": "stream",
     "text": [
      "STXB: No timezone found, symbol may be delisted\n"
     ]
    },
    {
     "name": "stdout",
     "output_type": "stream",
     "text": [
      "Error fetching dividend data for STXB: 'RangeIndex' object has no attribute 'year'\n"
     ]
    },
    {
     "name": "stderr",
     "output_type": "stream",
     "text": [
      "SUMR: No timezone found, symbol may be delisted\n"
     ]
    },
    {
     "name": "stdout",
     "output_type": "stream",
     "text": [
      "Error fetching dividend data for SUMR: 'RangeIndex' object has no attribute 'year'\n"
     ]
    },
    {
     "name": "stderr",
     "output_type": "stream",
     "text": [
      "SUNW: No timezone found, symbol may be delisted\n"
     ]
    },
    {
     "name": "stdout",
     "output_type": "stream",
     "text": [
      "Error fetching dividend data for SUNW: 'RangeIndex' object has no attribute 'year'\n"
     ]
    },
    {
     "name": "stderr",
     "output_type": "stream",
     "text": [
      "SVBI: No timezone found, symbol may be delisted\n"
     ]
    },
    {
     "name": "stdout",
     "output_type": "stream",
     "text": [
      "Error fetching dividend data for SVBI: 'RangeIndex' object has no attribute 'year'\n"
     ]
    },
    {
     "name": "stderr",
     "output_type": "stream",
     "text": [
      "SVMK: No timezone found, symbol may be delisted\n"
     ]
    },
    {
     "name": "stdout",
     "output_type": "stream",
     "text": [
      "Error fetching dividend data for SVMK: 'RangeIndex' object has no attribute 'year'\n"
     ]
    },
    {
     "name": "stderr",
     "output_type": "stream",
     "text": [
      "SWCH: No timezone found, symbol may be delisted\n"
     ]
    },
    {
     "name": "stdout",
     "output_type": "stream",
     "text": [
      "Error fetching dividend data for SWCH: 'RangeIndex' object has no attribute 'year'\n"
     ]
    },
    {
     "name": "stderr",
     "output_type": "stream",
     "text": [
      "SWM: No timezone found, symbol may be delisted\n"
     ]
    },
    {
     "name": "stdout",
     "output_type": "stream",
     "text": [
      "Error fetching dividend data for SWM: 'RangeIndex' object has no attribute 'year'\n"
     ]
    },
    {
     "name": "stderr",
     "output_type": "stream",
     "text": [
      "SYKE: No timezone found, symbol may be delisted\n"
     ]
    },
    {
     "name": "stdout",
     "output_type": "stream",
     "text": [
      "Error fetching dividend data for SYKE: 'RangeIndex' object has no attribute 'year'\n"
     ]
    },
    {
     "name": "stderr",
     "output_type": "stream",
     "text": [
      "SYN: No timezone found, symbol may be delisted\n"
     ]
    },
    {
     "name": "stdout",
     "output_type": "stream",
     "text": [
      "Error fetching dividend data for SYN: 'RangeIndex' object has no attribute 'year'\n"
     ]
    },
    {
     "name": "stderr",
     "output_type": "stream",
     "text": [
      "SYNC: No timezone found, symbol may be delisted\n"
     ]
    },
    {
     "name": "stdout",
     "output_type": "stream",
     "text": [
      "Error fetching dividend data for SYNC: 'RangeIndex' object has no attribute 'year'\n"
     ]
    },
    {
     "name": "stderr",
     "output_type": "stream",
     "text": [
      "SYNH: No timezone found, symbol may be delisted\n"
     ]
    },
    {
     "name": "stdout",
     "output_type": "stream",
     "text": [
      "Error fetching dividend data for SYNH: 'RangeIndex' object has no attribute 'year'\n"
     ]
    },
    {
     "name": "stderr",
     "output_type": "stream",
     "text": [
      "SYNL: No timezone found, symbol may be delisted\n"
     ]
    },
    {
     "name": "stdout",
     "output_type": "stream",
     "text": [
      "Error fetching dividend data for SYNL: 'RangeIndex' object has no attribute 'year'\n"
     ]
    },
    {
     "name": "stderr",
     "output_type": "stream",
     "text": [
      "SYX: No timezone found, symbol may be delisted\n"
     ]
    },
    {
     "name": "stdout",
     "output_type": "stream",
     "text": [
      "Error fetching dividend data for SYX: 'RangeIndex' object has no attribute 'year'\n"
     ]
    },
    {
     "name": "stderr",
     "output_type": "stream",
     "text": [
      "TAT: No timezone found, symbol may be delisted\n"
     ]
    },
    {
     "name": "stdout",
     "output_type": "stream",
     "text": [
      "Error fetching dividend data for TAT: 'RangeIndex' object has no attribute 'year'\n"
     ]
    },
    {
     "name": "stderr",
     "output_type": "stream",
     "text": [
      "TBK: No timezone found, symbol may be delisted\n"
     ]
    },
    {
     "name": "stdout",
     "output_type": "stream",
     "text": [
      "Error fetching dividend data for TBK: 'RangeIndex' object has no attribute 'year'\n"
     ]
    },
    {
     "name": "stderr",
     "output_type": "stream",
     "text": [
      "TCDA: No timezone found, symbol may be delisted\n"
     ]
    },
    {
     "name": "stdout",
     "output_type": "stream",
     "text": [
      "Error fetching dividend data for TCDA: 'RangeIndex' object has no attribute 'year'\n"
     ]
    },
    {
     "name": "stderr",
     "output_type": "stream",
     "text": [
      "TCF: No timezone found, symbol may be delisted\n"
     ]
    },
    {
     "name": "stdout",
     "output_type": "stream",
     "text": [
      "Error fetching dividend data for TCF: 'RangeIndex' object has no attribute 'year'\n"
     ]
    },
    {
     "name": "stderr",
     "output_type": "stream",
     "text": [
      "TCFC: No timezone found, symbol may be delisted\n"
     ]
    },
    {
     "name": "stdout",
     "output_type": "stream",
     "text": [
      "Error fetching dividend data for TCFC: 'RangeIndex' object has no attribute 'year'\n"
     ]
    },
    {
     "name": "stderr",
     "output_type": "stream",
     "text": [
      "TCO: No timezone found, symbol may be delisted\n"
     ]
    },
    {
     "name": "stdout",
     "output_type": "stream",
     "text": [
      "Error fetching dividend data for TCO: 'RangeIndex' object has no attribute 'year'\n"
     ]
    },
    {
     "name": "stderr",
     "output_type": "stream",
     "text": [
      "TECD: No timezone found, symbol may be delisted\n"
     ]
    },
    {
     "name": "stdout",
     "output_type": "stream",
     "text": [
      "Error fetching dividend data for TECD: 'RangeIndex' object has no attribute 'year'\n"
     ]
    },
    {
     "name": "stderr",
     "output_type": "stream",
     "text": [
      "TEN: No timezone found, symbol may be delisted\n"
     ]
    },
    {
     "name": "stdout",
     "output_type": "stream",
     "text": [
      "Error fetching dividend data for TEN: 'RangeIndex' object has no attribute 'year'\n"
     ]
    },
    {
     "name": "stderr",
     "output_type": "stream",
     "text": [
      "TERP: No timezone found, symbol may be delisted\n"
     ]
    },
    {
     "name": "stdout",
     "output_type": "stream",
     "text": [
      "Error fetching dividend data for TERP: 'RangeIndex' object has no attribute 'year'\n"
     ]
    },
    {
     "name": "stderr",
     "output_type": "stream",
     "text": [
      "TESS: No timezone found, symbol may be delisted\n"
     ]
    },
    {
     "name": "stdout",
     "output_type": "stream",
     "text": [
      "Error fetching dividend data for TESS: 'RangeIndex' object has no attribute 'year'\n"
     ]
    },
    {
     "name": "stderr",
     "output_type": "stream",
     "text": [
      "TEUM: No timezone found, symbol may be delisted\n"
     ]
    },
    {
     "name": "stdout",
     "output_type": "stream",
     "text": [
      "Error fetching dividend data for TEUM: 'RangeIndex' object has no attribute 'year'\n"
     ]
    },
    {
     "name": "stderr",
     "output_type": "stream",
     "text": [
      "TIF: No timezone found, symbol may be delisted\n"
     ]
    },
    {
     "name": "stdout",
     "output_type": "stream",
     "text": [
      "Error fetching dividend data for TIF: 'RangeIndex' object has no attribute 'year'\n"
     ]
    },
    {
     "name": "stderr",
     "output_type": "stream",
     "text": [
      "TLGT: No timezone found, symbol may be delisted\n"
     ]
    },
    {
     "name": "stdout",
     "output_type": "stream",
     "text": [
      "Error fetching dividend data for TLGT: 'RangeIndex' object has no attribute 'year'\n"
     ]
    },
    {
     "name": "stderr",
     "output_type": "stream",
     "text": [
      "TLRD: No timezone found, symbol may be delisted\n"
     ]
    },
    {
     "name": "stdout",
     "output_type": "stream",
     "text": [
      "Error fetching dividend data for TLRD: 'RangeIndex' object has no attribute 'year'\n"
     ]
    },
    {
     "name": "stderr",
     "output_type": "stream",
     "text": [
      "TMST: No data found, symbol may be delisted\n"
     ]
    },
    {
     "name": "stdout",
     "output_type": "stream",
     "text": [
      "Error fetching dividend data for TMST: 'RangeIndex' object has no attribute 'year'\n"
     ]
    },
    {
     "name": "stderr",
     "output_type": "stream",
     "text": [
      "TNAV: No timezone found, symbol may be delisted\n"
     ]
    },
    {
     "name": "stdout",
     "output_type": "stream",
     "text": [
      "Error fetching dividend data for TNAV: 'RangeIndex' object has no attribute 'year'\n"
     ]
    },
    {
     "name": "stderr",
     "output_type": "stream",
     "text": [
      "TORC: No timezone found, symbol may be delisted\n"
     ]
    },
    {
     "name": "stdout",
     "output_type": "stream",
     "text": [
      "Error fetching dividend data for TORC: 'RangeIndex' object has no attribute 'year'\n"
     ]
    },
    {
     "name": "stderr",
     "output_type": "stream",
     "text": [
      "TPRE: No timezone found, symbol may be delisted\n"
     ]
    },
    {
     "name": "stdout",
     "output_type": "stream",
     "text": [
      "Error fetching dividend data for TPRE: 'RangeIndex' object has no attribute 'year'\n"
     ]
    },
    {
     "name": "stderr",
     "output_type": "stream",
     "text": [
      "TPTX: No timezone found, symbol may be delisted\n"
     ]
    },
    {
     "name": "stdout",
     "output_type": "stream",
     "text": [
      "Error fetching dividend data for TPTX: 'RangeIndex' object has no attribute 'year'\n"
     ]
    },
    {
     "name": "stderr",
     "output_type": "stream",
     "text": [
      "TRCH: No timezone found, symbol may be delisted\n"
     ]
    },
    {
     "name": "stdout",
     "output_type": "stream",
     "text": [
      "Error fetching dividend data for TRCH: 'RangeIndex' object has no attribute 'year'\n"
     ]
    },
    {
     "name": "stderr",
     "output_type": "stream",
     "text": [
      "TREC: No timezone found, symbol may be delisted\n"
     ]
    },
    {
     "name": "stdout",
     "output_type": "stream",
     "text": [
      "Error fetching dividend data for TREC: 'RangeIndex' object has no attribute 'year'\n"
     ]
    },
    {
     "name": "stderr",
     "output_type": "stream",
     "text": [
      "TRHC: No timezone found, symbol may be delisted\n"
     ]
    },
    {
     "name": "stdout",
     "output_type": "stream",
     "text": [
      "Error fetching dividend data for TRHC: 'RangeIndex' object has no attribute 'year'\n"
     ]
    },
    {
     "name": "stderr",
     "output_type": "stream",
     "text": [
      "TRTN: No timezone found, symbol may be delisted\n"
     ]
    },
    {
     "name": "stdout",
     "output_type": "stream",
     "text": [
      "Error fetching dividend data for TRTN: 'RangeIndex' object has no attribute 'year'\n"
     ]
    },
    {
     "name": "stderr",
     "output_type": "stream",
     "text": [
      "TRUE : No timezone found, symbol may be delisted\n"
     ]
    },
    {
     "name": "stdout",
     "output_type": "stream",
     "text": [
      "Error fetching dividend data for TRUE : 'RangeIndex' object has no attribute 'year'\n"
     ]
    },
    {
     "name": "stderr",
     "output_type": "stream",
     "text": [
      "TRWH: No timezone found, symbol may be delisted\n"
     ]
    },
    {
     "name": "stdout",
     "output_type": "stream",
     "text": [
      "Error fetching dividend data for TRWH: 'RangeIndex' object has no attribute 'year'\n"
     ]
    },
    {
     "name": "stderr",
     "output_type": "stream",
     "text": [
      "TRXC: No timezone found, symbol may be delisted\n"
     ]
    },
    {
     "name": "stdout",
     "output_type": "stream",
     "text": [
      "Error fetching dividend data for TRXC: 'RangeIndex' object has no attribute 'year'\n"
     ]
    },
    {
     "name": "stderr",
     "output_type": "stream",
     "text": [
      "TSC: No timezone found, symbol may be delisted\n"
     ]
    },
    {
     "name": "stdout",
     "output_type": "stream",
     "text": [
      "Error fetching dividend data for TSC: 'RangeIndex' object has no attribute 'year'\n"
     ]
    },
    {
     "name": "stderr",
     "output_type": "stream",
     "text": [
      "TTPH: No timezone found, symbol may be delisted\n"
     ]
    },
    {
     "name": "stdout",
     "output_type": "stream",
     "text": [
      "Error fetching dividend data for TTPH: 'RangeIndex' object has no attribute 'year'\n"
     ]
    },
    {
     "name": "stderr",
     "output_type": "stream",
     "text": [
      "TVTY: No timezone found, symbol may be delisted\n"
     ]
    },
    {
     "name": "stdout",
     "output_type": "stream",
     "text": [
      "Error fetching dividend data for TVTY: 'RangeIndex' object has no attribute 'year'\n"
     ]
    },
    {
     "name": "stderr",
     "output_type": "stream",
     "text": [
      "TWMC: No timezone found, symbol may be delisted\n"
     ]
    },
    {
     "name": "stdout",
     "output_type": "stream",
     "text": [
      "Error fetching dividend data for TWMC: 'RangeIndex' object has no attribute 'year'\n"
     ]
    },
    {
     "name": "stderr",
     "output_type": "stream",
     "text": [
      "TWNK: No timezone found, symbol may be delisted\n"
     ]
    },
    {
     "name": "stdout",
     "output_type": "stream",
     "text": [
      "Error fetching dividend data for TWNK: 'RangeIndex' object has no attribute 'year'\n"
     ]
    },
    {
     "name": "stderr",
     "output_type": "stream",
     "text": [
      "TWTR: No timezone found, symbol may be delisted\n"
     ]
    },
    {
     "name": "stdout",
     "output_type": "stream",
     "text": [
      "Error fetching dividend data for TWTR: 'RangeIndex' object has no attribute 'year'\n"
     ]
    },
    {
     "name": "stderr",
     "output_type": "stream",
     "text": [
      "TYME: No timezone found, symbol may be delisted\n"
     ]
    },
    {
     "name": "stdout",
     "output_type": "stream",
     "text": [
      "Error fetching dividend data for TYME: 'RangeIndex' object has no attribute 'year'\n"
     ]
    },
    {
     "name": "stderr",
     "output_type": "stream",
     "text": [
      "UBA: No timezone found, symbol may be delisted\n"
     ]
    },
    {
     "name": "stdout",
     "output_type": "stream",
     "text": [
      "Error fetching dividend data for UBA: 'RangeIndex' object has no attribute 'year'\n"
     ]
    },
    {
     "name": "stderr",
     "output_type": "stream",
     "text": [
      "UFAB: No timezone found, symbol may be delisted\n"
     ]
    },
    {
     "name": "stdout",
     "output_type": "stream",
     "text": [
      "Error fetching dividend data for UFAB: 'RangeIndex' object has no attribute 'year'\n"
     ]
    },
    {
     "name": "stderr",
     "output_type": "stream",
     "text": [
      "UFS: No timezone found, symbol may be delisted\n"
     ]
    },
    {
     "name": "stdout",
     "output_type": "stream",
     "text": [
      "Error fetching dividend data for UFS: 'RangeIndex' object has no attribute 'year'\n"
     ]
    },
    {
     "name": "stderr",
     "output_type": "stream",
     "text": [
      "UIHC: No timezone found, symbol may be delisted\n"
     ]
    },
    {
     "name": "stdout",
     "output_type": "stream",
     "text": [
      "Error fetching dividend data for UIHC: 'RangeIndex' object has no attribute 'year'\n"
     ]
    },
    {
     "name": "stderr",
     "output_type": "stream",
     "text": [
      "UMPQ: No timezone found, symbol may be delisted\n"
     ]
    },
    {
     "name": "stdout",
     "output_type": "stream",
     "text": [
      "Error fetching dividend data for UMPQ: 'RangeIndex' object has no attribute 'year'\n"
     ]
    },
    {
     "name": "stderr",
     "output_type": "stream",
     "text": [
      "UNVR: No timezone found, symbol may be delisted\n"
     ]
    },
    {
     "name": "stdout",
     "output_type": "stream",
     "text": [
      "Error fetching dividend data for UNVR: 'RangeIndex' object has no attribute 'year'\n"
     ]
    },
    {
     "name": "stderr",
     "output_type": "stream",
     "text": [
      "UROV: No timezone found, symbol may be delisted\n"
     ]
    },
    {
     "name": "stdout",
     "output_type": "stream",
     "text": [
      "Error fetching dividend data for UROV: 'RangeIndex' object has no attribute 'year'\n"
     ]
    },
    {
     "name": "stderr",
     "output_type": "stream",
     "text": [
      "USAK: No timezone found, symbol may be delisted\n"
     ]
    },
    {
     "name": "stdout",
     "output_type": "stream",
     "text": [
      "Error fetching dividend data for USAK: 'RangeIndex' object has no attribute 'year'\n"
     ]
    },
    {
     "name": "stderr",
     "output_type": "stream",
     "text": [
      "USAT: No timezone found, symbol may be delisted\n"
     ]
    },
    {
     "name": "stdout",
     "output_type": "stream",
     "text": [
      "Error fetching dividend data for USAT: 'RangeIndex' object has no attribute 'year'\n"
     ]
    },
    {
     "name": "stderr",
     "output_type": "stream",
     "text": [
      "USCR: No timezone found, symbol may be delisted\n"
     ]
    },
    {
     "name": "stdout",
     "output_type": "stream",
     "text": [
      "Error fetching dividend data for USCR: 'RangeIndex' object has no attribute 'year'\n"
     ]
    },
    {
     "name": "stderr",
     "output_type": "stream",
     "text": [
      "USWS: No timezone found, symbol may be delisted\n"
     ]
    },
    {
     "name": "stdout",
     "output_type": "stream",
     "text": [
      "Error fetching dividend data for USWS: 'RangeIndex' object has no attribute 'year'\n"
     ]
    },
    {
     "name": "stderr",
     "output_type": "stream",
     "text": [
      "USX: No timezone found, symbol may be delisted\n"
     ]
    },
    {
     "name": "stdout",
     "output_type": "stream",
     "text": [
      "Error fetching dividend data for USX: 'RangeIndex' object has no attribute 'year'\n"
     ]
    },
    {
     "name": "stderr",
     "output_type": "stream",
     "text": [
      "VAR: No timezone found, symbol may be delisted\n"
     ]
    },
    {
     "name": "stdout",
     "output_type": "stream",
     "text": [
      "Error fetching dividend data for VAR: 'RangeIndex' object has no attribute 'year'\n"
     ]
    },
    {
     "name": "stderr",
     "output_type": "stream",
     "text": [
      "VCRA: No timezone found, symbol may be delisted\n"
     ]
    },
    {
     "name": "stdout",
     "output_type": "stream",
     "text": [
      "Error fetching dividend data for VCRA: 'RangeIndex' object has no attribute 'year'\n"
     ]
    },
    {
     "name": "stderr",
     "output_type": "stream",
     "text": [
      "VEC: No timezone found, symbol may be delisted\n"
     ]
    },
    {
     "name": "stdout",
     "output_type": "stream",
     "text": [
      "Error fetching dividend data for VEC: 'RangeIndex' object has no attribute 'year'\n"
     ]
    },
    {
     "name": "stderr",
     "output_type": "stream",
     "text": [
      "VER: No timezone found, symbol may be delisted\n"
     ]
    },
    {
     "name": "stdout",
     "output_type": "stream",
     "text": [
      "Error fetching dividend data for VER: 'RangeIndex' object has no attribute 'year'\n"
     ]
    },
    {
     "name": "stderr",
     "output_type": "stream",
     "text": [
      "VG: No timezone found, symbol may be delisted\n"
     ]
    },
    {
     "name": "stdout",
     "output_type": "stream",
     "text": [
      "Error fetching dividend data for VG: 'RangeIndex' object has no attribute 'year'\n"
     ]
    },
    {
     "name": "stderr",
     "output_type": "stream",
     "text": [
      "VIVO: No timezone found, symbol may be delisted\n"
     ]
    },
    {
     "name": "stdout",
     "output_type": "stream",
     "text": [
      "Error fetching dividend data for VIVO: 'RangeIndex' object has no attribute 'year'\n"
     ]
    },
    {
     "name": "stderr",
     "output_type": "stream",
     "text": [
      "VMW: No timezone found, symbol may be delisted\n"
     ]
    },
    {
     "name": "stdout",
     "output_type": "stream",
     "text": [
      "Error fetching dividend data for VMW: 'RangeIndex' object has no attribute 'year'\n"
     ]
    },
    {
     "name": "stderr",
     "output_type": "stream",
     "text": [
      "VNE: No timezone found, symbol may be delisted\n"
     ]
    },
    {
     "name": "stdout",
     "output_type": "stream",
     "text": [
      "Error fetching dividend data for VNE: 'RangeIndex' object has no attribute 'year'\n"
     ]
    },
    {
     "name": "stderr",
     "output_type": "stream",
     "text": [
      "VNTR: No timezone found, symbol may be delisted\n"
     ]
    },
    {
     "name": "stdout",
     "output_type": "stream",
     "text": [
      "Error fetching dividend data for VNTR: 'RangeIndex' object has no attribute 'year'\n"
     ]
    },
    {
     "name": "stderr",
     "output_type": "stream",
     "text": [
      "VRAY: Period 'max' is invalid, must be one of ['1d', '5d']\n"
     ]
    },
    {
     "name": "stdout",
     "output_type": "stream",
     "text": [
      "Error fetching dividend data for VRAY: 'RangeIndex' object has no attribute 'year'\n"
     ]
    },
    {
     "name": "stderr",
     "output_type": "stream",
     "text": [
      "VRS: No timezone found, symbol may be delisted\n"
     ]
    },
    {
     "name": "stdout",
     "output_type": "stream",
     "text": [
      "Error fetching dividend data for VRS: 'RangeIndex' object has no attribute 'year'\n"
     ]
    },
    {
     "name": "stderr",
     "output_type": "stream",
     "text": [
      "VRTU: No timezone found, symbol may be delisted\n"
     ]
    },
    {
     "name": "stdout",
     "output_type": "stream",
     "text": [
      "Error fetching dividend data for VRTU: 'RangeIndex' object has no attribute 'year'\n"
     ]
    },
    {
     "name": "stderr",
     "output_type": "stream",
     "text": [
      "VRTV: No timezone found, symbol may be delisted\n"
     ]
    },
    {
     "name": "stdout",
     "output_type": "stream",
     "text": [
      "Error fetching dividend data for VRTV: 'RangeIndex' object has no attribute 'year'\n"
     ]
    },
    {
     "name": "stderr",
     "output_type": "stream",
     "text": [
      "VSLR: No timezone found, symbol may be delisted\n"
     ]
    },
    {
     "name": "stdout",
     "output_type": "stream",
     "text": [
      "Error fetching dividend data for VSLR: 'RangeIndex' object has no attribute 'year'\n"
     ]
    },
    {
     "name": "stderr",
     "output_type": "stream",
     "text": [
      "VVUS: No timezone found, symbol may be delisted\n"
     ]
    },
    {
     "name": "stdout",
     "output_type": "stream",
     "text": [
      "Error fetching dividend data for VVUS: 'RangeIndex' object has no attribute 'year'\n"
     ]
    },
    {
     "name": "stderr",
     "output_type": "stream",
     "text": [
      "WBT: No timezone found, symbol may be delisted\n"
     ]
    },
    {
     "name": "stdout",
     "output_type": "stream",
     "text": [
      "Error fetching dividend data for WBT: 'RangeIndex' object has no attribute 'year'\n"
     ]
    },
    {
     "name": "stderr",
     "output_type": "stream",
     "text": [
      "WDR: No timezone found, symbol may be delisted\n"
     ]
    },
    {
     "name": "stdout",
     "output_type": "stream",
     "text": [
      "Error fetching dividend data for WDR: 'RangeIndex' object has no attribute 'year'\n"
     ]
    },
    {
     "name": "stderr",
     "output_type": "stream",
     "text": [
      "WETF: No timezone found, symbol may be delisted\n"
     ]
    },
    {
     "name": "stdout",
     "output_type": "stream",
     "text": [
      "Error fetching dividend data for WETF: 'RangeIndex' object has no attribute 'year'\n"
     ]
    },
    {
     "name": "stderr",
     "output_type": "stream",
     "text": [
      "WIFI: No timezone found, symbol may be delisted\n"
     ]
    },
    {
     "name": "stdout",
     "output_type": "stream",
     "text": [
      "Error fetching dividend data for WIFI: 'RangeIndex' object has no attribute 'year'\n"
     ]
    },
    {
     "name": "stderr",
     "output_type": "stream",
     "text": [
      "WLL: No timezone found, symbol may be delisted\n"
     ]
    },
    {
     "name": "stdout",
     "output_type": "stream",
     "text": [
      "Error fetching dividend data for WLL: 'RangeIndex' object has no attribute 'year'\n"
     ]
    },
    {
     "name": "stderr",
     "output_type": "stream",
     "text": [
      "WLTW: No timezone found, symbol may be delisted\n"
     ]
    },
    {
     "name": "stdout",
     "output_type": "stream",
     "text": [
      "Error fetching dividend data for WLTW: 'RangeIndex' object has no attribute 'year'\n"
     ]
    },
    {
     "name": "stderr",
     "output_type": "stream",
     "text": [
      "WMC: No timezone found, symbol may be delisted\n"
     ]
    },
    {
     "name": "stdout",
     "output_type": "stream",
     "text": [
      "Error fetching dividend data for WMC: 'RangeIndex' object has no attribute 'year'\n"
     ]
    },
    {
     "name": "stderr",
     "output_type": "stream",
     "text": [
      "WMGI: No timezone found, symbol may be delisted\n"
     ]
    },
    {
     "name": "stdout",
     "output_type": "stream",
     "text": [
      "Error fetching dividend data for WMGI: 'RangeIndex' object has no attribute 'year'\n"
     ]
    },
    {
     "name": "stderr",
     "output_type": "stream",
     "text": [
      "WPG: No timezone found, symbol may be delisted\n"
     ]
    },
    {
     "name": "stdout",
     "output_type": "stream",
     "text": [
      "Error fetching dividend data for WPG: 'RangeIndex' object has no attribute 'year'\n"
     ]
    },
    {
     "name": "stderr",
     "output_type": "stream",
     "text": [
      "WPX: No timezone found, symbol may be delisted\n"
     ]
    },
    {
     "name": "stdout",
     "output_type": "stream",
     "text": [
      "Error fetching dividend data for WPX: 'RangeIndex' object has no attribute 'year'\n"
     ]
    },
    {
     "name": "stderr",
     "output_type": "stream",
     "text": [
      "WRE: No timezone found, symbol may be delisted\n"
     ]
    },
    {
     "name": "stdout",
     "output_type": "stream",
     "text": [
      "Error fetching dividend data for WRE: 'RangeIndex' object has no attribute 'year'\n"
     ]
    },
    {
     "name": "stderr",
     "output_type": "stream",
     "text": [
      "WRI: No timezone found, symbol may be delisted\n"
     ]
    },
    {
     "name": "stdout",
     "output_type": "stream",
     "text": [
      "Error fetching dividend data for WRI: 'RangeIndex' object has no attribute 'year'\n"
     ]
    },
    {
     "name": "stderr",
     "output_type": "stream",
     "text": [
      "WRTC: No timezone found, symbol may be delisted\n"
     ]
    },
    {
     "name": "stdout",
     "output_type": "stream",
     "text": [
      "Error fetching dividend data for WRTC: 'RangeIndex' object has no attribute 'year'\n"
     ]
    },
    {
     "name": "stderr",
     "output_type": "stream",
     "text": [
      "WSTG: No timezone found, symbol may be delisted\n"
     ]
    },
    {
     "name": "stdout",
     "output_type": "stream",
     "text": [
      "Error fetching dividend data for WSTG: 'RangeIndex' object has no attribute 'year'\n"
     ]
    },
    {
     "name": "stderr",
     "output_type": "stream",
     "text": [
      "WTRH: No timezone found, symbol may be delisted\n"
     ]
    },
    {
     "name": "stdout",
     "output_type": "stream",
     "text": [
      "Error fetching dividend data for WTRH: 'RangeIndex' object has no attribute 'year'\n"
     ]
    },
    {
     "name": "stderr",
     "output_type": "stream",
     "text": [
      "WTT: No timezone found, symbol may be delisted\n"
     ]
    },
    {
     "name": "stdout",
     "output_type": "stream",
     "text": [
      "Error fetching dividend data for WTT: 'RangeIndex' object has no attribute 'year'\n"
     ]
    },
    {
     "name": "stderr",
     "output_type": "stream",
     "text": [
      "WWE: No timezone found, symbol may be delisted\n"
     ]
    },
    {
     "name": "stdout",
     "output_type": "stream",
     "text": [
      "Error fetching dividend data for WWE: 'RangeIndex' object has no attribute 'year'\n"
     ]
    },
    {
     "name": "stderr",
     "output_type": "stream",
     "text": [
      "WYND: No timezone found, symbol may be delisted\n"
     ]
    },
    {
     "name": "stdout",
     "output_type": "stream",
     "text": [
      "Error fetching dividend data for WYND: 'RangeIndex' object has no attribute 'year'\n"
     ]
    },
    {
     "name": "stderr",
     "output_type": "stream",
     "text": [
      "XAN: No timezone found, symbol may be delisted\n"
     ]
    },
    {
     "name": "stdout",
     "output_type": "stream",
     "text": [
      "Error fetching dividend data for XAN: 'RangeIndex' object has no attribute 'year'\n"
     ]
    },
    {
     "name": "stderr",
     "output_type": "stream",
     "text": [
      "XEC: No timezone found, symbol may be delisted\n"
     ]
    },
    {
     "name": "stdout",
     "output_type": "stream",
     "text": [
      "Error fetching dividend data for XEC: 'RangeIndex' object has no attribute 'year'\n"
     ]
    },
    {
     "name": "stderr",
     "output_type": "stream",
     "text": [
      "XENT: No timezone found, symbol may be delisted\n"
     ]
    },
    {
     "name": "stdout",
     "output_type": "stream",
     "text": [
      "Error fetching dividend data for XENT: 'RangeIndex' object has no attribute 'year'\n"
     ]
    },
    {
     "name": "stderr",
     "output_type": "stream",
     "text": [
      "XLNX: No timezone found, symbol may be delisted\n"
     ]
    },
    {
     "name": "stdout",
     "output_type": "stream",
     "text": [
      "Error fetching dividend data for XLNX: 'RangeIndex' object has no attribute 'year'\n"
     ]
    },
    {
     "name": "stderr",
     "output_type": "stream",
     "text": [
      "XLRN: No timezone found, symbol may be delisted\n"
     ]
    },
    {
     "name": "stdout",
     "output_type": "stream",
     "text": [
      "Error fetching dividend data for XLRN: 'RangeIndex' object has no attribute 'year'\n"
     ]
    },
    {
     "name": "stderr",
     "output_type": "stream",
     "text": [
      "XOG: No timezone found, symbol may be delisted\n"
     ]
    },
    {
     "name": "stdout",
     "output_type": "stream",
     "text": [
      "Error fetching dividend data for XOG: 'RangeIndex' object has no attribute 'year'\n"
     ]
    },
    {
     "name": "stderr",
     "output_type": "stream",
     "text": [
      "XSPA: No timezone found, symbol may be delisted\n"
     ]
    },
    {
     "name": "stdout",
     "output_type": "stream",
     "text": [
      "Error fetching dividend data for XSPA: 'RangeIndex' object has no attribute 'year'\n"
     ]
    },
    {
     "name": "stderr",
     "output_type": "stream",
     "text": [
      "Y: No timezone found, symbol may be delisted\n"
     ]
    },
    {
     "name": "stdout",
     "output_type": "stream",
     "text": [
      "Error fetching dividend data for Y: 'RangeIndex' object has no attribute 'year'\n"
     ]
    },
    {
     "name": "stderr",
     "output_type": "stream",
     "text": [
      "YRCW: No timezone found, symbol may be delisted\n"
     ]
    },
    {
     "name": "stdout",
     "output_type": "stream",
     "text": [
      "Error fetching dividend data for YRCW: 'RangeIndex' object has no attribute 'year'\n"
     ]
    },
    {
     "name": "stderr",
     "output_type": "stream",
     "text": [
      "ZAGG: No timezone found, symbol may be delisted\n"
     ]
    },
    {
     "name": "stdout",
     "output_type": "stream",
     "text": [
      "Error fetching dividend data for ZAGG: 'RangeIndex' object has no attribute 'year'\n"
     ]
    },
    {
     "name": "stderr",
     "output_type": "stream",
     "text": [
      "ZEN: No timezone found, symbol may be delisted\n"
     ]
    },
    {
     "name": "stdout",
     "output_type": "stream",
     "text": [
      "Error fetching dividend data for ZEN: 'RangeIndex' object has no attribute 'year'\n"
     ]
    },
    {
     "name": "stderr",
     "output_type": "stream",
     "text": [
      "ZGNX: No timezone found, symbol may be delisted\n"
     ]
    },
    {
     "name": "stdout",
     "output_type": "stream",
     "text": [
      "Error fetching dividend data for ZGNX: 'RangeIndex' object has no attribute 'year'\n"
     ]
    },
    {
     "name": "stderr",
     "output_type": "stream",
     "text": [
      "ZIOP: No timezone found, symbol may be delisted\n"
     ]
    },
    {
     "name": "stdout",
     "output_type": "stream",
     "text": [
      "Error fetching dividend data for ZIOP: 'RangeIndex' object has no attribute 'year'\n"
     ]
    },
    {
     "name": "stderr",
     "output_type": "stream",
     "text": [
      "ZIXI: No timezone found, symbol may be delisted\n"
     ]
    },
    {
     "name": "stdout",
     "output_type": "stream",
     "text": [
      "Error fetching dividend data for ZIXI: 'RangeIndex' object has no attribute 'year'\n"
     ]
    },
    {
     "name": "stderr",
     "output_type": "stream",
     "text": [
      "ZN: No timezone found, symbol may be delisted\n"
     ]
    },
    {
     "name": "stdout",
     "output_type": "stream",
     "text": [
      "Error fetching dividend data for ZN: 'RangeIndex' object has no attribute 'year'\n"
     ]
    },
    {
     "name": "stderr",
     "output_type": "stream",
     "text": [
      "ZNGA: No timezone found, symbol may be delisted\n"
     ]
    },
    {
     "name": "stdout",
     "output_type": "stream",
     "text": [
      "Error fetching dividend data for ZNGA: 'RangeIndex' object has no attribute 'year'\n"
     ]
    },
    {
     "name": "stderr",
     "output_type": "stream",
     "text": [
      "ZSAN: No timezone found, symbol may be delisted\n"
     ]
    },
    {
     "name": "stdout",
     "output_type": "stream",
     "text": [
      "Error fetching dividend data for ZSAN: 'RangeIndex' object has no attribute 'year'\n"
     ]
    },
    {
     "name": "stderr",
     "output_type": "stream",
     "text": [
      "ZYNE: No timezone found, symbol may be delisted\n"
     ]
    },
    {
     "name": "stdout",
     "output_type": "stream",
     "text": [
      "Error fetching dividend data for ZYNE: 'RangeIndex' object has no attribute 'year'\n"
     ]
    },
    {
     "name": "stderr",
     "output_type": "stream",
     "text": [
      "UROV: No timezone found, symbol may be delisted\n",
      "UBA: No timezone found, symbol may be delisted\n"
     ]
    },
    {
     "name": "stdout",
     "output_type": "stream",
     "text": [
      "Error fetching dividend data for UROV: 'RangeIndex' object has no attribute 'year'\n",
      "Error fetching dividend data for UBA: 'RangeIndex' object has no attribute 'year'\n"
     ]
    },
    {
     "name": "stderr",
     "output_type": "stream",
     "text": [
      "ECOL: No timezone found, symbol may be delisted\n"
     ]
    },
    {
     "name": "stdout",
     "output_type": "stream",
     "text": [
      "Error fetching dividend data for ECOL: 'RangeIndex' object has no attribute 'year'\n"
     ]
    },
    {
     "name": "stderr",
     "output_type": "stream",
     "text": [
      "USWS: No timezone found, symbol may be delisted\n",
      "USX: No timezone found, symbol may be delisted\n",
      "USAT: No timezone found, symbol may be delisted\n",
      "USAK: No timezone found, symbol may be delisted\n"
     ]
    },
    {
     "name": "stdout",
     "output_type": "stream",
     "text": [
      "Error fetching dividend data for USWS: 'RangeIndex' object has no attribute 'year'\n",
      "Error fetching dividend data for USX: 'RangeIndex' object has no attribute 'year'\n",
      "Error fetching dividend data for USAT: 'RangeIndex' object has no attribute 'year'\n",
      "Error fetching dividend data for USAK: 'RangeIndex' object has no attribute 'year'\n"
     ]
    },
    {
     "name": "stderr",
     "output_type": "stream",
     "text": [
      "VAR: No timezone found, symbol may be delisted\n"
     ]
    },
    {
     "name": "stdout",
     "output_type": "stream",
     "text": [
      "Error fetching dividend data for VAR: 'RangeIndex' object has no attribute 'year'\n"
     ]
    },
    {
     "name": "stderr",
     "output_type": "stream",
     "text": [
      "VEC: No timezone found, symbol may be delisted\n"
     ]
    },
    {
     "name": "stdout",
     "output_type": "stream",
     "text": [
      "Error fetching dividend data for VEC: 'RangeIndex' object has no attribute 'year'\n"
     ]
    },
    {
     "name": "stderr",
     "output_type": "stream",
     "text": [
      "VNTR: No timezone found, symbol may be delisted\n"
     ]
    },
    {
     "name": "stdout",
     "output_type": "stream",
     "text": [
      "Error fetching dividend data for VNTR: 'RangeIndex' object has no attribute 'year'\n"
     ]
    },
    {
     "name": "stderr",
     "output_type": "stream",
     "text": [
      "VNE: No timezone found, symbol may be delisted\n"
     ]
    },
    {
     "name": "stdout",
     "output_type": "stream",
     "text": [
      "Error fetching dividend data for VNE: 'RangeIndex' object has no attribute 'year'\n"
     ]
    },
    {
     "name": "stderr",
     "output_type": "stream",
     "text": [
      "VER: No timezone found, symbol may be delisted\n"
     ]
    },
    {
     "name": "stdout",
     "output_type": "stream",
     "text": [
      "Error fetching dividend data for VER: 'RangeIndex' object has no attribute 'year'\n"
     ]
    },
    {
     "name": "stderr",
     "output_type": "stream",
     "text": [
      "VRTV: No timezone found, symbol may be delisted\n"
     ]
    },
    {
     "name": "stdout",
     "output_type": "stream",
     "text": [
      "Error fetching dividend data for VRTV: 'RangeIndex' object has no attribute 'year'\n"
     ]
    },
    {
     "name": "stderr",
     "output_type": "stream",
     "text": [
      "VRML: No timezone found, symbol may be delisted\n"
     ]
    },
    {
     "name": "stdout",
     "output_type": "stream",
     "text": [
      "Error fetching dividend data for VRML: 'RangeIndex' object has no attribute 'year'\n"
     ]
    },
    {
     "name": "stderr",
     "output_type": "stream",
     "text": [
      "VRS: No timezone found, symbol may be delisted\n"
     ]
    },
    {
     "name": "stdout",
     "output_type": "stream",
     "text": [
      "Error fetching dividend data for VRS: 'RangeIndex' object has no attribute 'year'\n"
     ]
    },
    {
     "name": "stderr",
     "output_type": "stream",
     "text": [
      "CBS: No timezone found, symbol may be delisted\n"
     ]
    },
    {
     "name": "stdout",
     "output_type": "stream",
     "text": [
      "Error fetching dividend data for CBS: 'RangeIndex' object has no attribute 'year'\n"
     ]
    },
    {
     "name": "stderr",
     "output_type": "stream",
     "text": [
      "VICL: No timezone found, symbol may be delisted\n"
     ]
    },
    {
     "name": "stdout",
     "output_type": "stream",
     "text": [
      "Error fetching dividend data for VICL: 'RangeIndex' object has no attribute 'year'\n"
     ]
    },
    {
     "name": "stderr",
     "output_type": "stream",
     "text": [
      "VRAY: Period 'max' is invalid, must be one of ['1d', '5d']\n"
     ]
    },
    {
     "name": "stdout",
     "output_type": "stream",
     "text": [
      "Error fetching dividend data for VRAY: 'RangeIndex' object has no attribute 'year'\n"
     ]
    },
    {
     "name": "stderr",
     "output_type": "stream",
     "text": [
      "VRTU: No timezone found, symbol may be delisted\n"
     ]
    },
    {
     "name": "stdout",
     "output_type": "stream",
     "text": [
      "Error fetching dividend data for VRTU: 'RangeIndex' object has no attribute 'year'\n"
     ]
    },
    {
     "name": "stderr",
     "output_type": "stream",
     "text": [
      "VSI: No timezone found, symbol may be delisted\n",
      "VSLR: No timezone found, symbol may be delisted\n",
      "VVUS: No timezone found, symbol may be delisted\n",
      "VMW: No timezone found, symbol may be delisted\n",
      "VCRA: No timezone found, symbol may be delisted\n"
     ]
    },
    {
     "name": "stdout",
     "output_type": "stream",
     "text": [
      "Error fetching dividend data for VSI: 'RangeIndex' object has no attribute 'year'\n",
      "Error fetching dividend data for VSLR: 'RangeIndex' object has no attribute 'year'\n",
      "Error fetching dividend data for VVUS: 'RangeIndex' object has no attribute 'year'\n",
      "Error fetching dividend data for VMW: 'RangeIndex' object has no attribute 'year'\n",
      "Error fetching dividend data for VCRA: 'RangeIndex' object has no attribute 'year'\n"
     ]
    },
    {
     "name": "stderr",
     "output_type": "stream",
     "text": [
      "VISI: No timezone found, symbol may be delisted\n",
      "VG: No timezone found, symbol may be delisted\n"
     ]
    },
    {
     "name": "stdout",
     "output_type": "stream",
     "text": [
      "Error fetching dividend data for VISI: 'RangeIndex' object has no attribute 'year'\n",
      "Error fetching dividend data for VG: 'RangeIndex' object has no attribute 'year'\n"
     ]
    },
    {
     "name": "stderr",
     "output_type": "stream",
     "text": [
      "GRA: No timezone found, symbol may be delisted\n"
     ]
    },
    {
     "name": "stdout",
     "output_type": "stream",
     "text": [
      "Error fetching dividend data for GRA: 'RangeIndex' object has no attribute 'year'\n"
     ]
    },
    {
     "name": "stderr",
     "output_type": "stream",
     "text": [
      "WBC: No timezone found, symbol may be delisted\n",
      "WDR: No timezone found, symbol may be delisted\n",
      "WTRH: No timezone found, symbol may be delisted\n"
     ]
    },
    {
     "name": "stdout",
     "output_type": "stream",
     "text": [
      "Error fetching dividend data for WBC: 'RangeIndex' object has no attribute 'year'\n",
      "Error fetching dividend data for WDR: 'RangeIndex' object has no attribute 'year'\n",
      "Error fetching dividend data for WTRH: 'RangeIndex' object has no attribute 'year'\n"
     ]
    },
    {
     "name": "stderr",
     "output_type": "stream",
     "text": [
      "WPG: No timezone found, symbol may be delisted\n",
      "WRE: No timezone found, symbol may be delisted\n"
     ]
    },
    {
     "name": "stdout",
     "output_type": "stream",
     "text": [
      "Error fetching dividend data for WPG: 'RangeIndex' object has no attribute 'year'\n",
      "Error fetching dividend data for WRE: 'RangeIndex' object has no attribute 'year'\n"
     ]
    },
    {
     "name": "stderr",
     "output_type": "stream",
     "text": [
      "WSTG: No timezone found, symbol may be delisted\n"
     ]
    },
    {
     "name": "stdout",
     "output_type": "stream",
     "text": [
      "Error fetching dividend data for WSTG: 'RangeIndex' object has no attribute 'year'\n"
     ]
    },
    {
     "name": "stderr",
     "output_type": "stream",
     "text": [
      "WRI: No timezone found, symbol may be delisted\n"
     ]
    },
    {
     "name": "stdout",
     "output_type": "stream",
     "text": [
      "Error fetching dividend data for WRI: 'RangeIndex' object has no attribute 'year'\n"
     ]
    },
    {
     "name": "stderr",
     "output_type": "stream",
     "text": [
      "WBT: No timezone found, symbol may be delisted\n"
     ]
    },
    {
     "name": "stdout",
     "output_type": "stream",
     "text": [
      "Error fetching dividend data for WBT: 'RangeIndex' object has no attribute 'year'\n"
     ]
    },
    {
     "name": "stderr",
     "output_type": "stream",
     "text": [
      "WCG: No timezone found, symbol may be delisted\n"
     ]
    },
    {
     "name": "stdout",
     "output_type": "stream",
     "text": [
      "Error fetching dividend data for WCG: 'RangeIndex' object has no attribute 'year'\n"
     ]
    },
    {
     "name": "stderr",
     "output_type": "stream",
     "text": [
      "WEBK: No timezone found, symbol may be delisted\n"
     ]
    },
    {
     "name": "stdout",
     "output_type": "stream",
     "text": [
      "Error fetching dividend data for WEBK: 'RangeIndex' object has no attribute 'year'\n"
     ]
    },
    {
     "name": "stderr",
     "output_type": "stream",
     "text": [
      "WAIR: No timezone found, symbol may be delisted\n"
     ]
    },
    {
     "name": "stdout",
     "output_type": "stream",
     "text": [
      "Error fetching dividend data for WAIR: 'RangeIndex' object has no attribute 'year'\n"
     ]
    },
    {
     "name": "stderr",
     "output_type": "stream",
     "text": [
      "WMC: No timezone found, symbol may be delisted\n"
     ]
    },
    {
     "name": "stdout",
     "output_type": "stream",
     "text": [
      "Error fetching dividend data for WMC: 'RangeIndex' object has no attribute 'year'\n"
     ]
    },
    {
     "name": "stderr",
     "output_type": "stream",
     "text": [
      "WLL: No timezone found, symbol may be delisted\n"
     ]
    },
    {
     "name": "stdout",
     "output_type": "stream",
     "text": [
      "Error fetching dividend data for WLL: 'RangeIndex' object has no attribute 'year'\n"
     ]
    },
    {
     "name": "stderr",
     "output_type": "stream",
     "text": [
      "WLH: No timezone found, symbol may be delisted\n"
     ]
    },
    {
     "name": "stdout",
     "output_type": "stream",
     "text": [
      "Error fetching dividend data for WLH: 'RangeIndex' object has no attribute 'year'\n"
     ]
    },
    {
     "name": "stderr",
     "output_type": "stream",
     "text": [
      "WLTW: No timezone found, symbol may be delisted\n"
     ]
    },
    {
     "name": "stdout",
     "output_type": "stream",
     "text": [
      "Error fetching dividend data for WLTW: 'RangeIndex' object has no attribute 'year'\n"
     ]
    },
    {
     "name": "stderr",
     "output_type": "stream",
     "text": [
      "WTT: No timezone found, symbol may be delisted\n"
     ]
    },
    {
     "name": "stdout",
     "output_type": "stream",
     "text": [
      "Error fetching dividend data for WTT: 'RangeIndex' object has no attribute 'year'\n"
     ]
    },
    {
     "name": "stderr",
     "output_type": "stream",
     "text": [
      "WETF: No timezone found, symbol may be delisted\n"
     ]
    },
    {
     "name": "stdout",
     "output_type": "stream",
     "text": [
      "Error fetching dividend data for WETF: 'RangeIndex' object has no attribute 'year'\n"
     ]
    },
    {
     "name": "stderr",
     "output_type": "stream",
     "text": [
      "INT: No timezone found, symbol may be delisted\n",
      "WWE: No timezone found, symbol may be delisted\n"
     ]
    },
    {
     "name": "stdout",
     "output_type": "stream",
     "text": [
      "Error fetching dividend data for INT: 'RangeIndex' object has no attribute 'year'\n",
      "Error fetching dividend data for WWE: 'RangeIndex' object has no attribute 'year'\n"
     ]
    },
    {
     "name": "stderr",
     "output_type": "stream",
     "text": [
      "WPX: No timezone found, symbol may be delisted\n"
     ]
    },
    {
     "name": "stdout",
     "output_type": "stream",
     "text": [
      "Error fetching dividend data for WPX: 'RangeIndex' object has no attribute 'year'\n"
     ]
    },
    {
     "name": "stderr",
     "output_type": "stream",
     "text": [
      "WRTC: No timezone found, symbol may be delisted\n"
     ]
    },
    {
     "name": "stdout",
     "output_type": "stream",
     "text": [
      "Error fetching dividend data for WRTC: 'RangeIndex' object has no attribute 'year'\n"
     ]
    },
    {
     "name": "stderr",
     "output_type": "stream",
     "text": [
      "WMGI: No timezone found, symbol may be delisted\n"
     ]
    },
    {
     "name": "stdout",
     "output_type": "stream",
     "text": [
      "Error fetching dividend data for WMGI: 'RangeIndex' object has no attribute 'year'\n"
     ]
    },
    {
     "name": "stderr",
     "output_type": "stream",
     "text": [
      "WYND: No timezone found, symbol may be delisted\n"
     ]
    },
    {
     "name": "stdout",
     "output_type": "stream",
     "text": [
      "Error fetching dividend data for WYND: 'RangeIndex' object has no attribute 'year'\n"
     ]
    },
    {
     "name": "stderr",
     "output_type": "stream",
     "text": [
      "XLNX: No timezone found, symbol may be delisted\n"
     ]
    },
    {
     "name": "stdout",
     "output_type": "stream",
     "text": [
      "Error fetching dividend data for XLNX: 'RangeIndex' object has no attribute 'year'\n"
     ]
    },
    {
     "name": "stderr",
     "output_type": "stream",
     "text": [
      "XSPA: No timezone found, symbol may be delisted\n"
     ]
    },
    {
     "name": "stdout",
     "output_type": "stream",
     "text": [
      "Error fetching dividend data for XSPA: 'RangeIndex' object has no attribute 'year'\n"
     ]
    },
    {
     "name": "stderr",
     "output_type": "stream",
     "text": [
      "YRCW: No timezone found, symbol may be delisted\n"
     ]
    },
    {
     "name": "stdout",
     "output_type": "stream",
     "text": [
      "Error fetching dividend data for YRCW: 'RangeIndex' object has no attribute 'year'\n"
     ]
    },
    {
     "name": "stderr",
     "output_type": "stream",
     "text": [
      "YUMA: No timezone found, symbol may be delisted\n"
     ]
    },
    {
     "name": "stdout",
     "output_type": "stream",
     "text": [
      "Error fetching dividend data for YUMA: 'RangeIndex' object has no attribute 'year'\n"
     ]
    },
    {
     "name": "stderr",
     "output_type": "stream",
     "text": [
      "CTIB: No timezone found, symbol may be delisted\n"
     ]
    },
    {
     "name": "stdout",
     "output_type": "stream",
     "text": [
      "Error fetching dividend data for CTIB: 'RangeIndex' object has no attribute 'year'\n"
     ]
    },
    {
     "name": "stderr",
     "output_type": "stream",
     "text": [
      "ZFGN: No timezone found, symbol may be delisted\n",
      "ZAGG: No timezone found, symbol may be delisted\n"
     ]
    },
    {
     "name": "stdout",
     "output_type": "stream",
     "text": [
      "Error fetching dividend data for ZFGN: 'RangeIndex' object has no attribute 'year'\n",
      "Error fetching dividend data for ZAGG: 'RangeIndex' object has no attribute 'year'\n"
     ]
    },
    {
     "name": "stderr",
     "output_type": "stream",
     "text": [
      "ZAYO: No timezone found, symbol may be delisted\n"
     ]
    },
    {
     "name": "stdout",
     "output_type": "stream",
     "text": [
      "Error fetching dividend data for ZAYO: 'RangeIndex' object has no attribute 'year'\n"
     ]
    },
    {
     "name": "stderr",
     "output_type": "stream",
     "text": [
      "ZEN: No timezone found, symbol may be delisted\n"
     ]
    },
    {
     "name": "stdout",
     "output_type": "stream",
     "text": [
      "Error fetching dividend data for ZEN: 'RangeIndex' object has no attribute 'year'\n"
     ]
    },
    {
     "name": "stderr",
     "output_type": "stream",
     "text": [
      "ZN: No timezone found, symbol may be delisted\n"
     ]
    },
    {
     "name": "stdout",
     "output_type": "stream",
     "text": [
      "Error fetching dividend data for ZN: 'RangeIndex' object has no attribute 'year'\n"
     ]
    },
    {
     "name": "stderr",
     "output_type": "stream",
     "text": [
      "ZIOP: No timezone found, symbol may be delisted\n",
      "ZIXI: No timezone found, symbol may be delisted\n"
     ]
    },
    {
     "name": "stdout",
     "output_type": "stream",
     "text": [
      "Error fetching dividend data for ZIOP: 'RangeIndex' object has no attribute 'year'\n",
      "Error fetching dividend data for ZIXI: 'RangeIndex' object has no attribute 'year'\n"
     ]
    },
    {
     "name": "stderr",
     "output_type": "stream",
     "text": [
      "ZGNX: No timezone found, symbol may be delisted\n",
      "ZSAN: No timezone found, symbol may be delisted\n"
     ]
    },
    {
     "name": "stdout",
     "output_type": "stream",
     "text": [
      "Error fetching dividend data for ZGNX: 'RangeIndex' object has no attribute 'year'\n",
      "Error fetching dividend data for ZSAN: 'RangeIndex' object has no attribute 'year'\n"
     ]
    },
    {
     "name": "stderr",
     "output_type": "stream",
     "text": [
      "ZVO: No timezone found, symbol may be delisted\n"
     ]
    },
    {
     "name": "stdout",
     "output_type": "stream",
     "text": [
      "Error fetching dividend data for ZVO: 'RangeIndex' object has no attribute 'year'\n"
     ]
    },
    {
     "name": "stderr",
     "output_type": "stream",
     "text": [
      "ZYNE: No timezone found, symbol may be delisted\n"
     ]
    },
    {
     "name": "stdout",
     "output_type": "stream",
     "text": [
      "Error fetching dividend data for ZYNE: 'RangeIndex' object has no attribute 'year'\n"
     ]
    },
    {
     "name": "stderr",
     "output_type": "stream",
     "text": [
      "ZNGA: No timezone found, symbol may be delisted\n"
     ]
    },
    {
     "name": "stdout",
     "output_type": "stream",
     "text": [
      "Error fetching dividend data for ZNGA: 'RangeIndex' object has no attribute 'year'\n",
      "Dividend Data saved to 'dividend_data_grouped.csv'.\n"
     ]
    }
   ],
   "source": [
    "# List of Ticker and last 3 Year DIV\n",
    "import yfinance as yf\n",
    "import pandas as pd\n",
    "\n",
    "def get_dividends(tickers):\n",
    "    dividend_data = {}\n",
    "    for ticker in tickers:\n",
    "        try:\n",
    "            # Fetch dividend data for the ticker\n",
    "            div_data = yf.Ticker(ticker).dividends\n",
    "            # Filter dividends for the years 2020-2023\n",
    "            div_data_filtered = div_data.loc['2020':'2023']\n",
    "            # Calculate the total amount of dividends paid for each year\n",
    "            total_dividends = div_data_filtered.groupby(div_data_filtered.index.year).sum()\n",
    "            dividend_data[ticker] = total_dividends\n",
    "        except Exception as e:\n",
    "            # If there's an error fetching data, skip the ticker and print the error\n",
    "            print(f\"Error fetching dividend data for {ticker}: {e}\")\n",
    "    return dividend_data\n",
    "\n",
    "# Load tickers from the CSV file\n",
    "wilshire_df = pd.read_csv('Wilkshire_5000.csv')\n",
    "tickers = wilshire_df['Ticker'].tolist()\n",
    "\n",
    "# Get dividend data for all tickers\n",
    "dividend_data = get_dividends(tickers)\n",
    "\n",
    "# Convert the dictionary to a DataFrame\n",
    "df = pd.DataFrame(dividend_data)\n",
    "\n",
    "# Transpose the DataFrame to have years as columns\n",
    "df = df.T\n",
    "\n",
    "# Rename columns with year_div format\n",
    "df.columns = [f\"{year}_Div\" for year in df.columns]\n",
    "\n",
    "# Save the DataFrame to a CSV file\n",
    "df.to_csv('dividend_data_grouped.csv')\n",
    "\n",
    "print(\"Dividend Data saved to 'dividend_data_grouped.csv'.\")\n"
   ]
  },
  {
   "cell_type": "code",
   "execution_count": 3,
   "id": "9c79225e-ed4c-4982-b7b0-fba647b1cb6d",
   "metadata": {
    "tags": []
   },
   "outputs": [
    {
     "name": "stdout",
     "output_type": "stream",
     "text": [
      "Merged Data saved to 'merged_data.csv'.\n"
     ]
    }
   ],
   "source": [
    "# List of Ticker and merged NI and DIV last 4 years and lists dividend growth \n",
    "import pandas as pd\n",
    "\n",
    "# Load net income data\n",
    "net_income_df = pd.read_csv('net_income_data_grouped.csv', index_col=0)\n",
    "\n",
    "# Load dividend data\n",
    "dividend_df = pd.read_csv('dividend_data_grouped.csv', index_col=0)\n",
    "\n",
    "# Merge dataframes on index (tickers)\n",
    "merged_df = pd.merge(net_income_df, dividend_df, left_index=True, right_index=True)\n",
    "\n",
    "# Calculate dividend growth rates for consecutive years\n",
    "for year in range(2020, 2023):\n",
    "    current_col = f\"{year}_Div\"\n",
    "    next_col = f\"{year+1}_Div\"\n",
    "    growth_col = f\"{year}_{year+1}_Div_Grow\"\n",
    "    merged_df[growth_col] = (merged_df[next_col] - merged_df[current_col]) / merged_df[current_col]\n",
    "\n",
    "# Save the merged dataframe to a CSV file\n",
    "merged_df.to_csv('merged_data.csv')\n",
    "\n",
    "print(\"Merged Data saved to 'merged_data.csv'.\")\n"
   ]
  },
  {
   "cell_type": "code",
   "execution_count": 7,
   "id": "c907d6da-97bf-47a6-8e4c-ff8953e8011d",
   "metadata": {},
   "outputs": [],
   "source": [
    "import pandas as pd\n",
    "\n",
    "# Load the CSV file\n",
    "df = pd.read_csv('merged_data.csv')\n",
    "\n",
    "# Rename the first column to 'Ticker'\n",
    "df = df.rename(columns={'Unnamed: 0': 'Ticker'})\n",
    "\n",
    "# Save the modified dataframe to a new CSV file\n",
    "df.to_csv('Slow_Grow_Master.csv', index=False)"
   ]
  },
  {
   "cell_type": "markdown",
   "id": "c26ba16c-2497-4b6c-80a2-4b6fabb218ce",
   "metadata": {},
   "source": [
    "# Stalwart"
   ]
  },
  {
   "cell_type": "code",
   "execution_count": 5,
   "id": "f07e4173-ec23-4b7d-bf70-8de39416f86b",
   "metadata": {},
   "outputs": [
    {
     "name": "stdout",
     "output_type": "stream",
     "text": [
      "Modified data saved to modified_net_income_data.csv\n"
     ]
    }
   ],
   "source": [
    "# adds the net income growth columns \n",
    "import pandas as pd\n",
    "\n",
    "# Read data from CSV file\n",
    "net_income_df = pd.read_csv(\"net_income_data_grouped.csv\")\n",
    "\n",
    "# Drop the '2024_NI' column\n",
    "net_income_df.drop(columns=['2024_NI'], inplace=True)\n",
    "\n",
    "# Calculate net income growth as a percentage for each specified year\n",
    "net_income_df['2020_2021_NI_Grow'] = ((net_income_df['2021_NI'] - net_income_df['2020_NI']) / net_income_df['2020_NI']) * 100\n",
    "net_income_df['2021_2022_NI_Grow'] = ((net_income_df['2022_NI'] - net_income_df['2021_NI']) / net_income_df['2021_NI']) * 100\n",
    "net_income_df['2022_2023_NI_Grow'] = ((net_income_df['2023_NI'] - net_income_df['2022_NI']) / net_income_df['2022_NI']) * 100\n",
    "\n",
    "# Round the percentage growth to 4 decimal places\n",
    "net_income_df = net_income_df.round({'2020_2021_NI_Grow': 4, '2021_2022_NI_Grow': 4, '2022_2023_NI_Grow': 4})\n",
    "\n",
    "# Save the modified DataFrame to a new CSV file\n",
    "net_income_df.to_csv(\"modified_net_income_data.csv\", index=False)\n",
    "\n",
    "print(\"Modified data saved to modified_net_income_data.csv\")\n"
   ]
  },
  {
   "cell_type": "code",
   "execution_count": 8,
   "id": "5365084a-ea57-45be-b77c-9b5c771bca0c",
   "metadata": {
    "tags": []
   },
   "outputs": [],
   "source": [
    "import pandas as pd\n",
    "\n",
    "# Load the CSV file\n",
    "df = pd.read_csv('modified_net_income_data.csv')\n",
    "\n",
    "# Rename the first column to 'Ticker'\n",
    "df = df.rename(columns={'Unnamed: 0': 'Ticker'})\n",
    "\n",
    "# Save the modified dataframe to a new CSV file\n",
    "df.to_csv('modified_net_income_data.csv', index=False)"
   ]
  },
  {
   "cell_type": "markdown",
   "id": "344e8370-d1a0-40d3-9ea2-0f81c409a647",
   "metadata": {},
   "source": [
    "Takes a while to load (8 minutes)"
   ]
  },
  {
   "cell_type": "code",
   "execution_count": 9,
   "id": "9074beee-bfaa-4245-a997-481e35827239",
   "metadata": {},
   "outputs": [
    {
     "name": "stdout",
     "output_type": "stream",
     "text": [
      "CSV file 'ticker_2023_PE.csv' has been saved successfully.\n"
     ]
    }
   ],
   "source": [
    "# Creates a csv file for PE ratio\n",
    "import pandas as pd\n",
    "import yfinance as yf\n",
    "\n",
    "# Read the dataset\n",
    "data = pd.read_csv(\"modified_net_income_data.csv\")\n",
    "\n",
    "# Function to get forward PE ratio from Yahoo Finance\n",
    "def get_forward_pe(ticker):\n",
    "    try:\n",
    "        # Fetch ticker data from Yahoo Finance\n",
    "        ticker_data = yf.Ticker(ticker)\n",
    "        # Get forward PE ratio\n",
    "        forward_pe = ticker_data.info['forwardPE']\n",
    "        return forward_pe\n",
    "    except:\n",
    "        return None\n",
    "\n",
    "# Apply the function to create the new column\n",
    "data['2023_PE'] = data['Ticker'].apply(get_forward_pe)\n",
    "\n",
    "# Create a new DataFrame with only 'Ticker' and '2023_PE' columns\n",
    "result_df = data[['Ticker', '2023_PE']]\n",
    "\n",
    "# Save the new DataFrame to a CSV file\n",
    "result_df.to_csv(\"ticker_2023_PE.csv\", index=False)\n",
    "\n",
    "# Print a message to confirm the save\n",
    "print(\"CSV file 'ticker_2023_PE.csv' has been saved successfully.\")"
   ]
  },
  {
   "cell_type": "markdown",
   "id": "c8518962-f782-4018-b2de-9adb375339cf",
   "metadata": {},
   "source": [
    "Takes a while to load (8 minutes)"
   ]
  },
  {
   "cell_type": "code",
   "execution_count": 10,
   "id": "cf69d97d-6d8f-40e3-ad8b-8ed94d4608f2",
   "metadata": {},
   "outputs": [
    {
     "name": "stdout",
     "output_type": "stream",
     "text": [
      "CSV file 'ticker_Gsector.csv' has been saved successfully.\n"
     ]
    }
   ],
   "source": [
    "# Creates a csv file for GSector \n",
    "import pandas as pd\n",
    "import yfinance as yf\n",
    "\n",
    "# Read the dataset\n",
    "data = pd.read_csv(\"modified_net_income_data.csv\")\n",
    "\n",
    "# Function to get GICS sector from Yahoo Finance\n",
    "def get_gsector(ticker):\n",
    "    try:\n",
    "        # Fetch ticker data from Yahoo Finance\n",
    "        ticker_data = yf.Ticker(ticker)\n",
    "        # Get GICS sector\n",
    "        gsector = ticker_data.info['sector']\n",
    "        return gsector\n",
    "    except:\n",
    "        return None\n",
    "\n",
    "# Apply the function to create the new column\n",
    "data['Gsector'] = data['Ticker'].apply(get_gsector)\n",
    "\n",
    "# Create a new DataFrame with only 'Ticker' and 'Gsector' columns\n",
    "result_df = data[['Ticker', 'Gsector']]\n",
    "\n",
    "# Save the new DataFrame to a CSV file\n",
    "result_df.to_csv(\"ticker_Gsector.csv\", index=False)\n",
    "\n",
    "# Print a message to confirm the save\n",
    "print(\"CSV file 'ticker_Gsector.csv' has been saved successfully.\")\n"
   ]
  },
  {
   "cell_type": "markdown",
   "id": "4d285c71-6917-4db8-bd88-190a7426f5c9",
   "metadata": {},
   "source": [
    "Takes a while to load (8 minutes)"
   ]
  },
  {
   "cell_type": "code",
   "execution_count": 11,
   "id": "7a5be66c-fb2b-419e-aa02-ed7df529f2a7",
   "metadata": {},
   "outputs": [
    {
     "name": "stdout",
     "output_type": "stream",
     "text": [
      "CSV file 'ticker_2023_MarketCap.csv' has been saved successfully.\n"
     ]
    }
   ],
   "source": [
    "# Creates a csv file for Market Cap\n",
    "import pandas as pd\n",
    "import yfinance as yf\n",
    "\n",
    "# Read the dataset\n",
    "data = pd.read_csv(\"modified_net_income_data.csv\")\n",
    "\n",
    "# Function to get market capitalization from Yahoo Finance\n",
    "def get_market_cap(ticker):\n",
    "    try:\n",
    "        # Fetch ticker data from Yahoo Finance\n",
    "        ticker_data = yf.Ticker(ticker)\n",
    "        # Get market cap\n",
    "        market_cap = ticker_data.info['marketCap']\n",
    "        return market_cap\n",
    "    except:\n",
    "        return None\n",
    "\n",
    "# Apply the function to create the new column\n",
    "data['2023_MarketCap'] = data['Ticker'].apply(get_market_cap)\n",
    "\n",
    "# Create a new DataFrame with only 'Ticker' and '2023_MarketCap' columns\n",
    "result_df = data[['Ticker', '2023_MarketCap']]\n",
    "\n",
    "# Save the new DataFrame to a CSV file\n",
    "result_df.to_csv(\"ticker_2023_MarketCap.csv\", index=False)\n",
    "\n",
    "# Print a message to confirm the save\n",
    "print(\"CSV file 'ticker_2023_MarketCap.csv' has been saved successfully.\")\n",
    "\n"
   ]
  },
  {
   "cell_type": "code",
   "execution_count": 12,
   "id": "d815695b-2a49-4949-a1dd-4724d834cf16",
   "metadata": {},
   "outputs": [
    {
     "name": "stdout",
     "output_type": "stream",
     "text": [
      "Merged data saved to PE_Gsector.csv\n"
     ]
    }
   ],
   "source": [
    "#Creates a Merged CSV between ticker PE and Gsector\n",
    "import pandas as pd\n",
    "\n",
    "# Read data from CSV files\n",
    "ticker_2023_PE_df = pd.read_csv(\"ticker_2023_PE.csv\")\n",
    "ticker_Gsector_df = pd.read_csv(\"ticker_Gsector.csv\")\n",
    "\n",
    "# Merge the two DataFrames based on the 'Ticker' column\n",
    "merged_df = pd.merge(ticker_2023_PE_df, ticker_Gsector_df, on=\"Ticker\")\n",
    "\n",
    "# Save the merged DataFrame to a new CSV file labeled as \"PE_Gsector.csv\"\n",
    "merged_df.to_csv(\"PE_Gsector.csv\", index=False)\n",
    "\n",
    "print(\"Merged data saved to PE_Gsector.csv\")"
   ]
  },
  {
   "cell_type": "code",
   "execution_count": 13,
   "id": "9f00e994-6b51-4fac-b2e9-6a300c77d304",
   "metadata": {},
   "outputs": [
    {
     "name": "stdout",
     "output_type": "stream",
     "text": [
      "Modified data saved to PE_Gsector_with_avg.csv\n"
     ]
    }
   ],
   "source": [
    "# creates a merged dataframe of PE and Gsector \n",
    "import pandas as pd\n",
    "\n",
    "# Read data from the merged CSV file and drop rows with missing values\n",
    "merged_df = pd.read_csv(\"PE_Gsector.csv\").dropna()\n",
    "\n",
    "# Calculate average PE ratio by Gsector\n",
    "avg_pe_by_sector = merged_df.groupby('Gsector')['2023_PE'].mean().reset_index()\n",
    "avg_pe_by_sector.rename(columns={'2023_PE': 'Avg_PE_Gsector'}, inplace=True)\n",
    "\n",
    "# Merge the average PE ratios back into the original DataFrame based on Gsector\n",
    "merged_df = pd.merge(merged_df, avg_pe_by_sector, on=\"Gsector\")\n",
    "\n",
    "# Save the modified DataFrame to a new CSV file\n",
    "merged_df.to_csv(\"PE_Gsector_with_avg.csv\", index=False)\n",
    "\n",
    "print(\"Modified data saved to PE_Gsector_with_avg.csv\")"
   ]
  },
  {
   "cell_type": "code",
   "execution_count": 14,
   "id": "6ab45a8b-4c18-46e4-81e3-976fc1796133",
   "metadata": {
    "tags": []
   },
   "outputs": [],
   "source": [
    "# Creates a data frame that calcuates the average PE ratio by Gsector \n",
    "import pandas as pd\n",
    "\n",
    "# Load the CSV file with comma as delimiter\n",
    "df = pd.read_csv(\"PE_Gsector_with_avg.csv\")\n",
    "\n",
    "# Remove rows with \"inf\" values in 2023_PE column\n",
    "df = df[df['2023_PE'] != float('inf')]\n",
    "\n",
    "# Calculate average PE ratio for each sector\n",
    "avg_pe_by_sector = df.groupby('Gsector')['2023_PE'].mean()\n",
    "\n",
    "# Fill in the Avg_PE_Gsector column based on the calculated averages\n",
    "df['Avg_PE_Gsector'] = df['Gsector'].map(avg_pe_by_sector)\n",
    "\n",
    "# Save the cleaned DataFrame back to CSV\n",
    "df.to_csv(\"cleaned_PE_Gsector_with_avg.csv\", index=False)\n"
   ]
  },
  {
   "cell_type": "code",
   "execution_count": 15,
   "id": "c35ba829-e6e5-49d6-a2ad-725926416178",
   "metadata": {},
   "outputs": [
    {
     "name": "stdout",
     "output_type": "stream",
     "text": [
      "New CSV file saved successfully!\n"
     ]
    }
   ],
   "source": [
    "# Creates a data frame that labels based on market cap size \n",
    "import pandas as pd\n",
    "\n",
    "# Read the CSV file\n",
    "data = pd.read_csv(\"ticker_2023_MarketCap.csv\")\n",
    "\n",
    "# Define the market cap size categories\n",
    "categories = {\n",
    "    'mega-cap': lambda x: x >= 200000000000,\n",
    "    'large-cap': lambda x: 10000000000 <= x < 200000000000,\n",
    "    'mid-cap': lambda x: 2000000000 <= x < 10000000000,\n",
    "    'small-cap': lambda x: 250000000 <= x < 2000000000,\n",
    "    'micro-cap': lambda x: x < 250000000\n",
    "}\n",
    "\n",
    "# Function to categorize market cap\n",
    "def categorize_market_cap(market_cap):\n",
    "    for category, condition in categories.items():\n",
    "        if condition(market_cap):\n",
    "            return category\n",
    "    return 'Other'\n",
    "\n",
    "# Apply categorization to the market cap column and create a new column for the category\n",
    "data['Market_Cap_Cat'] = data['2023_MarketCap'].apply(categorize_market_cap)\n",
    "\n",
    "# Save the DataFrame with the new column to a new CSV file\n",
    "data.to_csv(\"ticker_2023_MarketCap_with_Category.csv\", index=False)\n",
    "\n",
    "print(\"New CSV file saved successfully!\")\n"
   ]
  },
  {
   "cell_type": "code",
   "execution_count": 16,
   "id": "cb85dc67-b24f-4431-93d7-bae306c69c9b",
   "metadata": {},
   "outputs": [
    {
     "name": "stdout",
     "output_type": "stream",
     "text": [
      "Merged CSV file saved successfully!\n"
     ]
    }
   ],
   "source": [
    "# combines the \"ticker_2023_MarketCap_with_Category.csv\" , \"cleaned_PE_Gsector_with_avg.csv\" and \"\"modified_net_income_data.csv\"\n",
    "\n",
    "import pandas as pd\n",
    "\n",
    "# Read the CSV files\n",
    "market_cap_data = pd.read_csv(\"ticker_2023_MarketCap_with_Category.csv\")\n",
    "pe_gsector_data = pd.read_csv(\"cleaned_PE_Gsector_with_avg.csv\")\n",
    "net_income_data = pd.read_csv(\"modified_net_income_data.csv\")\n",
    "\n",
    "# Rename the first column in net_income_data to \"Ticker\"\n",
    "net_income_data.rename(columns={net_income_data.columns[0]: 'Ticker'}, inplace=True)\n",
    "\n",
    "# Merge the CSV files based on the 'Ticker' column\n",
    "merged_data = pd.merge(market_cap_data, pe_gsector_data, on='Ticker', how='outer')\n",
    "merged_data = pd.merge(merged_data, net_income_data, on='Ticker', how='outer')\n",
    "\n",
    "# Save the merged data to a new CSV file\n",
    "merged_data.to_csv(\"Stalwart_Master.csv\", index=False)\n",
    "\n",
    "print(\"Merged CSV file saved successfully!\")"
   ]
  },
  {
   "cell_type": "markdown",
   "id": "a2fc1b95-9cb5-4776-866d-a2d783254b1d",
   "metadata": {},
   "source": [
    "# Fast grower "
   ]
  },
  {
   "cell_type": "code",
   "execution_count": 17,
   "id": "26e58640-8fcc-4bf3-b28d-b3984ae0d08c",
   "metadata": {
    "tags": []
   },
   "outputs": [],
   "source": [
    "# creates a csv that combines the Net income growth and PE ratios \n",
    "import pandas as pd\n",
    "\n",
    "# Read the modified_net_income_data.csv\n",
    "net_income_df = pd.read_csv(\"modified_net_income_data.csv\")\n",
    "\n",
    "# Rename the first column to 'Ticker'\n",
    "net_income_df.rename(columns={net_income_df.columns[0]: 'Ticker'}, inplace=True)\n",
    "\n",
    "# Remove columns 2020_NI, 2021_NI, 2022_NI, 2023_NI\n",
    "net_income_df.drop(columns=['2020_NI', '2021_NI', '2022_NI', '2023_NI'], inplace=True)\n",
    "\n",
    "# Read the ticker_2023_PE.csv\n",
    "pe_df = pd.read_csv(\"ticker_2023_PE.csv\")\n",
    "\n",
    "# Merge the two dataframes on the 'Ticker' column\n",
    "merged_df = pd.merge(net_income_df, pe_df, on='Ticker')\n",
    "\n",
    "# Rename the 2023_PE column\n",
    "merged_df.rename(columns={'PE': '2023_PE'}, inplace=True)\n",
    "\n",
    "# Save the merged dataframe to a new CSV file\n",
    "merged_df.to_csv(\"NI_Grow_PE.csv\", index=False)"
   ]
  },
  {
   "cell_type": "code",
   "execution_count": 18,
   "id": "1ca16f95-b863-4d45-b05c-5703ef1601af",
   "metadata": {
    "tags": []
   },
   "outputs": [],
   "source": [
    "# reades the created file and categoriezes based on ideal growth rate \n",
    "import pandas as pd\n",
    "\n",
    "# Read the CSV file\n",
    "df = pd.read_csv(\"NI_Grow_PE.csv\")\n",
    "\n",
    "# Calculate average growth rate for each row\n",
    "df['Average_Growth'] = df[['2020_2021_NI_Grow', '2021_2022_NI_Grow', '2022_2023_NI_Grow']].mean(axis=1)\n",
    "\n",
    "# Categorize the growth rate\n",
    "def categorize_growth(average_growth):\n",
    "    if 20 <= average_growth <= 25:\n",
    "        return 'Ideal 20% - 25%'\n",
    "    else:\n",
    "        return 'Not Ideal'\n",
    "\n",
    "df['Growth_Rate'] = df['Average_Growth'].apply(categorize_growth)\n",
    "\n",
    "# Save the updated CSV with the name \"Fast_Grower_Master.csv\"\n",
    "df.to_csv(\"Fast_Grower_Master.csv\", index=False)"
   ]
  },
  {
   "cell_type": "markdown",
   "id": "3fa9856c-c379-4858-b830-6754872addf8",
   "metadata": {},
   "source": [
    "# EDA"
   ]
  },
  {
   "cell_type": "code",
   "execution_count": 35,
   "id": "cb5b09ff-c59a-4ecd-a80c-d4e75220893f",
   "metadata": {
    "tags": []
   },
   "outputs": [
    {
     "ename": "KeyError",
     "evalue": "\"['2024_NI'] not found in axis\"",
     "output_type": "error",
     "traceback": [
      "\u001b[0;31m---------------------------------------------------------------------------\u001b[0m",
      "\u001b[0;31mKeyError\u001b[0m                                  Traceback (most recent call last)",
      "Cell \u001b[0;32mIn[35], line 7\u001b[0m\n\u001b[1;32m      4\u001b[0m df \u001b[38;5;241m=\u001b[39m pd\u001b[38;5;241m.\u001b[39mread_csv(\u001b[38;5;124m\"\u001b[39m\u001b[38;5;124mSlow_Grow_Master.csv\u001b[39m\u001b[38;5;124m\"\u001b[39m)\n\u001b[1;32m      6\u001b[0m \u001b[38;5;66;03m# Drop the \"2024_NI\" column in-place\u001b[39;00m\n\u001b[0;32m----> 7\u001b[0m df\u001b[38;5;241m.\u001b[39mdrop(columns\u001b[38;5;241m=\u001b[39m[\u001b[38;5;124m\"\u001b[39m\u001b[38;5;124m2024_NI\u001b[39m\u001b[38;5;124m\"\u001b[39m], inplace\u001b[38;5;241m=\u001b[39m\u001b[38;5;28;01mTrue\u001b[39;00m)\n\u001b[1;32m      9\u001b[0m \u001b[38;5;66;03m# Save the modified DataFrame back to the same CSV file\u001b[39;00m\n\u001b[1;32m     10\u001b[0m df\u001b[38;5;241m.\u001b[39mto_csv(\u001b[38;5;124m\"\u001b[39m\u001b[38;5;124mSlow_Grow_Master.csv\u001b[39m\u001b[38;5;124m\"\u001b[39m, index\u001b[38;5;241m=\u001b[39m\u001b[38;5;28;01mFalse\u001b[39;00m)\n",
      "File \u001b[0;32m~/anaconda3/lib/python3.11/site-packages/pandas/core/frame.py:5258\u001b[0m, in \u001b[0;36mDataFrame.drop\u001b[0;34m(self, labels, axis, index, columns, level, inplace, errors)\u001b[0m\n\u001b[1;32m   5110\u001b[0m \u001b[38;5;28;01mdef\u001b[39;00m \u001b[38;5;21mdrop\u001b[39m(\n\u001b[1;32m   5111\u001b[0m     \u001b[38;5;28mself\u001b[39m,\n\u001b[1;32m   5112\u001b[0m     labels: IndexLabel \u001b[38;5;241m=\u001b[39m \u001b[38;5;28;01mNone\u001b[39;00m,\n\u001b[0;32m   (...)\u001b[0m\n\u001b[1;32m   5119\u001b[0m     errors: IgnoreRaise \u001b[38;5;241m=\u001b[39m \u001b[38;5;124m\"\u001b[39m\u001b[38;5;124mraise\u001b[39m\u001b[38;5;124m\"\u001b[39m,\n\u001b[1;32m   5120\u001b[0m ) \u001b[38;5;241m-\u001b[39m\u001b[38;5;241m>\u001b[39m DataFrame \u001b[38;5;241m|\u001b[39m \u001b[38;5;28;01mNone\u001b[39;00m:\n\u001b[1;32m   5121\u001b[0m \u001b[38;5;250m    \u001b[39m\u001b[38;5;124;03m\"\"\"\u001b[39;00m\n\u001b[1;32m   5122\u001b[0m \u001b[38;5;124;03m    Drop specified labels from rows or columns.\u001b[39;00m\n\u001b[1;32m   5123\u001b[0m \n\u001b[0;32m   (...)\u001b[0m\n\u001b[1;32m   5256\u001b[0m \u001b[38;5;124;03m            weight  1.0     0.8\u001b[39;00m\n\u001b[1;32m   5257\u001b[0m \u001b[38;5;124;03m    \"\"\"\u001b[39;00m\n\u001b[0;32m-> 5258\u001b[0m     \u001b[38;5;28;01mreturn\u001b[39;00m \u001b[38;5;28msuper\u001b[39m()\u001b[38;5;241m.\u001b[39mdrop(\n\u001b[1;32m   5259\u001b[0m         labels\u001b[38;5;241m=\u001b[39mlabels,\n\u001b[1;32m   5260\u001b[0m         axis\u001b[38;5;241m=\u001b[39maxis,\n\u001b[1;32m   5261\u001b[0m         index\u001b[38;5;241m=\u001b[39mindex,\n\u001b[1;32m   5262\u001b[0m         columns\u001b[38;5;241m=\u001b[39mcolumns,\n\u001b[1;32m   5263\u001b[0m         level\u001b[38;5;241m=\u001b[39mlevel,\n\u001b[1;32m   5264\u001b[0m         inplace\u001b[38;5;241m=\u001b[39minplace,\n\u001b[1;32m   5265\u001b[0m         errors\u001b[38;5;241m=\u001b[39merrors,\n\u001b[1;32m   5266\u001b[0m     )\n",
      "File \u001b[0;32m~/anaconda3/lib/python3.11/site-packages/pandas/core/generic.py:4549\u001b[0m, in \u001b[0;36mNDFrame.drop\u001b[0;34m(self, labels, axis, index, columns, level, inplace, errors)\u001b[0m\n\u001b[1;32m   4547\u001b[0m \u001b[38;5;28;01mfor\u001b[39;00m axis, labels \u001b[38;5;129;01min\u001b[39;00m axes\u001b[38;5;241m.\u001b[39mitems():\n\u001b[1;32m   4548\u001b[0m     \u001b[38;5;28;01mif\u001b[39;00m labels \u001b[38;5;129;01mis\u001b[39;00m \u001b[38;5;129;01mnot\u001b[39;00m \u001b[38;5;28;01mNone\u001b[39;00m:\n\u001b[0;32m-> 4549\u001b[0m         obj \u001b[38;5;241m=\u001b[39m obj\u001b[38;5;241m.\u001b[39m_drop_axis(labels, axis, level\u001b[38;5;241m=\u001b[39mlevel, errors\u001b[38;5;241m=\u001b[39merrors)\n\u001b[1;32m   4551\u001b[0m \u001b[38;5;28;01mif\u001b[39;00m inplace:\n\u001b[1;32m   4552\u001b[0m     \u001b[38;5;28mself\u001b[39m\u001b[38;5;241m.\u001b[39m_update_inplace(obj)\n",
      "File \u001b[0;32m~/anaconda3/lib/python3.11/site-packages/pandas/core/generic.py:4591\u001b[0m, in \u001b[0;36mNDFrame._drop_axis\u001b[0;34m(self, labels, axis, level, errors, only_slice)\u001b[0m\n\u001b[1;32m   4589\u001b[0m         new_axis \u001b[38;5;241m=\u001b[39m axis\u001b[38;5;241m.\u001b[39mdrop(labels, level\u001b[38;5;241m=\u001b[39mlevel, errors\u001b[38;5;241m=\u001b[39merrors)\n\u001b[1;32m   4590\u001b[0m     \u001b[38;5;28;01melse\u001b[39;00m:\n\u001b[0;32m-> 4591\u001b[0m         new_axis \u001b[38;5;241m=\u001b[39m axis\u001b[38;5;241m.\u001b[39mdrop(labels, errors\u001b[38;5;241m=\u001b[39merrors)\n\u001b[1;32m   4592\u001b[0m     indexer \u001b[38;5;241m=\u001b[39m axis\u001b[38;5;241m.\u001b[39mget_indexer(new_axis)\n\u001b[1;32m   4594\u001b[0m \u001b[38;5;66;03m# Case for non-unique axis\u001b[39;00m\n\u001b[1;32m   4595\u001b[0m \u001b[38;5;28;01melse\u001b[39;00m:\n",
      "File \u001b[0;32m~/anaconda3/lib/python3.11/site-packages/pandas/core/indexes/base.py:6699\u001b[0m, in \u001b[0;36mIndex.drop\u001b[0;34m(self, labels, errors)\u001b[0m\n\u001b[1;32m   6697\u001b[0m \u001b[38;5;28;01mif\u001b[39;00m mask\u001b[38;5;241m.\u001b[39many():\n\u001b[1;32m   6698\u001b[0m     \u001b[38;5;28;01mif\u001b[39;00m errors \u001b[38;5;241m!=\u001b[39m \u001b[38;5;124m\"\u001b[39m\u001b[38;5;124mignore\u001b[39m\u001b[38;5;124m\"\u001b[39m:\n\u001b[0;32m-> 6699\u001b[0m         \u001b[38;5;28;01mraise\u001b[39;00m \u001b[38;5;167;01mKeyError\u001b[39;00m(\u001b[38;5;124mf\u001b[39m\u001b[38;5;124m\"\u001b[39m\u001b[38;5;132;01m{\u001b[39;00m\u001b[38;5;28mlist\u001b[39m(labels[mask])\u001b[38;5;132;01m}\u001b[39;00m\u001b[38;5;124m not found in axis\u001b[39m\u001b[38;5;124m\"\u001b[39m)\n\u001b[1;32m   6700\u001b[0m     indexer \u001b[38;5;241m=\u001b[39m indexer[\u001b[38;5;241m~\u001b[39mmask]\n\u001b[1;32m   6701\u001b[0m \u001b[38;5;28;01mreturn\u001b[39;00m \u001b[38;5;28mself\u001b[39m\u001b[38;5;241m.\u001b[39mdelete(indexer)\n",
      "\u001b[0;31mKeyError\u001b[0m: \"['2024_NI'] not found in axis\""
     ]
    }
   ],
   "source": [
    "import pandas as pd\n",
    "\n",
    "# Read the CSV file into a pandas DataFrame\n",
    "df = pd.read_csv(\"Slow_Grow_Master.csv\")\n",
    "\n",
    "# Drop the \"2024_NI\" column in-place\n",
    "df.drop(columns=[\"2024_NI\"], inplace=True)\n",
    "\n",
    "# Save the modified DataFrame back to the same CSV file\n",
    "df.to_csv(\"Slow_Grow_Master.csv\", index=False)"
   ]
  },
  {
   "cell_type": "code",
   "execution_count": 36,
   "id": "3637ced3-a895-45af-8d0c-3f1c0cf60892",
   "metadata": {
    "tags": []
   },
   "outputs": [],
   "source": [
    "# drops all missing values from the master csvs\n",
    "import pandas as pd\n",
    "\n",
    "# Read the CSV file into a pandas DataFrame\n",
    "df = pd.read_csv(\"Slow_Grow_Master.csv\")\n",
    "\n",
    "# Drop rows with any missing values\n",
    "df_cleaned = df.dropna()\n",
    "\n",
    "# Save the cleaned DataFrame to a new CSV file\n",
    "df_cleaned.to_csv(\"Clean_Slow_Grow_Master.csv\", index=False)\n",
    "\n",
    "# Read the CSV file into a pandas DataFrame\n",
    "df = pd.read_csv(\"Fast_Grower_Master.csv\")\n",
    "\n",
    "# Drop rows with any missing values\n",
    "df_cleaned = df.dropna()\n",
    "\n",
    "# Save the cleaned DataFrame to a new CSV file\n",
    "df_cleaned.to_csv(\"Clean_Fast_Grower_Master.csv\", index=False)\n",
    "\n",
    "# Read the CSV file into a pandas DataFrame\n",
    "df = pd.read_csv(\"Stalwart_Master.csv\")\n",
    "\n",
    "# Drop rows with any missing values\n",
    "df_cleaned = df.dropna()\n",
    "\n",
    "# Save the cleaned DataFrame to a new CSV file\n",
    "df_cleaned.to_csv(\"Clean_Stalwart_Master.csv\", index=False)\n",
    "\n"
   ]
  },
  {
   "cell_type": "markdown",
   "id": "2fc8333e-05f4-4ebe-bb28-7c99a6cb1fe4",
   "metadata": {
    "tags": []
   },
   "source": [
    "# Screen Slow Growers\n"
   ]
  },
  {
   "cell_type": "code",
   "execution_count": 37,
   "id": "721a3991-3a43-4b4c-ad35-e049d0c08ead",
   "metadata": {
    "tags": []
   },
   "outputs": [],
   "source": [
    "# Screens based on dividend growth \n",
    "import pandas as pd\n",
    "\n",
    "# Load the CSV file\n",
    "df = pd.read_csv(\"Clean_Slow_Grow_Master.csv\")\n",
    "\n",
    "# Filter companies with positive or flat growing dividends for each year\n",
    "filtered_df = df[(df['2020_2021_Div_Grow'] >= 0) & \n",
    "                 (df['2021_2022_Div_Grow'] >= 0) & \n",
    "                 (df['2022_2023_Div_Grow'] >= 0)]\n",
    "\n",
    "# Save the filtered data to a new CSV file\n",
    "filtered_df.to_csv(\"Screened_Slow_Grow.csv\", index=False)\n"
   ]
  },
  {
   "cell_type": "markdown",
   "id": "8e0b5e99-ba5c-47ae-82ca-6c32f4746e9e",
   "metadata": {},
   "source": [
    "# Screen Stalwarts"
   ]
  },
  {
   "cell_type": "code",
   "execution_count": 38,
   "id": "ad3ab947-bfa8-407b-9b54-38ab8bbee515",
   "metadata": {},
   "outputs": [
    {
     "name": "stderr",
     "output_type": "stream",
     "text": [
      "/var/folders/q6/3lfkn2n54rs43hmys3vv8k1w0000gn/T/ipykernel_45598/68331262.py:13: UserWarning: Boolean Series key will be reindexed to match DataFrame index.\n",
      "  filtered_df = filtered_df[(df['Avg_NI_Growth'] >= 0.97 * df['Avg_PE_Gsector']) &\n"
     ]
    }
   ],
   "source": [
    "import pandas as pd\n",
    "\n",
    "# Load the CSV file\n",
    "df = pd.read_csv(\"Clean_Stalwart_Master.csv\")\n",
    "\n",
    "# Filter companies with Market_Cap_Cat as 'mega cap' or 'large cap'\n",
    "filtered_df = df[df['Market_Cap_Cat'].isin(['mega-cap', 'large-cap'])]\n",
    "\n",
    "# Calculate average Net Income growth across the three years\n",
    "df['Avg_NI_Growth'] = df[['2020_2021_NI_Grow', '2021_2022_NI_Grow', '2022_2023_NI_Grow']].mean(axis=1)\n",
    "\n",
    "# Filter companies where average Net Income growth is between + or - 3% from the industry PE ratio\n",
    "filtered_df = filtered_df[(df['Avg_NI_Growth'] >= 0.97 * df['Avg_PE_Gsector']) & \n",
    "                          (df['Avg_NI_Growth'] <= 1.03 * df['Avg_PE_Gsector'])]\n",
    "\n",
    "# Add a new column for average NI growth\n",
    "filtered_df['Avg_NI_Growth'] = filtered_df[['2020_2021_NI_Grow', '2021_2022_NI_Grow', '2022_2023_NI_Grow']].mean(axis=1)\n",
    "\n",
    "# Save the filtered data to a new CSV file\n",
    "filtered_df.to_csv(\"Screened_Stalwart.csv\", index=False)\n"
   ]
  },
  {
   "cell_type": "markdown",
   "id": "a7a76ea9-f9a8-417a-ac3e-54e10d18f445",
   "metadata": {},
   "source": [
    "# Screen Fast Growers"
   ]
  },
  {
   "cell_type": "code",
   "execution_count": 39,
   "id": "fa7eb8a6-bf2e-4e4a-9e35-3cb914b62db5",
   "metadata": {
    "tags": []
   },
   "outputs": [],
   "source": [
    "import pandas as pd\n",
    "\n",
    "# Load the CSV file\n",
    "df = pd.read_csv(\"Clean_Fast_Grower_Master.csv\", sep=\"\\t\")\n",
    "\n",
    "# Split the concatenated column names into individual names\n",
    "column_names = df.columns[0].split(',')\n",
    "\n",
    "# Create a new DataFrame with the split values\n",
    "new_df = df.iloc[:, 0].str.split(',', expand=True)\n",
    "\n",
    "# Assign the split column names to the new DataFrame\n",
    "new_df.columns = column_names\n",
    "\n",
    "# Convert 'Average_Growth' and '2023_PE' columns to numeric\n",
    "new_df['Average_Growth'] = pd.to_numeric(new_df['Average_Growth'], errors='coerce')\n",
    "new_df['2023_PE'] = pd.to_numeric(new_df['2023_PE'], errors='coerce')\n",
    "\n",
    "# Filter rows where the average growth rate is between 20% and 25% and within +3 or -3 from the PE ratio\n",
    "filtered_df = new_df[(new_df['Average_Growth'] >= 20) & \n",
    "                     (new_df['Average_Growth'] <= 25) &\n",
    "                     (new_df['Average_Growth'] >= new_df['2023_PE'] - 3) & \n",
    "                     (new_df['Average_Growth'] <= new_df['2023_PE'] + 3)]\n",
    "\n",
    "# Save the filtered data to a new CSV file\n",
    "filtered_df.to_csv(\"Screened_Fast_Grower.csv\", index=False)\n"
   ]
  },
  {
   "cell_type": "markdown",
   "id": "13992658-776a-471c-979a-48c210abdbe5",
   "metadata": {},
   "source": [
    "# Comparative Results "
   ]
  },
  {
   "cell_type": "code",
   "execution_count": 40,
   "id": "b1de80d5-d96b-486b-befc-21f9374b9ebd",
   "metadata": {
    "tags": []
   },
   "outputs": [
    {
     "name": "stderr",
     "output_type": "stream",
     "text": [
      "[*********************100%%**********************]  1 of 1 completed"
     ]
    },
    {
     "name": "stdout",
     "output_type": "stream",
     "text": [
      "Date\n",
      "2020-12-31    3756.070068\n",
      "2021-12-31    4766.180176\n",
      "2022-12-31    3839.500000\n",
      "2023-12-31    4769.830078\n",
      "Freq: A-DEC, Name: Close, dtype: float64\n"
     ]
    },
    {
     "name": "stderr",
     "output_type": "stream",
     "text": [
      "\n"
     ]
    }
   ],
   "source": [
    "import yfinance as yf\n",
    "import pandas as pd\n",
    "\n",
    "def get_sp500_data():\n",
    "    # Define the ticker symbol for S&P 500\n",
    "    ticker_symbol = \"^GSPC\"\n",
    "    \n",
    "    # Define the start and end dates\n",
    "    start_date = \"2020-01-01\"\n",
    "    end_date = \"2023-12-31\"\n",
    "    \n",
    "    # Fetch the historical data\n",
    "    sp500_data = yf.download(ticker_symbol, start=start_date, end=end_date)\n",
    "    \n",
    "    return sp500_data\n",
    "\n",
    "def get_annual_closing_prices(data):\n",
    "    # Resample the data to annual frequency and extract closing prices\n",
    "    annual_closing_prices = data['Close'].resample('Y').last()\n",
    "    \n",
    "    return annual_closing_prices\n",
    "\n",
    "# Fetch S&P 500 data\n",
    "sp500_data = get_sp500_data()\n",
    "\n",
    "# Get annual closing prices\n",
    "annual_closing_prices = get_annual_closing_prices(sp500_data)\n",
    "\n",
    "# Print the annual closing prices\n",
    "print(annual_closing_prices)\n",
    "\n"
   ]
  },
  {
   "cell_type": "code",
   "execution_count": 41,
   "id": "0e257bf0-09a2-4b73-9fe6-49c591d84e49",
   "metadata": {
    "tags": []
   },
   "outputs": [
    {
     "name": "stderr",
     "output_type": "stream",
     "text": [
      "[*********************100%%**********************]  1 of 1 completed"
     ]
    },
    {
     "name": "stdout",
     "output_type": "stream",
     "text": [
      "Date\n",
      "2020-12-31    39456.660156\n",
      "2021-12-31    48461.160156\n",
      "2022-12-31    38073.941406\n",
      "2023-12-31    48295.378906\n",
      "Freq: A-DEC, Name: Close, dtype: float64\n"
     ]
    },
    {
     "name": "stderr",
     "output_type": "stream",
     "text": [
      "\n"
     ]
    }
   ],
   "source": [
    "# Imports the Wilkshire closing values from 2020 - 2023\n",
    "import yfinance as yf\n",
    "import pandas as pd\n",
    "\n",
    "def get_wilshire5000_data():\n",
    "    # Define the ticker symbol for Wilshire 5000\n",
    "    ticker_symbol = \"^W5000\"\n",
    "    \n",
    "    # Define the start and end dates\n",
    "    start_date = \"2020-01-01\"\n",
    "    end_date = \"2023-12-31\"\n",
    "    \n",
    "    # Fetch the historical data\n",
    "    wilshire5000_data = yf.download(ticker_symbol, start=start_date, end=end_date)\n",
    "    \n",
    "    return wilshire5000_data\n",
    "\n",
    "def get_annual_closing_prices(data):\n",
    "    # Resample the data to annual frequency and extract closing prices\n",
    "    annual_closing_prices = data['Close'].resample('Y').last()\n",
    "    \n",
    "    return annual_closing_prices\n",
    "\n",
    "# Fetch Wilshire 5000 data\n",
    "wilshire5000_data = get_wilshire5000_data()\n",
    "\n",
    "# Get annual closing prices\n",
    "annual_closing_prices_wilshire = get_annual_closing_prices(wilshire5000_data)\n",
    "\n",
    "# Print the annual closing prices\n",
    "print(annual_closing_prices_wilshire)\n",
    "\n"
   ]
  },
  {
   "cell_type": "markdown",
   "id": "15348027-70d2-48d3-ac28-48109488de86",
   "metadata": {},
   "source": [
    "# Get closing prices from screened companies "
   ]
  },
  {
   "cell_type": "code",
   "execution_count": 49,
   "id": "ddbca8ed-e862-47a9-8fcc-5f909a72a858",
   "metadata": {},
   "outputs": [
    {
     "name": "stderr",
     "output_type": "stream",
     "text": [
      "[*********************100%%**********************]  1 of 1 completed\n",
      "[*********************100%%**********************]  1 of 1 completed\n",
      "[*********************100%%**********************]  1 of 1 completed\n",
      "[*********************100%%**********************]  1 of 1 completed\n",
      "[*********************100%%**********************]  1 of 1 completed\n",
      "[*********************100%%**********************]  1 of 1 completed\n",
      "[*********************100%%**********************]  1 of 1 completed\n",
      "[*********************100%%**********************]  1 of 1 completed\n",
      "[*********************100%%**********************]  1 of 1 completed\n",
      "[*********************100%%**********************]  1 of 1 completed\n",
      "[*********************100%%**********************]  1 of 1 completed\n",
      "[*********************100%%**********************]  1 of 1 completed\n",
      "[*********************100%%**********************]  1 of 1 completed\n",
      "[*********************100%%**********************]  1 of 1 completed\n",
      "[*********************100%%**********************]  1 of 1 completed\n",
      "[*********************100%%**********************]  1 of 1 completed\n",
      "[*********************100%%**********************]  1 of 1 completed\n",
      "[*********************100%%**********************]  1 of 1 completed\n",
      "[*********************100%%**********************]  1 of 1 completed\n",
      "[*********************100%%**********************]  1 of 1 completed\n",
      "[*********************100%%**********************]  1 of 1 completed\n",
      "[*********************100%%**********************]  1 of 1 completed\n",
      "[*********************100%%**********************]  1 of 1 completed\n",
      "[*********************100%%**********************]  1 of 1 completed\n",
      "[*********************100%%**********************]  1 of 1 completed\n",
      "[*********************100%%**********************]  1 of 1 completed\n",
      "[*********************100%%**********************]  1 of 1 completed\n",
      "[*********************100%%**********************]  1 of 1 completed\n"
     ]
    },
    {
     "name": "stdout",
     "output_type": "stream",
     "text": [
      "      2020_Close  2020_MarketCap  2021_Close  2021_MarketCap  2022_Close  \\\n",
      "ALSN   42.990002      6434021888   35.650002      6434021888   41.599998   \n",
      "ALX   270.980011      1080498304  260.170013      1080498304  220.059998   \n",
      "AMAL   13.540000       748725248   16.639999       748725248   23.040001   \n",
      "AMAT   86.980003    165057691648  157.979996    165057691648   97.379997   \n",
      "AMGN  227.169998    146934841344  226.470001    146934841344  262.640015   \n",
      "AMH    29.920000     14953624576   43.549999     14953624576   30.139999   \n",
      "AMKR   15.150000      7963113984   24.600000      7963113984   23.980000   \n",
      "\n",
      "      2022_MarketCap  2023_Close  2023_MarketCap  \n",
      "ALSN      6434021888   58.150002      6434021888  \n",
      "ALX       1080498304  213.570007      1080498304  \n",
      "AMAL       748725248   26.940001       748725248  \n",
      "AMAT    165057691648  162.070007    165057691648  \n",
      "AMGN    146934841344  288.019989    146934841344  \n",
      "AMH      14953624576   35.959999     14953624576  \n",
      "AMKR      7963113984   33.270000      7963113984  \n"
     ]
    }
   ],
   "source": [
    "# Slow Grower Closing Prices and market cap\n",
    "import pandas as pd\n",
    "import yfinance as yf\n",
    "\n",
    "def get_closing_prices_and_market_cap_from_csv(csv_file, years):\n",
    "    # Read the CSV file\n",
    "    df = pd.read_csv(csv_file)\n",
    "    \n",
    "    # Extract tickers from the \"Ticker\" column\n",
    "    tickers = df['Ticker'].tolist()\n",
    "\n",
    "    data = {}\n",
    "\n",
    "    for year in years:\n",
    "        for ticker in tickers:\n",
    "            try:\n",
    "                # Fetch stock data using yfinance for the specified year\n",
    "                stock_data = yf.download(ticker, start=f'{year}-01-01', end=f'{year}-12-31')\n",
    "                \n",
    "                # Extract closing price for the last trading day of the year\n",
    "                closing_price = stock_data['Close'].iloc[-1]\n",
    "                \n",
    "                # Fetch market cap\n",
    "                ticker_info = yf.Ticker(ticker)\n",
    "                market_cap = ticker_info.info['marketCap']\n",
    "                \n",
    "                # Prepare data structure\n",
    "                if ticker not in data:\n",
    "                    data[ticker] = {}\n",
    "\n",
    "                data[ticker][f'{year}_Close'] = closing_price\n",
    "                data[ticker][f'{year}_MarketCap'] = market_cap\n",
    "\n",
    "            except Exception as e:\n",
    "                print(f\"Error fetching data for {ticker} in {year}: {e}\")\n",
    "\n",
    "    # Convert dictionary to DataFrame\n",
    "    data_df = pd.DataFrame.from_dict(data, orient='index')\n",
    "    \n",
    "    # Save the DataFrame to a CSV file\n",
    "    data_df.to_csv('Slow_Grow_Return_MarketCap.csv')\n",
    "\n",
    "    return data_df\n",
    "\n",
    "# Example usage:\n",
    "csv_file = \"Screened_Slow_Grow.csv\"\n",
    "years = [2020, 2021, 2022, 2023]\n",
    "closing_prices_and_caps = get_closing_prices_and_market_cap_from_csv(csv_file, years)\n",
    "print(closing_prices_and_caps)"
   ]
  },
  {
   "cell_type": "code",
   "execution_count": 50,
   "id": "5c8df215-0655-4d0f-b03c-e8d538006737",
   "metadata": {},
   "outputs": [
    {
     "name": "stdout",
     "output_type": "stream",
     "text": [
      "      Market_Weighted_Index_Price\n",
      "Year                             \n",
      "2020                   142.445817\n",
      "2021                   176.943700\n",
      "2022                   162.683845\n",
      "2023                   205.432561\n"
     ]
    }
   ],
   "source": [
    "# Slow Grower market weighted returns \n",
    "import pandas as pd\n",
    "\n",
    "def calculate_market_weighted_index(csv_file):\n",
    "    # Load the CSV file\n",
    "    df = pd.read_csv(csv_file, index_col=0)\n",
    "    \n",
    "    # Initialize a dictionary to store the index prices for each year\n",
    "    index_prices = {}\n",
    "\n",
    "    # For each year, calculate the market-weighted index price\n",
    "    years = ['2020', '2021', '2022', '2023']\n",
    "    for year in years:\n",
    "        # Only consider columns for the specified year\n",
    "        close_column = f'{year}_Close'\n",
    "        cap_column = f'{year}_MarketCap'\n",
    "\n",
    "        # Ensure the data is numeric, handling any potential non-numeric types that could arise from missing data\n",
    "        df[close_column] = pd.to_numeric(df[close_column], errors='coerce')\n",
    "        df[cap_column] = pd.to_numeric(df[cap_column], errors='coerce')\n",
    "\n",
    "        # Drop rows where any of the required data is missing\n",
    "        valid_data = df.dropna(subset=[close_column, cap_column])\n",
    "\n",
    "        # Calculate total market capitalization\n",
    "        total_market_cap = valid_data[cap_column].sum()\n",
    "\n",
    "        # Calculate weighted sum of the closing prices\n",
    "        weighted_sum = (valid_data[close_column] * valid_data[cap_column]).sum()\n",
    "\n",
    "        # Calculate the market-weighted index price\n",
    "        if total_market_cap > 0:  # Avoid division by zero\n",
    "            index_price = weighted_sum / total_market_cap\n",
    "        else:\n",
    "            index_price = None\n",
    "        \n",
    "        # Store the index price in the dictionary\n",
    "        index_prices[year] = index_price\n",
    "\n",
    "    # Convert the dictionary to a DataFrame for better visualization and further use\n",
    "    index_prices_df = pd.DataFrame.from_dict(index_prices, orient='index', columns=['Market_Weighted_Index_Price'])\n",
    "    index_prices_df.index.name = 'Year'\n",
    "\n",
    "    return index_prices_df\n",
    "\n",
    "# Example usage\n",
    "csv_file = 'Slow_Grow_Return_MarketCap.csv'\n",
    "index_prices_df = calculate_market_weighted_index(csv_file)\n",
    "print(index_prices_df)\n"
   ]
  },
  {
   "cell_type": "code",
   "execution_count": 51,
   "id": "3d8ef287-7dcb-4c2d-ac84-b298f6d5c0cc",
   "metadata": {},
   "outputs": [
    {
     "name": "stderr",
     "output_type": "stream",
     "text": [
      "[*********************100%%**********************]  1 of 1 completed\n",
      "[*********************100%%**********************]  1 of 1 completed\n",
      "[*********************100%%**********************]  1 of 1 completed\n",
      "[*********************100%%**********************]  1 of 1 completed\n",
      "[*********************100%%**********************]  1 of 1 completed\n",
      "[*********************100%%**********************]  1 of 1 completed\n",
      "[*********************100%%**********************]  1 of 1 completed\n",
      "[*********************100%%**********************]  1 of 1 completed\n",
      "[*********************100%%**********************]  1 of 1 completed\n",
      "[*********************100%%**********************]  1 of 1 completed\n",
      "[*********************100%%**********************]  1 of 1 completed\n",
      "[*********************100%%**********************]  1 of 1 completed\n",
      "[*********************100%%**********************]  1 of 1 completed\n",
      "[*********************100%%**********************]  1 of 1 completed\n",
      "[*********************100%%**********************]  1 of 1 completed\n",
      "[*********************100%%**********************]  1 of 1 completed\n",
      "[*********************100%%**********************]  1 of 1 completed\n",
      "[*********************100%%**********************]  1 of 1 completed\n",
      "[*********************100%%**********************]  1 of 1 completed\n",
      "[*********************100%%**********************]  1 of 1 completed"
     ]
    },
    {
     "name": "stdout",
     "output_type": "stream",
     "text": [
      "      2020_Close  2020_MarketCap  2021_Close  2021_MarketCap  2022_Close  \\\n",
      "CCI   156.389999     40794300416  207.919998     40794300416  135.639999   \n",
      "COST  374.450012    320609058816  563.909973    320609058816  456.500000   \n",
      "ODFL   96.809998     39540097024  178.134995     39540097024  141.889999   \n",
      "TDG   616.140015     69398331392  634.409973     69398331392  629.650024   \n",
      "WAB    72.400002     28412094464   91.809998     28412094464   99.809998   \n",
      "\n",
      "      2022_MarketCap   2023_Close  2023_MarketCap  \n",
      "CCI      40794300416   115.190002     40794300416  \n",
      "COST    320609058816   660.080017    320609058816  \n",
      "ODFL     39540097024   202.664993     39540097024  \n",
      "TDG      69398331392  1011.599976     69398331392  \n",
      "WAB      28412094464   126.900002     28412094464  \n"
     ]
    },
    {
     "name": "stderr",
     "output_type": "stream",
     "text": [
      "\n"
     ]
    }
   ],
   "source": [
    "# Stalwart Closing Prices and Market Cap \n",
    "import pandas as pd\n",
    "import yfinance as yf\n",
    "\n",
    "def get_closing_prices_and_market_cap_from_csv(csv_file, years):\n",
    "    # Read the CSV file\n",
    "    df = pd.read_csv(csv_file)\n",
    "    \n",
    "    # Extract tickers from the \"Ticker\" column\n",
    "    tickers = df['Ticker'].tolist()\n",
    "\n",
    "    data = {}\n",
    "\n",
    "    for year in years:\n",
    "        for ticker in tickers:\n",
    "            try:\n",
    "                # Fetch stock data using yfinance for the specified year\n",
    "                stock_data = yf.download(ticker, start=f'{year}-01-01', end=f'{year}-12-31')\n",
    "                \n",
    "                # Extract closing price for the last trading day of the year\n",
    "                closing_price = stock_data['Close'].iloc[-1]\n",
    "                \n",
    "                # Fetch market cap\n",
    "                ticker_info = yf.Ticker(ticker)\n",
    "                market_cap = ticker_info.info['marketCap']\n",
    "                \n",
    "                # Prepare data structure\n",
    "                if ticker not in data:\n",
    "                    data[ticker] = {}\n",
    "\n",
    "                data[ticker][f'{year}_Close'] = closing_price\n",
    "                data[ticker][f'{year}_MarketCap'] = market_cap\n",
    "\n",
    "            except Exception as e:\n",
    "                print(f\"Error fetching data for {ticker} in {year}: {e}\")\n",
    "\n",
    "    # Convert dictionary to DataFrame\n",
    "    data_df = pd.DataFrame.from_dict(data, orient='index')\n",
    "    \n",
    "    # Save the DataFrame to a CSV file\n",
    "    data_df.to_csv('Stalwart_Return_MarketCap.csv')\n",
    "\n",
    "    return data_df\n",
    "\n",
    "# Example usage:\n",
    "csv_file = \"Screened_Stalwart.csv\"\n",
    "years = [2020, 2021, 2022, 2023]\n",
    "closing_prices_and_caps = get_closing_prices_and_market_cap_from_csv(csv_file, years)\n",
    "print(closing_prices_and_caps)\n"
   ]
  },
  {
   "cell_type": "code",
   "execution_count": 52,
   "id": "5ee6694c-59bf-4251-a2a0-5309af7a0b89",
   "metadata": {},
   "outputs": [
    {
     "name": "stdout",
     "output_type": "stream",
     "text": [
      "      Market_Weighted_Index_Price\n",
      "Year                             \n",
      "2020                   351.026617\n",
      "2021                   487.125190\n",
      "2022                   409.087925\n",
      "2023                   597.787763\n"
     ]
    }
   ],
   "source": [
    "#stalwart Market weighted return \n",
    "import pandas as pd\n",
    "\n",
    "def calculate_market_weighted_index(csv_file):\n",
    "    # Load the CSV file\n",
    "    df = pd.read_csv(csv_file, index_col=0)\n",
    "    \n",
    "    # Initialize a dictionary to store the index prices for each year\n",
    "    index_prices = {}\n",
    "\n",
    "    # For each year, calculate the market-weighted index price\n",
    "    years = ['2020', '2021', '2022', '2023']\n",
    "    for year in years:\n",
    "        # Only consider columns for the specified year\n",
    "        close_column = f'{year}_Close'\n",
    "        cap_column = f'{year}_MarketCap'\n",
    "\n",
    "        # Ensure the data is numeric, handling any potential non-numeric types that could arise from missing data\n",
    "        df[close_column] = pd.to_numeric(df[close_column], errors='coerce')\n",
    "        df[cap_column] = pd.to_numeric(df[cap_column], errors='coerce')\n",
    "\n",
    "        # Drop rows where any of the required data is missing\n",
    "        valid_data = df.dropna(subset=[close_column, cap_column])\n",
    "\n",
    "        # Calculate total market capitalization\n",
    "        total_market_cap = valid_data[cap_column].sum()\n",
    "\n",
    "        # Calculate weighted sum of the closing prices\n",
    "        weighted_sum = (valid_data[close_column] * valid_data[cap_column]).sum()\n",
    "\n",
    "        # Calculate the market-weighted index price\n",
    "        if total_market_cap > 0:  # Avoid division by zero\n",
    "            index_price = weighted_sum / total_market_cap\n",
    "        else:\n",
    "            index_price = None\n",
    "        \n",
    "        # Store the index price in the dictionary\n",
    "        index_prices[year] = index_price\n",
    "\n",
    "    # Convert the dictionary to a DataFrame for better visualization and further use\n",
    "    index_prices_df = pd.DataFrame.from_dict(index_prices, orient='index', columns=['Market_Weighted_Index_Price'])\n",
    "    index_prices_df.index.name = 'Year'\n",
    "\n",
    "    return index_prices_df\n",
    "\n",
    "# Example usage\n",
    "csv_file = 'Stalwart_Return_MarketCap.csv'\n",
    "index_prices_df = calculate_market_weighted_index(csv_file)\n",
    "print(index_prices_df)\n"
   ]
  },
  {
   "cell_type": "code",
   "execution_count": 53,
   "id": "17519218-f468-4391-931e-9490e7698862",
   "metadata": {},
   "outputs": [
    {
     "name": "stderr",
     "output_type": "stream",
     "text": [
      "[*********************100%%**********************]  1 of 1 completed\n",
      "[*********************100%%**********************]  1 of 1 completed\n",
      "[*********************100%%**********************]  1 of 1 completed\n",
      "[*********************100%%**********************]  1 of 1 completed\n",
      "[*********************100%%**********************]  1 of 1 completed\n",
      "[*********************100%%**********************]  1 of 1 completed\n",
      "[*********************100%%**********************]  1 of 1 completed\n",
      "[*********************100%%**********************]  1 of 1 completed\n",
      "[*********************100%%**********************]  1 of 1 completed\n",
      "[*********************100%%**********************]  1 of 1 completed\n",
      "[*********************100%%**********************]  1 of 1 completed\n",
      "[*********************100%%**********************]  1 of 1 completed\n",
      "[*********************100%%**********************]  1 of 1 completed\n",
      "[*********************100%%**********************]  1 of 1 completed\n",
      "[*********************100%%**********************]  1 of 1 completed\n",
      "[*********************100%%**********************]  1 of 1 completed\n",
      "[*********************100%%**********************]  1 of 1 completed\n",
      "[*********************100%%**********************]  1 of 1 completed\n",
      "[*********************100%%**********************]  1 of 1 completed\n",
      "[*********************100%%**********************]  1 of 1 completed\n",
      "[*********************100%%**********************]  1 of 1 completed\n",
      "[*********************100%%**********************]  1 of 1 completed\n",
      "[*********************100%%**********************]  1 of 1 completed\n",
      "[*********************100%%**********************]  1 of 1 completed\n",
      "[*********************100%%**********************]  1 of 1 completed\n",
      "[*********************100%%**********************]  1 of 1 completed\n",
      "[*********************100%%**********************]  1 of 1 completed\n",
      "[*********************100%%**********************]  1 of 1 completed\n",
      "[*********************100%%**********************]  1 of 1 completed\n",
      "[*********************100%%**********************]  1 of 1 completed\n",
      "[*********************100%%**********************]  1 of 1 completed\n",
      "[*********************100%%**********************]  1 of 1 completed\n",
      "[*********************100%%**********************]  1 of 1 completed\n",
      "[*********************100%%**********************]  1 of 1 completed\n",
      "[*********************100%%**********************]  1 of 1 completed\n",
      "[*********************100%%**********************]  1 of 1 completed\n",
      "[*********************100%%**********************]  1 of 1 completed\n",
      "[*********************100%%**********************]  1 of 1 completed\n",
      "[*********************100%%**********************]  1 of 1 completed\n",
      "[*********************100%%**********************]  1 of 1 completed"
     ]
    },
    {
     "name": "stdout",
     "output_type": "stream",
     "text": [
      "      2020_Close  2020_MarketCap  2021_Close  2021_MarketCap  2022_Close  \\\n",
      "A     117.389999     40160256000  160.880005     40160256000  149.649994   \n",
      "AAPL  133.720001   2630218678272  178.199997   2630218678272  129.929993   \n",
      "BRO    46.250000     23259203584   69.809998     23259203584   56.970001   \n",
      "CRAI   50.610001      1003384384   92.430000      1003384384  122.430000   \n",
      "CW    116.260002      9700917248  137.649994      9700917248  166.990005   \n",
      "KEYS  131.240005     25823815680  206.800003     25823815680  171.070007   \n",
      "LSTR  134.259995      6237250560  178.330002      6237250560  162.899994   \n",
      "MSI   166.979996     56504422400  271.089996     56504422400  257.709991   \n",
      "ROG   153.759995      2221814528  273.079987      2221814528  119.339996   \n",
      "RPM    90.500000     13766052864   99.930000     13766052864   97.449997   \n",
      "\n",
      "      2022_MarketCap  2023_Close  2023_MarketCap  \n",
      "A        40160256000  139.029999     40160256000  \n",
      "AAPL   2630218678272  192.529999   2630218678272  \n",
      "BRO      23259203584   71.110001     23259203584  \n",
      "CRAI      1003384384   98.849998      1003384384  \n",
      "CW        9700917248  222.789993      9700917248  \n",
      "KEYS     25823815680  159.089996     25823815680  \n",
      "LSTR      6237250560  193.649994      6237250560  \n",
      "MSI      56504422400  313.089996     56504422400  \n",
      "ROG       2221814528  132.070007      2221814528  \n",
      "RPM      13766052864  111.629997     13766052864  \n"
     ]
    },
    {
     "name": "stderr",
     "output_type": "stream",
     "text": [
      "\n"
     ]
    }
   ],
   "source": [
    "# Fast Grower Closing Prices and Market Cap \n",
    "import pandas as pd\n",
    "import yfinance as yf\n",
    "\n",
    "def get_closing_prices_and_market_cap_from_csv(csv_file, years):\n",
    "    # Read the CSV file\n",
    "    df = pd.read_csv(csv_file)\n",
    "    \n",
    "    # Extract tickers from the \"Ticker\" column\n",
    "    tickers = df['Ticker'].tolist()\n",
    "\n",
    "    data = {}\n",
    "\n",
    "    for year in years:\n",
    "        for ticker in tickers:\n",
    "            try:\n",
    "                # Fetch stock data using yfinance for the specified year\n",
    "                stock_data = yf.download(ticker, start=f'{year}-01-01', end=f'{year}-12-31')\n",
    "                \n",
    "                # Extract closing price for the last trading day of the year\n",
    "                closing_price = stock_data['Close'].iloc[-1]\n",
    "                \n",
    "                # Fetch market cap\n",
    "                ticker_info = yf.Ticker(ticker)\n",
    "                market_cap = ticker_info.info['marketCap']\n",
    "                \n",
    "                # Prepare data structure\n",
    "                if ticker not in data:\n",
    "                    data[ticker] = {}\n",
    "\n",
    "                data[ticker][f'{year}_Close'] = closing_price\n",
    "                data[ticker][f'{year}_MarketCap'] = market_cap\n",
    "\n",
    "            except Exception as e:\n",
    "                print(f\"Error fetching data for {ticker} in {year}: {e}\")\n",
    "\n",
    "    # Convert dictionary to DataFrame\n",
    "    data_df = pd.DataFrame.from_dict(data, orient='index')\n",
    "    \n",
    "    # Save the DataFrame to a CSV file\n",
    "    data_df.to_csv('Fast_Grower_Return_MarketCap.csv')\n",
    "\n",
    "    return data_df\n",
    "\n",
    "# Example usage:\n",
    "csv_file = \"Screened_Fast_Grower.csv\"\n",
    "years = [2020, 2021, 2022, 2023]\n",
    "closing_prices_and_caps = get_closing_prices_and_market_cap_from_csv(csv_file, years)\n",
    "print(closing_prices_and_caps)\n"
   ]
  },
  {
   "cell_type": "code",
   "execution_count": 54,
   "id": "ecb7213c-aa57-4f27-9210-b6723e69c332",
   "metadata": {},
   "outputs": [
    {
     "name": "stdout",
     "output_type": "stream",
     "text": [
      "      Market_Weighted_Index_Price\n",
      "Year                             \n",
      "2020                   133.123735\n",
      "2021                   178.707432\n",
      "2022                   132.587435\n",
      "2023                   192.506663\n"
     ]
    }
   ],
   "source": [
    "# Fast Grower Market Weighted Return \n",
    "import pandas as pd\n",
    "\n",
    "def calculate_market_weighted_index(csv_file):\n",
    "    # Load the CSV file\n",
    "    df = pd.read_csv(csv_file, index_col=0)\n",
    "    \n",
    "    # Initialize a dictionary to store the index prices for each year\n",
    "    index_prices = {}\n",
    "\n",
    "    # For each year, calculate the market-weighted index price\n",
    "    years = ['2020', '2021', '2022', '2023']\n",
    "    for year in years:\n",
    "        # Only consider columns for the specified year\n",
    "        close_column = f'{year}_Close'\n",
    "        cap_column = f'{year}_MarketCap'\n",
    "\n",
    "        # Ensure the data is numeric, handling any potential non-numeric types that could arise from missing data\n",
    "        df[close_column] = pd.to_numeric(df[close_column], errors='coerce')\n",
    "        df[cap_column] = pd.to_numeric(df[cap_column], errors='coerce')\n",
    "\n",
    "        # Drop rows where any of the required data is missing\n",
    "        valid_data = df.dropna(subset=[close_column, cap_column])\n",
    "\n",
    "        # Calculate total market capitalization\n",
    "        total_market_cap = valid_data[cap_column].sum()\n",
    "\n",
    "        # Calculate weighted sum of the closing prices\n",
    "        weighted_sum = (valid_data[close_column] * valid_data[cap_column]).sum()\n",
    "\n",
    "        # Calculate the market-weighted index price\n",
    "        if total_market_cap > 0:  # Avoid division by zero\n",
    "            index_price = weighted_sum / total_market_cap\n",
    "        else:\n",
    "            index_price = None\n",
    "        \n",
    "        # Store the index price in the dictionary\n",
    "        index_prices[year] = index_price\n",
    "\n",
    "    # Convert the dictionary to a DataFrame for better visualization and further use\n",
    "    index_prices_df = pd.DataFrame.from_dict(index_prices, orient='index', columns=['Market_Weighted_Index_Price'])\n",
    "    index_prices_df.index.name = 'Year'\n",
    "\n",
    "    return index_prices_df\n",
    "\n",
    "# Example usage\n",
    "csv_file = 'Fast_Grower_Return_MarketCap.csv'\n",
    "index_prices_df = calculate_market_weighted_index(csv_file)\n",
    "print(index_prices_df)\n"
   ]
  },
  {
   "cell_type": "markdown",
   "id": "02558653-8b68-4616-9b56-45162983eb73",
   "metadata": {},
   "source": [
    "# Analysis\n"
   ]
  },
  {
   "cell_type": "code",
   "execution_count": 56,
   "id": "ed32a0b3-8078-4dd3-8c29-11a95fbc2f95",
   "metadata": {},
   "outputs": [
    {
     "data": {
      "image/png": "[encoded data removed]",
      "text/plain": [
       "<Figure size 1000x600 with 1 Axes>"
      ]
     },
     "metadata": {},
     "output_type": "display_data"
    }
   ],
   "source": [
    "import pandas as pd\n",
    "import numpy as np\n",
    "import matplotlib.pyplot as plt\n",
    "\n",
    "# Define the data for each index\n",
    "# Data from \n",
    "data = {\n",
    "    'Slow Grower': {\n",
    "        2020: 142.445817,\n",
    "        2021: 176.943700,\n",
    "        2022: 162.683845,\n",
    "        2023: 205.432561\n",
    "    },\n",
    "    'Stalwart': {\n",
    "        2020: 351.026617,\n",
    "        2021: 487.125190,\n",
    "        2022: 409.087925,\n",
    "        2023: 597.787763\n",
    "    },\n",
    "    'Fast Grower': {\n",
    "        2020: 133.123735,\n",
    "        2021: 178.707432,\n",
    "        2022: 132.587435,\n",
    "        2023: 192.506663\n",
    "    },\n",
    "    'S&P 500': {\n",
    "        2020: 3756.070068,\n",
    "        2021: 4766.180176,\n",
    "        2022: 3839.500000,\n",
    "        2023: 4769.830078\n",
    "    },\n",
    "    'Wilshire 5000': {\n",
    "        2020: 39456.660156,\n",
    "        2021: 48461.160156,\n",
    "        2022: 38073.941406,\n",
    "        2023: 48295.378906\n",
    "    }\n",
    "}\n",
    "\n",
    "\n",
    "# Function to calculate CAGR\n",
    "def calculate_cagr(start_value, end_value, periods):\n",
    "    return (end_value / start_value) ** (1 / periods) - 1\n",
    "\n",
    "# Create a DataFrame from the data\n",
    "df = pd.DataFrame(data)\n",
    "\n",
    "# Normalize index values by dividing each value by the starting value (2020 value)\n",
    "normalized_df = df.divide(df.iloc[0])\n",
    "\n",
    "# Calculate CAGR for each series and add to the plot\n",
    "cagr_values = {}\n",
    "for column in normalized_df.columns:\n",
    "    cagr = calculate_cagr(normalized_df[column].iloc[0], normalized_df[column].iloc[-1], len(normalized_df[column]) - 1)\n",
    "    cagr_values[column] = f\"{cagr:.2%}\"\n",
    "\n",
    "# Plotting\n",
    "fig, ax = plt.subplots(figsize=(10, 6))\n",
    "for column in normalized_df.columns:\n",
    "    ax.plot(normalized_df.index, normalized_df[column], marker='o', label=f\"{column} (CAGR: {cagr_values[column]})\")\n",
    "\n",
    "ax.set_title('Normalized Index Performance Comparison 2020-2023')\n",
    "ax.set_xlabel('Year')\n",
    "ax.set_ylabel('Normalized Index Value')\n",
    "ax.legend()\n",
    "plt.grid(True)\n",
    "plt.show()"
   ]
  }
 ],
 "metadata": {
  "kernelspec": {
   "display_name": "Python 3 (ipykernel)",
   "language": "python",
   "name": "python3"
  },
  "language_info": {
   "codemirror_mode": {
    "name": "ipython",
    "version": 3
   },
   "file_extension": ".py",
   "mimetype": "text/x-python",
   "name": "python",
   "nbconvert_exporter": "python",
   "pygments_lexer": "ipython3",
   "version": "3.11.5"
  }
 },
 "nbformat": 4,
 "nbformat_minor": 5
}
